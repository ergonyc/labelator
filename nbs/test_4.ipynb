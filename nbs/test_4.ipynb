{
 "cells": [
  {
   "cell_type": "code",
   "execution_count": null,
   "metadata": {},
   "outputs": [],
   "source": []
  },
  {
   "cell_type": "markdown",
   "metadata": {},
   "source": [
    "## create a single anndata file with our raw count data.\n"
   ]
  },
  {
   "cell_type": "code",
   "execution_count": 1,
   "metadata": {},
   "outputs": [],
   "source": [
    "\n",
    "import anndata as ad\n",
    "import pandas as pd\n",
    "from scipy.sparse import csr_matrix, vstack, hstack, coo_matrix\n",
    "import numpy as np\n",
    "from pathlib import Path\n"
   ]
  },
  {
   "cell_type": "code",
   "execution_count": 2,
   "metadata": {},
   "outputs": [
    {
     "data": {
      "text/plain": [
       "[PosixPath('/Users/ergonyc/Projects/SingleCell/labelator/data/chunk0010_output_data.h5ad'),\n",
       " PosixPath('/Users/ergonyc/Projects/SingleCell/labelator/data/chunk0020_output_data.h5ad'),\n",
       " PosixPath('/Users/ergonyc/Projects/SingleCell/labelator/data/chunk0030_output_data.h5ad'),\n",
       " PosixPath('/Users/ergonyc/Projects/SingleCell/labelator/data/chunk0040_output_data.h5ad'),\n",
       " PosixPath('/Users/ergonyc/Projects/SingleCell/labelator/data/chunk0050_output_data.h5ad'),\n",
       " PosixPath('/Users/ergonyc/Projects/SingleCell/labelator/data/chunk0060_output_data.h5ad'),\n",
       " PosixPath('/Users/ergonyc/Projects/SingleCell/labelator/data/chunk0070_output_data.h5ad'),\n",
       " PosixPath('/Users/ergonyc/Projects/SingleCell/labelator/data/chunk0080_output_data.h5ad'),\n",
       " PosixPath('/Users/ergonyc/Projects/SingleCell/labelator/data/chunk0090_output_data.h5ad'),\n",
       " PosixPath('/Users/ergonyc/Projects/SingleCell/labelator/data/chunk0100_output_data.h5ad'),\n",
       " PosixPath('/Users/ergonyc/Projects/SingleCell/labelator/data/chunk0110_output_data.h5ad'),\n",
       " PosixPath('/Users/ergonyc/Projects/SingleCell/labelator/data/chunk0120_output_data.h5ad'),\n",
       " PosixPath('/Users/ergonyc/Projects/SingleCell/labelator/data/chunk0130_output_data.h5ad'),\n",
       " PosixPath('/Users/ergonyc/Projects/SingleCell/labelator/data/chunk0140_output_data.h5ad'),\n",
       " PosixPath('/Users/ergonyc/Projects/SingleCell/labelator/data/chunk0150_output_data.h5ad'),\n",
       " PosixPath('/Users/ergonyc/Projects/SingleCell/labelator/data/chunk0160_output_data.h5ad'),\n",
       " PosixPath('/Users/ergonyc/Projects/SingleCell/labelator/data/chunk0170_output_data.h5ad'),\n",
       " PosixPath('/Users/ergonyc/Projects/SingleCell/labelator/data/chunk0180_output_data.h5ad'),\n",
       " PosixPath('/Users/ergonyc/Projects/SingleCell/labelator/data/chunk0190_output_data.h5ad'),\n",
       " PosixPath('/Users/ergonyc/Projects/SingleCell/labelator/data/chunk0200_output_data.h5ad'),\n",
       " PosixPath('/Users/ergonyc/Projects/SingleCell/labelator/data/chunk0210_output_data.h5ad'),\n",
       " PosixPath('/Users/ergonyc/Projects/SingleCell/labelator/data/chunk0220_output_data.h5ad'),\n",
       " PosixPath('/Users/ergonyc/Projects/SingleCell/labelator/data/chunk0230_output_data.h5ad'),\n",
       " PosixPath('/Users/ergonyc/Projects/SingleCell/labelator/data/chunk0240_output_data.h5ad'),\n",
       " PosixPath('/Users/ergonyc/Projects/SingleCell/labelator/data/chunk0250_output_data.h5ad'),\n",
       " PosixPath('/Users/ergonyc/Projects/SingleCell/labelator/data/chunk0260_output_data.h5ad'),\n",
       " PosixPath('/Users/ergonyc/Projects/SingleCell/labelator/data/chunk0270_output_data.h5ad'),\n",
       " PosixPath('/Users/ergonyc/Projects/SingleCell/labelator/data/chunk0280_output_data.h5ad'),\n",
       " PosixPath('/Users/ergonyc/Projects/SingleCell/labelator/data/chunk0290_output_data.h5ad'),\n",
       " PosixPath('/Users/ergonyc/Projects/SingleCell/labelator/data/chunk0300_output_data.h5ad'),\n",
       " PosixPath('/Users/ergonyc/Projects/SingleCell/labelator/data/chunk0310_output_data.h5ad'),\n",
       " PosixPath('/Users/ergonyc/Projects/SingleCell/labelator/data/chunk0320_output_data.h5ad'),\n",
       " PosixPath('/Users/ergonyc/Projects/SingleCell/labelator/data/chunk0330_output_data.h5ad'),\n",
       " PosixPath('/Users/ergonyc/Projects/SingleCell/labelator/data/chunk0340_output_data.h5ad'),\n",
       " PosixPath('/Users/ergonyc/Projects/SingleCell/labelator/data/chunk0350_output_data.h5ad'),\n",
       " PosixPath('/Users/ergonyc/Projects/SingleCell/labelator/data/chunk0360_output_data.h5ad'),\n",
       " PosixPath('/Users/ergonyc/Projects/SingleCell/labelator/data/chunk0368_output_data.h5ad')]"
      ]
     },
     "execution_count": 2,
     "metadata": {},
     "output_type": "execute_result"
    }
   ],
   "source": [
    "data_folder = Path.cwd() / \"data\"\n",
    "pattern = f\"chunk0*_output_data.h5ad\"\n",
    "chunk_fs = sorted(data_folder.glob(pattern))\n",
    "chunk_fs"
   ]
  },
  {
   "cell_type": "code",
   "execution_count": 3,
   "metadata": {},
   "outputs": [],
   "source": [
    "adata = ad.read_h5ad(\"/Users/ergonyc/Projects/SingleCell/labelator/data/brain_atlas_anndata.h5ad\")\n",
    "adata.var_names_make_unique()\n",
    "features = adata.var_names.tolist()\n",
    "\n",
    "del adata"
   ]
  },
  {
   "cell_type": "code",
   "execution_count": 4,
   "metadata": {},
   "outputs": [],
   "source": [
    "# Assuming 'targets' is a set of strings that you're looking for\n",
    "targets_set = set(features)  # Make sure this is a set for O(1) lookups\n",
    "\n",
    "matched_lines = []  # List to store matched lines if necessary\n",
    "count_matrix_file_path = \"./data/brain_atlas_full_counts_table.csv\"\n",
    "# Open the large CSV file\n",
    "output_file_path = './data/counts_3k.csv'\n",
    "\n"
   ]
  },
  {
   "cell_type": "code",
   "execution_count": 11,
   "metadata": {},
   "outputs": [],
   "source": [
    "\n",
    "\n",
    "\n",
    "\n",
    "def read_csv_to_coo_matrix(file_path, filter_features=None):\n",
    "\n",
    "    if filter_features is None:\n",
    "        targets_set = set()\n",
    "        process_all = True\n",
    "    else:\n",
    "        targets_set = set(filter_features)\n",
    "        process_all = False\n",
    "\n",
    "\n",
    "    # Initialize lists to hold the COO data\n",
    "    row_indices = []\n",
    "    col_indices = []\n",
    "    data = []\n",
    "    ids = []\n",
    "    keep_rows = []\n",
    "\n",
    "    row_idx = 0\n",
    "\n",
    "    with open(file_path, 'r') as file:\n",
    "        print(f\"opened {file_path}\")\n",
    "        # Read the header line\n",
    "        header = file.readline()\n",
    "        # Read the rest of the lines\n",
    "        for frow_idx, line in enumerate(file):\n",
    "            # Get the first entry by reading up to the first comma\n",
    "            first_entry = line.split(',', 1)[0]\n",
    "            # Check if the first entry is a target\n",
    "            if first_entry in targets_set or process_all:\n",
    "                keep_rows.append(frow_idx)\n",
    "                # read the entire line\n",
    "                id,*cnts = line.strip().split(',')\n",
    "                ids.append(id)\n",
    "                # Split the line into values and convert them to 8-bit integers\n",
    "                values = np.array(cnts, dtype=np.uint8)\n",
    "                \n",
    "                # Get the non-zero indices and corresponding values\n",
    "                non_zero_indices = np.nonzero(values)[0]\n",
    "                non_zero_values = values[non_zero_indices]\n",
    "                \n",
    "                # Append the data to the COO format lists\n",
    "                row_indices.extend([row_idx] * len(non_zero_indices))\n",
    "                col_indices.extend(non_zero_indices)\n",
    "                data.extend(non_zero_values)\n",
    "                # incriment the row index\n",
    "                row_idx += 1\n",
    "\n",
    "\n",
    "    # Create the COO matrix\n",
    "    num_rows = row_idx\n",
    "    header = header.strip().split(',')\n",
    "    # remove \"genes\" from header\n",
    "    header = header[1:]\n",
    "    num_cols = len(header)\n",
    "    matrix_coo = coo_matrix((data, (row_indices, col_indices)), shape=(num_rows, num_cols), dtype=np.uint8)\n",
    "    \n",
    "    return matrix_coo, header, ids, keep_rows\n",
    "\n",
    "\n",
    "\n",
    "\n",
    "\n",
    "def make_anndata_from_bigcsv(big_csv_file_path, filter_features=None, meta_obs=None, meta_var=None):\n",
    "    \"\"\" create an anndata object from a large csv file \"\"\"\n",
    "\n",
    "    # Call the function with the file path\n",
    "    sparse_matrix_coo, cols, idxs, kept = read_csv_to_coo_matrix(big_csv_file_path, filter_features=filter_features)\n",
    "\n",
    "    # Convert the COO matrix to a CSR matrix\n",
    "    if meta_obs is None:\n",
    "        # obs_ = obs_.merge(meta_obs, left_index=True, right_index=True)\n",
    "        meta_obs = pd.DataFrame(cols, index=cols, columns=['cell_ids'])\n",
    "    else:\n",
    "        meta_obs['cell_ids'] = cols\n",
    "\n",
    "    if meta_var is None:\n",
    "        # var_ = var_.merge(meta_var, left_index=True, right_index=True)\n",
    "        meta_var = pd.DataFrame({'gene_ids':idxs, 'big_idx':kept}, index=idxs)\n",
    "    else:\n",
    "        meta_var['gene_ids'] = idxs\n",
    "        meta_var['big_idx'] = kept\n",
    "\n",
    "\n",
    "    adat_out = ad.AnnData(X=sparse_matrix_coo.transpose().tocsr(), obs=meta_obs, var=meta_var)\n",
    "    return adat_out\n"
   ]
  },
  {
   "cell_type": "code",
   "execution_count": 7,
   "metadata": {},
   "outputs": [],
   "source": [
    "\n",
    "# # Call the function with the file path\n",
    "# sparse_matrix_coo, cols, idxs = read_csv_to_coo_matrix(output_file_path)\n"
   ]
  },
  {
   "cell_type": "code",
   "execution_count": 47,
   "metadata": {},
   "outputs": [],
   "source": [
    "sparse_matrix_csr = sparse_matrix_coo.transpose().tocsr()\n",
    "# If you need to convert to CSR\n",
    "# sparse_matrix_csr = sparse_matrix_coo.tocsr()\n"
   ]
  },
  {
   "cell_type": "code",
   "execution_count": 8,
   "metadata": {},
   "outputs": [],
   "source": [
    "obs = pd.read_csv(\"data/cell_barcode_labels.csv\", index_col=0)\n",
    "\n"
   ]
  },
  {
   "cell_type": "code",
   "execution_count": 9,
   "metadata": {},
   "outputs": [],
   "source": [
    "big_csv_file_path = \"./data/brain_atlas_full_counts_table.csv\"\n",
    "# Open the large CSV file\n",
    "small_csv_file_path = './data/counts_3k.csv'\n"
   ]
  },
  {
   "cell_type": "code",
   "execution_count": 12,
   "metadata": {},
   "outputs": [
    {
     "name": "stdout",
     "output_type": "stream",
     "text": [
      "opened ./data/brain_atlas_full_counts_table.csv\n"
     ]
    }
   ],
   "source": [
    "ad1 = make_anndata_from_bigcsv(big_csv_file_path, filter_features=features, meta_obs=obs, meta_var=None)\n"
   ]
  },
  {
   "cell_type": "code",
   "execution_count": 13,
   "metadata": {},
   "outputs": [
    {
     "name": "stdout",
     "output_type": "stream",
     "text": [
      "opened ./data/counts_3k.csv\n"
     ]
    }
   ],
   "source": [
    "ad2 = make_anndata_from_bigcsv(small_csv_file_path, filter_features=features, meta_obs=obs, meta_var=None)\n"
   ]
  },
  {
   "cell_type": "code",
   "execution_count": 14,
   "metadata": {},
   "outputs": [
    {
     "name": "stdout",
     "output_type": "stream",
     "text": [
      "opened ./data/counts_3k.csv\n"
     ]
    }
   ],
   "source": [
    "ad3 = make_anndata_from_bigcsv(small_csv_file_path, meta_obs=obs, meta_var=None)\n"
   ]
  },
  {
   "cell_type": "code",
   "execution_count": 16,
   "metadata": {},
   "outputs": [
    {
     "ename": "NameError",
     "evalue": "name 'ad1' is not defined",
     "output_type": "error",
     "traceback": [
      "\u001b[0;31m---------------------------------------------------------------------------\u001b[0m",
      "\u001b[0;31mNameError\u001b[0m                                 Traceback (most recent call last)",
      "\u001b[1;32m/Users/ergonyc/Projects/SingleCell/labelator/test_4.ipynb Cell 15\u001b[0m line \u001b[0;36m1\n\u001b[0;32m----> <a href='vscode-notebook-cell:/Users/ergonyc/Projects/SingleCell/labelator/test_4.ipynb#Y153sZmlsZQ%3D%3D?line=0'>1</a>\u001b[0m ad1\u001b[39m.\u001b[39mwrite_h5ad(\u001b[39m\"\u001b[39m\u001b[39m./data/ad1.h5ad\u001b[39m\u001b[39m\"\u001b[39m)\n\u001b[1;32m      <a href='vscode-notebook-cell:/Users/ergonyc/Projects/SingleCell/labelator/test_4.ipynb#Y153sZmlsZQ%3D%3D?line=1'>2</a>\u001b[0m ad2\u001b[39m.\u001b[39mwrite_h5ad(\u001b[39m\"\u001b[39m\u001b[39m./data/ad2.h5ad\u001b[39m\u001b[39m\"\u001b[39m)\n\u001b[1;32m      <a href='vscode-notebook-cell:/Users/ergonyc/Projects/SingleCell/labelator/test_4.ipynb#Y153sZmlsZQ%3D%3D?line=2'>3</a>\u001b[0m ad3\u001b[39m.\u001b[39mwrite_h5ad(\u001b[39m\"\u001b[39m\u001b[39m./data/ad3.h5ad\u001b[39m\u001b[39m\"\u001b[39m)\n",
      "\u001b[0;31mNameError\u001b[0m: name 'ad1' is not defined"
     ]
    }
   ],
   "source": [
    "ad1.write_h5ad(\"./data/ad1.h5ad\")\n",
    "ad2.write_h5ad(\"./data/ad2.h5ad\")\n",
    "ad3.write_h5ad(\"./data/ad3.h5ad\")\n",
    "\n",
    "del ad1, ad2, ad3, obs"
   ]
  },
  {
   "cell_type": "code",
   "execution_count": 32,
   "metadata": {},
   "outputs": [],
   "source": [
    "\n",
    "var_ = pd.DataFrame(idxs,index=idxs, columns=['gene_ids'])\n",
    "obs_ = pd.DataFrame(cols, columns=['cell_ids'])\n"
   ]
  },
  {
   "cell_type": "code",
   "execution_count": 33,
   "metadata": {},
   "outputs": [
    {
     "data": {
      "text/html": [
       "<div>\n",
       "<style scoped>\n",
       "    .dataframe tbody tr th:only-of-type {\n",
       "        vertical-align: middle;\n",
       "    }\n",
       "\n",
       "    .dataframe tbody tr th {\n",
       "        vertical-align: top;\n",
       "    }\n",
       "\n",
       "    .dataframe thead th {\n",
       "        text-align: right;\n",
       "    }\n",
       "</style>\n",
       "<table border=\"1\" class=\"dataframe\">\n",
       "  <thead>\n",
       "    <tr style=\"text-align: right;\">\n",
       "      <th></th>\n",
       "      <th>gene_ids</th>\n",
       "    </tr>\n",
       "  </thead>\n",
       "  <tbody>\n",
       "    <tr>\n",
       "      <th>PRDM16</th>\n",
       "      <td>PRDM16</td>\n",
       "    </tr>\n",
       "    <tr>\n",
       "      <th>SLC2A5</th>\n",
       "      <td>SLC2A5</td>\n",
       "    </tr>\n",
       "    <tr>\n",
       "      <th>SPSB1</th>\n",
       "      <td>SPSB1</td>\n",
       "    </tr>\n",
       "    <tr>\n",
       "      <th>SLC25A33</th>\n",
       "      <td>SLC25A33</td>\n",
       "    </tr>\n",
       "    <tr>\n",
       "      <th>CORT</th>\n",
       "      <td>CORT</td>\n",
       "    </tr>\n",
       "  </tbody>\n",
       "</table>\n",
       "</div>"
      ],
      "text/plain": [
       "          gene_ids\n",
       "PRDM16      PRDM16\n",
       "SLC2A5      SLC2A5\n",
       "SPSB1        SPSB1\n",
       "SLC25A33  SLC25A33\n",
       "CORT          CORT"
      ]
     },
     "execution_count": 33,
     "metadata": {},
     "output_type": "execute_result"
    }
   ],
   "source": [
    "var_.head()"
   ]
  },
  {
   "cell_type": "code",
   "execution_count": 22,
   "metadata": {},
   "outputs": [
    {
     "data": {
      "text/html": [
       "<div>\n",
       "<style scoped>\n",
       "    .dataframe tbody tr th:only-of-type {\n",
       "        vertical-align: middle;\n",
       "    }\n",
       "\n",
       "    .dataframe tbody tr th {\n",
       "        vertical-align: top;\n",
       "    }\n",
       "\n",
       "    .dataframe thead th {\n",
       "        text-align: right;\n",
       "    }\n",
       "</style>\n",
       "<table border=\"1\" class=\"dataframe\">\n",
       "  <thead>\n",
       "    <tr style=\"text-align: right;\">\n",
       "      <th></th>\n",
       "      <th>gene_ids</th>\n",
       "    </tr>\n",
       "  </thead>\n",
       "  <tbody>\n",
       "    <tr>\n",
       "      <th>0</th>\n",
       "      <td>PRDM16</td>\n",
       "    </tr>\n",
       "    <tr>\n",
       "      <th>1</th>\n",
       "      <td>SLC2A5</td>\n",
       "    </tr>\n",
       "    <tr>\n",
       "      <th>2</th>\n",
       "      <td>SPSB1</td>\n",
       "    </tr>\n",
       "    <tr>\n",
       "      <th>3</th>\n",
       "      <td>SLC25A33</td>\n",
       "    </tr>\n",
       "    <tr>\n",
       "      <th>4</th>\n",
       "      <td>CORT</td>\n",
       "    </tr>\n",
       "  </tbody>\n",
       "</table>\n",
       "</div>"
      ],
      "text/plain": [
       "   gene_ids\n",
       "0    PRDM16\n",
       "1    SLC2A5\n",
       "2     SPSB1\n",
       "3  SLC25A33\n",
       "4      CORT"
      ]
     },
     "execution_count": 22,
     "metadata": {},
     "output_type": "execute_result"
    }
   ],
   "source": [
    "var_.head()"
   ]
  },
  {
   "cell_type": "code",
   "execution_count": 37,
   "metadata": {},
   "outputs": [],
   "source": [
    "obs['cell_ids'] = cols"
   ]
  },
  {
   "cell_type": "code",
   "execution_count": 38,
   "metadata": {},
   "outputs": [],
   "source": [
    "\n",
    "adat = ad.AnnData(X=sparse_matrix_csr, obs=obs, var=var_)"
   ]
  },
  {
   "cell_type": "code",
   "execution_count": 39,
   "metadata": {},
   "outputs": [
    {
     "data": {
      "text/html": [
       "<div>\n",
       "<style scoped>\n",
       "    .dataframe tbody tr th:only-of-type {\n",
       "        vertical-align: middle;\n",
       "    }\n",
       "\n",
       "    .dataframe tbody tr th {\n",
       "        vertical-align: top;\n",
       "    }\n",
       "\n",
       "    .dataframe thead th {\n",
       "        text-align: right;\n",
       "    }\n",
       "</style>\n",
       "<table border=\"1\" class=\"dataframe\">\n",
       "  <thead>\n",
       "    <tr style=\"text-align: right;\">\n",
       "      <th></th>\n",
       "      <th>seurat_clusters</th>\n",
       "      <th>cell_type</th>\n",
       "      <th>sample</th>\n",
       "      <th>cell_ids</th>\n",
       "    </tr>\n",
       "    <tr>\n",
       "      <th>cells</th>\n",
       "      <th></th>\n",
       "      <th></th>\n",
       "      <th></th>\n",
       "      <th></th>\n",
       "    </tr>\n",
       "  </thead>\n",
       "  <tbody>\n",
       "    <tr>\n",
       "      <th>GGCCTAATCGATTTAG-1_1</th>\n",
       "      <td>11</td>\n",
       "      <td>Mature neurons</td>\n",
       "      <td>KEN-1070-ARC</td>\n",
       "      <td>GGCCTAATCGATTTAG-1_1</td>\n",
       "    </tr>\n",
       "    <tr>\n",
       "      <th>TAGTAACGTAGTCAAT-1_1</th>\n",
       "      <td>5</td>\n",
       "      <td>Mature neurons</td>\n",
       "      <td>KEN-1070-ARC</td>\n",
       "      <td>TAGTAACGTAGTCAAT-1_1</td>\n",
       "    </tr>\n",
       "    <tr>\n",
       "      <th>GAAAGCCAGCAGCTCA-1_1</th>\n",
       "      <td>2</td>\n",
       "      <td>Oligodendrocytes</td>\n",
       "      <td>KEN-1070-ARC</td>\n",
       "      <td>GAAAGCCAGCAGCTCA-1_1</td>\n",
       "    </tr>\n",
       "    <tr>\n",
       "      <th>ACTCACCTCCTCCCTC-1_1</th>\n",
       "      <td>5</td>\n",
       "      <td>Mature neurons</td>\n",
       "      <td>KEN-1070-ARC</td>\n",
       "      <td>ACTCACCTCCTCCCTC-1_1</td>\n",
       "    </tr>\n",
       "    <tr>\n",
       "      <th>CTTCATCCAATCGCAC-1_1</th>\n",
       "      <td>11</td>\n",
       "      <td>Mature neurons</td>\n",
       "      <td>KEN-1070-ARC</td>\n",
       "      <td>CTTCATCCAATCGCAC-1_1</td>\n",
       "    </tr>\n",
       "  </tbody>\n",
       "</table>\n",
       "</div>"
      ],
      "text/plain": [
       "                      seurat_clusters         cell_type        sample   \n",
       "cells                                                                   \n",
       "GGCCTAATCGATTTAG-1_1               11    Mature neurons  KEN-1070-ARC  \\\n",
       "TAGTAACGTAGTCAAT-1_1                5    Mature neurons  KEN-1070-ARC   \n",
       "GAAAGCCAGCAGCTCA-1_1                2  Oligodendrocytes  KEN-1070-ARC   \n",
       "ACTCACCTCCTCCCTC-1_1                5    Mature neurons  KEN-1070-ARC   \n",
       "CTTCATCCAATCGCAC-1_1               11    Mature neurons  KEN-1070-ARC   \n",
       "\n",
       "                                  cell_ids  \n",
       "cells                                       \n",
       "GGCCTAATCGATTTAG-1_1  GGCCTAATCGATTTAG-1_1  \n",
       "TAGTAACGTAGTCAAT-1_1  TAGTAACGTAGTCAAT-1_1  \n",
       "GAAAGCCAGCAGCTCA-1_1  GAAAGCCAGCAGCTCA-1_1  \n",
       "ACTCACCTCCTCCCTC-1_1  ACTCACCTCCTCCCTC-1_1  \n",
       "CTTCATCCAATCGCAC-1_1  CTTCATCCAATCGCAC-1_1  "
      ]
     },
     "execution_count": 39,
     "metadata": {},
     "output_type": "execute_result"
    }
   ],
   "source": [
    "adat.obs.head()\n"
   ]
  },
  {
   "cell_type": "code",
   "execution_count": 5,
   "metadata": {},
   "outputs": [],
   "source": [
    "\n",
    "feats = []\n",
    "with open(count_matrix_file_path, 'r') as file:\n",
    "    # Read and store the first line if header information is needed\n",
    "    header_line = file.readline()\n",
    "    with open(output_file_path, 'w') as out_file:\n",
    "        # Iterate over each subsequent line in the file\n",
    "        out_file.write(header_line)  # Optionally write the header line\n",
    "\n",
    "        for line in file:\n",
    "            # Get the first entry by reading up to the first comma\n",
    "            first_entry = line.split(',', 1)[0]\n",
    "            feats.append(first_entry)\n",
    "            # Check if the first entry is a target\n",
    "            if first_entry in targets_set:\n",
    "                out_file.write(line)\n",
    "\n",
    "\n",
    "#                 # If it is a target, process the entire line\n",
    "#                 matched_lines.append(line.strip())  # Remove newline character\n",
    "                \n",
    "#                 # If you need to do more processing on this line, you can do it here\n",
    "#                 # For example, you could split the line by commas and do something with the fields\n",
    "#                 # fields = line.strip().split(',')\n"
   ]
  },
  {
   "cell_type": "code",
   "execution_count": 8,
   "metadata": {},
   "outputs": [],
   "source": [
    "\n",
    "# # Do something with the matched lines, like writing them to a new file\n",
    "linesarr=[]\n",
    "with open(output_file_path, 'r') as file:\n",
    "    colnms = file.readline()\n",
    "    for line in file:\n",
    "        # vals = np.fromstring(line, sep=',')\n",
    "        linesarr.append(line)\n",
    "        \n"
   ]
  },
  {
   "cell_type": "code",
   "execution_count": 10,
   "metadata": {},
   "outputs": [
    {
     "data": {
      "text/plain": [
       "['genes',\n",
       " 'GGCCTAATCGATTTAG-1_1',\n",
       " 'TAGTAACGTAGTCAAT-1_1',\n",
       " 'GAAAGCCAGCAGCTCA-1_1',\n",
       " 'ACTCACCTCCTCCCTC-1_1',\n",
       " 'CTTCATCCAATCGCAC-1_1',\n",
       " 'CAATCCTGTGTCCTGC-1_1',\n",
       " 'GTTAATGTCAAGCTAC-1_1',\n",
       " 'AAGCCACGTTGCAATG-1_1',\n",
       " 'CTTGGACCAATCATGT-1_1']"
      ]
     },
     "execution_count": 10,
     "metadata": {},
     "output_type": "execute_result"
    }
   ],
   "source": [
    "colnms = colnms.split(',')\n",
    "colnms[:10]"
   ]
  },
  {
   "cell_type": "code",
   "execution_count": 9,
   "metadata": {},
   "outputs": [],
   "source": [
    "ln = linesarr[0]\n",
    "id,*cnts = ln.split(',')\n",
    "\n",
    "ic = map(int,cnts)"
   ]
  },
  {
   "cell_type": "code",
   "execution_count": 11,
   "metadata": {},
   "outputs": [],
   "source": [
    "ic = list(ic)   "
   ]
  },
  {
   "cell_type": "code",
   "execution_count": 15,
   "metadata": {},
   "outputs": [
    {
     "data": {
      "text/plain": [
       "array([0, 0, 0, ..., 0, 0, 0], dtype=uint8)"
      ]
     },
     "execution_count": 15,
     "metadata": {},
     "output_type": "execute_result"
    }
   ],
   "source": [
    "\n",
    "np.array(cnts,np.uint8)"
   ]
  },
  {
   "cell_type": "code",
   "execution_count": 16,
   "metadata": {},
   "outputs": [],
   "source": [
    "ids =[]\n",
    "counts = []\n",
    "for ln in linesarr:\n",
    "    id,*cnts = ln.split(',')\n",
    "    ids.append(id)\n",
    "    counts.append(np.array(cnts,np.uint8))\n"
   ]
  },
  {
   "cell_type": "code",
   "execution_count": 17,
   "metadata": {},
   "outputs": [],
   "source": [
    "X = np.stack(counts, axis=1)"
   ]
  },
  {
   "cell_type": "code",
   "execution_count": 19,
   "metadata": {},
   "outputs": [
    {
     "data": {
      "text/plain": [
       "3000"
      ]
     },
     "execution_count": 19,
     "metadata": {},
     "output_type": "execute_result"
    }
   ],
   "source": [
    "len(ids)"
   ]
  },
  {
   "cell_type": "code",
   "execution_count": 26,
   "metadata": {},
   "outputs": [
    {
     "data": {
      "text/plain": [
       "713627"
      ]
     },
     "execution_count": 26,
     "metadata": {},
     "output_type": "execute_result"
    }
   ],
   "source": [
    "cols = cols.strip().split(',')\n",
    "len(cols)"
   ]
  },
  {
   "cell_type": "code",
   "execution_count": 27,
   "metadata": {},
   "outputs": [
    {
     "data": {
      "text/plain": [
       "(3000, 713627, (3000, 713627))"
      ]
     },
     "execution_count": 27,
     "metadata": {},
     "output_type": "execute_result"
    }
   ],
   "source": [
    "len(idxs), len(cols), sparse_matrix_coo.shape"
   ]
  },
  {
   "cell_type": "code",
   "execution_count": 28,
   "metadata": {},
   "outputs": [],
   "source": []
  },
  {
   "cell_type": "code",
   "execution_count": 33,
   "metadata": {},
   "outputs": [],
   "source": [
    "\n"
   ]
  },
  {
   "cell_type": "code",
   "execution_count": 36,
   "metadata": {},
   "outputs": [
    {
     "data": {
      "text/plain": [
       "list"
      ]
     },
     "execution_count": 36,
     "metadata": {},
     "output_type": "execute_result"
    }
   ],
   "source": [
    "type(cols)"
   ]
  },
  {
   "cell_type": "code",
   "execution_count": 30,
   "metadata": {},
   "outputs": [
    {
     "data": {
      "text/html": [
       "<div>\n",
       "<style scoped>\n",
       "    .dataframe tbody tr th:only-of-type {\n",
       "        vertical-align: middle;\n",
       "    }\n",
       "\n",
       "    .dataframe tbody tr th {\n",
       "        vertical-align: top;\n",
       "    }\n",
       "\n",
       "    .dataframe thead th {\n",
       "        text-align: right;\n",
       "    }\n",
       "</style>\n",
       "<table border=\"1\" class=\"dataframe\">\n",
       "  <thead>\n",
       "    <tr style=\"text-align: right;\">\n",
       "      <th></th>\n",
       "      <th>gene_ids</th>\n",
       "    </tr>\n",
       "  </thead>\n",
       "  <tbody>\n",
       "    <tr>\n",
       "      <th>0</th>\n",
       "      <td>PRDM16</td>\n",
       "    </tr>\n",
       "    <tr>\n",
       "      <th>1</th>\n",
       "      <td>SLC2A5</td>\n",
       "    </tr>\n",
       "    <tr>\n",
       "      <th>2</th>\n",
       "      <td>SPSB1</td>\n",
       "    </tr>\n",
       "    <tr>\n",
       "      <th>3</th>\n",
       "      <td>SLC25A33</td>\n",
       "    </tr>\n",
       "    <tr>\n",
       "      <th>4</th>\n",
       "      <td>CORT</td>\n",
       "    </tr>\n",
       "  </tbody>\n",
       "</table>\n",
       "</div>"
      ],
      "text/plain": [
       "   gene_ids\n",
       "0    PRDM16\n",
       "1    SLC2A5\n",
       "2     SPSB1\n",
       "3  SLC25A33\n",
       "4      CORT"
      ]
     },
     "execution_count": 30,
     "metadata": {},
     "output_type": "execute_result"
    }
   ],
   "source": [
    "var_.head()"
   ]
  },
  {
   "cell_type": "code",
   "execution_count": 32,
   "metadata": {},
   "outputs": [
    {
     "data": {
      "text/plain": [
       "(713626, 3)"
      ]
     },
     "execution_count": 32,
     "metadata": {},
     "output_type": "execute_result"
    }
   ],
   "source": [
    "obs.shape"
   ]
  },
  {
   "cell_type": "code",
   "execution_count": 28,
   "metadata": {},
   "outputs": [
    {
     "name": "stdout",
     "output_type": "stream",
     "text": [
      "error: SLC25A33: (713625,) 1,0,1,0,1,0,0,0,0,1,0,0,0,0,0,0,0,0,0,0,0,0,0,0,0,0,0,0,0,1,0,0,0,0,0,0,0,0,0,0,0,1,0,1,0,0,0,0,0,0,0,1,0,1,0,0\n",
      "error: ARHGEF10L: (713583,) 2,0,0,1,0,0,0,0,0,0,0,1,0,0,0,2,0,0,0,0,0,1,0,0,0,0,0,0,0,0,0,0,0,1,0,1,0,0,0,0,0,0,1,0,0,0,0,0,0,0,0,0,0,1,2,0\n",
      "error: EMC1-AS1: (713625,) 0,0,0,0,0,0,0,0,0,0,0,1,0,0,0,0,1,0,0,0,0,0,0,0,0,0,0,0,0,0,0,0,0,0,0,0,0,0,0,0,0,1,0,0,1,0,0,0,0,0,0,0,0,0,0,0\n",
      "error: MICOS10: (713618,) 2,0,1,0,0,0,0,0,0,0,0,1,0,0,0,0,0,1,0,0,1,0,0,0,0,0,1,0,0,0,1,0,0,0,0,0,0,0,1,0,0,0,0,0,0,0,0,0,0,0,0,0,0,1,0,0\n",
      "error: LINC01141: (713248,) 3,0,0,0,0,0,0,0,0,0,0,0,0,0,0,0,0,0,0,0,0,0,0,0,0,0,0,0,0,0,0,0,0,0,0,0,0,0,0,0,0,0,0,0,0,0,0,0,0,0,0,0,0,0,0,0\n",
      "error: PTP4A2: (713625,) 0,2,0,1,1,0,0,0,0,2,0,1,1,0,1,1,0,0,0,0,0,1,2,1,2,0,0,0,0,0,0,1,1,0,0,1,1,0,2,0,0,0,1,1,0,1,1,1,1,0,0,0,1,1,0,0\n",
      "error: MARCKSL1: (713625,) 0,0,0,0,0,1,0,0,1,0,0,0,0,0,0,0,0,0,0,0,0,0,0,0,0,0,0,2,0,0,0,0,0,0,0,1,0,0,0,0,0,0,0,0,0,0,0,0,0,0,0,0,0,0,0,0\n",
      "error: S100PBP: (713610,) 2,0,1,0,0,0,0,2,0,0,1,2,0,0,0,0,0,1,1,0,0,2,2,1,0,0,0,0,0,0,0,0,0,1,0,1,0,0,0,2,1,1,0,0,2,1,0,0,1,0,1,1,0,1,0,0\n",
      "error: AL353604.1: (713625,) 2,0,3,0,0,0,0,0,0,0,0,1,0,1,0,1,0,1,0,0,0,0,0,0,1,0,0,0,1,2,0,0,2,0,0,0,0,1,0,0,0,0,0,0,1,3,1,4,0,0,1,0,0,0,0,0\n",
      "error: IPO13: (713625,) 0,0,0,0,0,0,0,0,0,0,0,0,0,0,0,0,0,1,0,0,0,0,0,0,0,0,0,0,0,0,0,0,0,0,0,0,0,0,0,0,0,0,0,0,0,1,0,0,0,0,1,0,1,0,0,0\n",
      "error: EPS15: (713625,) 2,3,2,0,0,3,1,1,4,3,1,2,4,1,1,0,1,1,3,0,2,2,4,1,1,2,1,3,4,2,4,2,4,3,5,1,2,2,2,1,0,3,7,3,2,1,0,0,2,2,3,3,2,1,5,2\n",
      "error: LINC01135: (713624,) 4,0,1,1,1,0,0,1,2,0,0,1,0,0,0,0,0,0,0,2,0,0,0,1,0,0,0,0,0,0,2,0,0,1,0,0,0,1,0,0,0,0,0,0,1,0,0,0,0,0,0,1,0,0,0,1\n",
      "error: LINC01358: (713574,) 2,0,0,0,0,0,0,0,0,0,0,0,0,0,0,0,1,0,0,1,0,0,0,0,2,0,0,0,1,0,1,0,0,0,0,0,0,0,0,0,0,0,0,0,0,0,1,0,0,0,0,0,0,0,0,0\n",
      "error: LINC01748: (713623,) 2,1,0,1,0,0,1,0,4,0,0,0,1,0,0,1,1,3,0,1,0,0,0,0,1,2,0,0,4,0,0,0,0,0,0,0,0,2,0,0,1,0,0,0,0,3,0,2,0,0,0,1,0,0,0,0\n",
      "error: AC099792.1: (713238,) 4,0,0,0,0,0,0,0,0,0,0,0,0,0,0,0,0,0,0,0,0,0,0,0,0,0,0,0,0,0,0,0,0,0,0,0,0,0,0,0,0,0,0,0,0,0,0,0,0,0,0,0,0,0,0,0\n",
      "error: CACHD1: (713624,) 0,2,1,0,3,3,0,1,1,0,0,1,0,4,1,1,3,1,0,2,1,0,0,1,0,3,0,2,0,4,0,0,0,0,1,1,2,2,2,0,2,1,0,0,0,0,2,0,0,0,0,7,0,1,0,0\n",
      "error: GNG12-AS1: (713625,) 0,0,0,0,0,0,0,0,0,2,0,0,0,0,0,0,1,0,0,0,0,0,0,0,0,0,0,0,0,0,0,0,0,0,0,1,0,0,0,0,0,1,0,0,0,0,0,0,0,0,0,0,0,0,0,0\n",
      "error: LINC01725: (713621,) 4,2,0,1,0,0,3,9,0,1,0,0,4,1,7,0,1,3,0,0,3,0,0,2,0,1,0,6,0,0,0,3,0,0,0,2,1,0,9,1,0,1,1,0,1,1,1,0,0,1,1,1,1,1,1,0\n",
      "error: PKN2-AS1: (713625,) 6,4,3,2,5,11,6,1,10,2,6,3,5,0,2,4,3,7,11,1,2,7,0,0,3,0,3,1,7,5,0,0,3,0,2,1,6,0,5,1,2,0,3,0,0,8,1,0,1,4,3,1,3,6,\n",
      "error: DPYD-AS1: (713625,) 0,0,0,0,0,1,0,1,0,0,0,0,0,0,0,0,0,1,0,0,0,0,0,0,0,0,0,0,0,0,0,0,0,1,1,0,0,0,0,0,2,0,0,0,0,0,0,1,0,0,0,0,0,0,0,1\n",
      "error: AC093157.1: (713617,) 2,0,1,0,0,0,1,2,2,1,1,0,0,2,0,0,1,1,0,0,0,0,0,0,0,0,1,0,0,1,1,2,0,0,0,0,0,0,0,0,0,0,0,0,0,0,0,0,0,0,0,1,0,0,1,0\n",
      "error: RAP1A: (713625,) 2,2,0,2,2,4,0,1,2,3,0,0,2,3,1,2,1,1,1,1,1,3,1,2,1,1,2,1,0,2,1,1,0,0,3,0,1,1,2,0,2,0,1,0,0,0,4,0,2,2,0,2,3,1,6,1\n",
      "error: SLC22A15: (713624,) 0,1,1,0,0,1,0,1,2,0,0,1,1,2,1,1,3,0,2,1,2,0,0,1,2,0,1,3,3,1,2,2,2,1,1,3,2,0,0,1,1,1,0,1,0,0,0,1,0,2,2,0,1,0,0,0\n",
      "error: WARS2-AS1: (713622,) 0,0,0,1,3,1,3,2,0,0,3,0,1,1,2,0,0,0,0,0,1,1,0,2,0,1,0,0,0,0,1,2,1,0,1,0,3,1,1,0,0,1,1,1,2,0,2,0,0,1,0,0,0,4,0,0\n",
      "error: LINC02798: (713625,) 1,1,4,2,1,2,1,0,1,2,0,0,1,0,1,0,0,1,0,1,2,0,1,0,0,0,0,0,0,1,1,0,0,0,0,0,0,1,1,0,0,1,0,0,1,0,0,0,0,0,0,0,0,1,0,0\n",
      "error: KCNJ10: (711763,) 2,0,0,0,0,0,0,0,0,0,0,1,0,0,0,0,0,0,0,0,0,0,0,0,0,1,0,0,0,0,0,0,0,0,0,0,0,0,0,0,0,0,0,0,0,0,0,0,0,0,0,0,0,0,0,0\n",
      "error: AL596087.2: (713621,) 1,0,0,2,3,0,0,2,2,0,0,0,0,2,0,0,0,0,0,0,0,0,0,0,0,0,0,0,0,0,0,0,1,0,2,0,0,1,3,1,0,0,2,0,0,0,0,0,1,2,0,1,0,0,0,0\n",
      "error: MPZL1: (713625,) 0,0,1,1,1,0,1,0,0,0,1,0,2,0,1,1,1,0,0,1,0,2,0,1,0,0,0,0,0,1,0,2,2,0,1,0,0,0,1,0,1,1,1,2,0,0,1,0,1,0,1,0,0,0,1,1\n",
      "error: AL591043.2: (705767,) 6,0,0,1,4,0,1,0,0,1,3,0,0,0,1,0,3,0,0,2,0,0,0,1,0,0,0,1,0,0,1,1,2,0,0,0,0,0,1,2,0,0,0,0,1,1,0,0,0,0,0,0,0,0,2,0\n",
      "error: TOR1AIP1: (713625,) 0,0,0,0,0,1,0,0,0,0,2,0,1,0,0,0,1,0,0,0,0,0,1,0,0,0,0,0,0,0,0,0,0,0,1,1,0,1,0,0,0,1,0,0,1,0,0,1,1,0,0,1,0,1,1,1\n",
      "error: LINC01344: (713076,) 2,0,0,0,0,0,0,0,0,0,0,0,0,0,0,0,0,1,0,0,0,0,0,1,0,0,0,0,0,0,0,0,0,0,0,0,0,0,0,0,0,0,0,0,0,0,0,0,0,1,0,0,0,0,0,0\n",
      "error: AL390957.1: (713604,) 2,0,0,0,0,0,0,0,0,1,0,0,0,1,2,2,0,0,0,0,0,0,0,0,0,0,0,1,0,0,0,0,1,0,0,1,0,0,0,0,0,0,1,0,0,0,1,0,0,0,2,0,0,0,0,0\n",
      "error: AL136456.1: (713625,) 0,0,0,6,0,7,0,0,0,0,2,3,0,7,0,0,0,0,2,10,0,2,1,3,0,0,0,0,3,0,0,5,0,4,1,1,0,2,0,1,6,0,0,0,1,0,0,6,7,0,0,2,0,0,1,\n",
      "error: AL450352.1: (705660,) 7,0,0,0,6,0,0,0,0,0,0,0,0,0,0,0,0,0,0,0,0,1,0,0,0,0,0,0,0,0,0,0,0,0,0,0,2,0,0,0,0,0,0,0,0,0,0,0,1,0,0,3,0,0,1,0\n",
      "error: AC105941.1: (712994,) 2,0,0,0,0,0,0,0,0,0,0,0,0,0,0,0,0,0,0,0,0,0,0,0,0,0,0,0,0,0,0,0,0,0,0,0,0,0,0,0,0,0,0,0,0,0,0,0,0,0,0,0,0,0,0,0\n",
      "error: AC096677.1: (712065,) 2,0,0,0,0,0,0,0,0,0,0,0,0,0,0,0,0,0,0,0,0,0,0,0,0,0,1,0,0,0,0,0,0,0,0,0,0,0,0,0,0,0,0,0,0,0,0,0,0,0,0,0,0,0,0,0\n",
      "error: KCNH1: (713625,) 22,25,19,11,16,20,12,3,18,3,21,5,16,4,1,12,17,10,11,17,17,14,0,1,13,18,17,17,16,15,9,9,14,2,4,12,9,6,4,5,7,8,11\n",
      "error: LINC00467: (713622,) 1,0,0,0,0,0,0,0,0,0,0,0,0,0,0,0,0,0,0,0,0,0,0,0,0,0,0,0,0,0,0,0,0,0,0,0,0,0,0,0,0,0,0,0,0,0,0,0,0,0,0,0,0,0,0,0\n",
      "error: LPGAT1: (713625,) 2,5,1,0,1,0,2,1,0,2,4,1,5,1,0,0,1,0,4,3,0,3,1,1,1,2,0,5,2,2,4,1,3,1,0,0,2,2,2,0,0,2,2,4,3,1,1,4,1,1,2,6,0,2,1,1\n",
      "error: LYPLAL1-DT: (713625,) 3,0,0,0,0,1,0,0,0,0,0,0,0,0,1,1,0,0,0,0,0,0,0,0,0,0,0,0,0,2,0,0,0,1,0,0,0,0,0,0,1,0,1,0,0,0,0,0,0,0,0,0,0,0,0,0\n",
      "error: SLC30A10: (713602,) 2,0,0,0,0,0,0,1,0,0,0,0,0,0,0,0,3,0,0,0,0,0,0,1,0,0,0,0,0,0,0,0,0,0,0,0,0,0,0,0,0,0,1,0,0,0,0,0,1,0,0,1,0,0,0,1\n",
      "error: DUSP10: (713616,) 2,0,0,1,0,0,0,0,0,0,0,0,0,0,0,0,0,0,0,0,0,0,1,0,0,0,0,0,0,0,0,0,1,0,0,0,0,0,0,0,0,0,0,0,0,0,0,0,0,0,0,0,0,0,0,0\n",
      "error: AL356108.1: (713571,) 2,0,0,0,0,0,0,0,0,0,0,0,0,0,0,0,0,0,0,0,0,0,0,0,0,0,0,0,0,0,1,0,0,0,0,0,0,0,0,0,0,0,0,0,0,0,0,0,0,0,0,0,0,0,0,0\n",
      "error: AL392172.1: (713625,) 0,0,0,0,0,0,0,2,0,0,0,0,0,0,0,0,0,0,0,0,0,0,0,0,0,0,0,0,0,0,0,0,0,0,0,0,0,0,0,0,0,0,0,0,0,0,0,0,0,0,0,0,0,0,0,0\n",
      "error: DNAH14: (713624,) 0,0,2,3,4,1,1,0,0,7,0,2,1,0,0,1,3,1,0,2,5,0,5,2,0,3,1,3,1,1,1,0,2,3,2,2,5,1,1,2,0,0,2,2,2,4,1,0,0,1,1,0,1,7,2,2\n",
      "error: ZNF124: (713625,) 0,0,0,0,1,0,0,0,1,0,2,0,0,0,1,1,0,0,1,0,0,0,2,0,0,1,0,2,0,0,1,1,1,0,1,1,1,0,0,0,0,0,1,0,2,0,0,0,0,0,2,0,0,0,2,0\n",
      "error: SILC1: (713625,) 2,0,0,0,0,0,0,0,0,3,0,0,0,0,0,0,0,1,0,0,0,0,0,0,0,0,0,0,0,1,0,0,0,0,0,0,0,0,1,0,0,1,0,0,0,0,0,0,0,0,0,0,0,0,0,0\n",
      "error: AC082651.1: (704727,) 3,0,0,0,0,1,0,0,0,0,0,0,0,0,0,0,0,0,0,0,0,0,0,2,0,0,0,0,0,0,0,0,0,0,0,0,0,0,0,1,0,0,0,0,0,0,0,0,0,0,0,0,1,0,0,1\n",
      "error: MIR3681HG: (713625,) 0,0,0,1,3,0,1,0,0,0,0,0,0,0,0,0,0,0,0,0,0,0,0,0,0,0,0,0,0,1,0,0,1,1,0,0,0,0,0,0,0,0,0,0,0,0,0,0,0,0,0,0,0,0,0,1\n",
      "error: LINC00276: (713623,) 4,0,0,1,2,0,1,2,0,0,4,0,0,8,0,2,0,2,0,0,2,0,2,1,0,0,0,0,0,0,0,0,0,0,0,0,2,0,0,0,0,0,0,0,0,0,0,0,0,0,0,0,1,3,0,2\n",
      "error: AC068286.2: (713624,) 1,0,0,0,0,2,0,0,0,0,0,0,0,0,0,0,0,0,0,1,0,0,0,0,0,3,0,1,0,0,0,0,0,0,0,0,0,0,0,0,0,0,3,0,0,0,0,0,0,0,0,0,0,0,0,0\n",
      "error: AC079148.3: (713182,) 2,0,0,1,0,0,0,0,0,0,0,0,0,0,0,0,0,0,0,0,0,0,0,0,0,0,0,0,0,0,0,0,0,0,0,0,0,0,0,0,0,0,0,0,0,0,0,0,0,0,0,0,0,0,0,0\n",
      "error: AC018742.1: (713431,) 3,0,0,0,0,0,0,0,0,0,0,0,0,0,0,0,0,0,0,0,0,0,0,0,0,0,0,0,0,0,0,1,0,0,0,0,0,0,0,0,0,0,0,0,0,0,0,0,0,0,0,1,0,0,0,0\n",
      "error: AC096570.1: (713585,) 3,0,0,0,0,0,1,0,1,1,0,0,0,0,0,0,0,3,0,3,0,0,0,0,0,0,0,3,0,0,0,0,0,0,0,2,1,1,0,4,0,2,0,0,0,0,0,0,0,2,0,0,0,0,0,0\n",
      "error: LINC01320: (713564,) 4,2,0,0,0,0,0,0,0,0,0,0,2,0,0,0,0,0,0,0,0,0,0,0,2,0,0,0,0,0,0,0,0,0,0,0,0,0,0,0,0,0,0,0,0,0,0,0,0,0,0,0,0,0,0,0\n",
      "error: AC079352.1: (713613,) 4,0,0,0,0,1,0,0,0,0,0,0,0,0,0,1,0,0,0,0,1,1,0,0,0,0,0,0,0,0,0,0,0,0,0,0,3,0,0,3,0,0,0,0,0,0,0,1,0,0,0,0,0,0,0,0\n",
      "error: SRBD1: (713625,) 0,2,0,0,4,2,1,3,0,1,0,0,0,1,0,0,1,1,0,0,0,1,1,0,4,0,0,0,1,0,0,3,0,0,2,0,1,0,0,0,2,1,1,0,0,0,1,4,0,1,1,1,0,0,4,2\n",
      "error: AC092650.1: (706595,) 3,0,0,0,0,0,0,0,1,0,0,0,0,0,0,0,0,0,0,0,0,0,0,0,0,0,0,0,0,0,0,0,0,0,0,0,0,0,0,0,0,0,0,0,0,0,0,0,0,0,0,0,0,0,0,0\n",
      "error: AC009975.1: (713613,) 2,0,0,0,0,0,0,0,0,0,0,0,0,3,0,0,0,0,0,0,0,0,0,0,0,0,0,0,0,0,1,0,0,0,0,0,0,0,0,0,0,0,0,0,0,0,0,0,0,1,0,0,0,0,0,0\n",
      "error: AC007402.1: (713608,) 3,0,0,0,0,0,0,0,0,0,0,0,0,0,0,0,0,0,0,0,0,0,0,0,0,0,0,0,0,0,0,0,0,0,0,0,1,0,0,3,0,0,0,3,0,0,0,0,0,0,0,0,0,0,0,0\n",
      "error: LINC01122: (713624,) 4,7,10,5,7,16,2,9,3,6,14,15,13,2,4,11,6,5,12,6,1,4,4,2,8,0,3,3,19,10,11,5,11,2,6,10,14,6,4,4,0,1,7,4,3,0,10,2,2\n",
      "error: SERTAD2: (713625,) 0,2,0,3,0,0,1,1,1,0,2,1,0,0,1,3,0,0,1,0,1,0,0,0,0,0,0,0,0,1,0,2,1,1,0,1,1,0,0,2,0,2,0,0,0,0,1,1,2,1,0,0,0,2,1,0\n",
      "error: AC007389.1: (713621,) 2,3,1,0,2,3,0,0,1,0,2,1,6,7,4,0,3,4,0,0,0,7,7,0,0,5,0,6,2,0,0,7,3,2,0,3,0,10,2,2,1,4,0,1,0,4,1,0,0,3,1,4,1,3,0,\n",
      "error: ANTXR1: (713624,) 0,0,0,1,0,0,2,1,0,0,0,0,0,1,0,0,1,1,0,0,4,0,2,3,0,0,1,2,1,1,0,1,2,0,1,3,2,1,2,1,1,0,0,0,0,0,0,0,0,2,0,1,1,0,1,0\n"
     ]
    },
    {
     "ename": "KeyboardInterrupt",
     "evalue": "",
     "output_type": "error",
     "traceback": [
      "\u001b[0;31m---------------------------------------------------------------------------\u001b[0m",
      "\u001b[0;31mKeyboardInterrupt\u001b[0m                         Traceback (most recent call last)",
      "\u001b[1;32m/Users/ergonyc/Projects/SingleCell/labelator/test_4.ipynb Cell 8\u001b[0m line \u001b[0;36m1\n\u001b[1;32m     <a href='vscode-notebook-cell:/Users/ergonyc/Projects/SingleCell/labelator/test_4.ipynb#Y121sZmlsZQ%3D%3D?line=10'>11</a>\u001b[0m         \u001b[39mif\u001b[39;00m first_entry \u001b[39min\u001b[39;00m targets_set:\n\u001b[1;32m     <a href='vscode-notebook-cell:/Users/ergonyc/Projects/SingleCell/labelator/test_4.ipynb#Y121sZmlsZQ%3D%3D?line=11'>12</a>\u001b[0m             \u001b[39m# remove the first entry from the line\u001b[39;00m\n\u001b[1;32m     <a href='vscode-notebook-cell:/Users/ergonyc/Projects/SingleCell/labelator/test_4.ipynb#Y121sZmlsZQ%3D%3D?line=12'>13</a>\u001b[0m             line \u001b[39m=\u001b[39m line\u001b[39m.\u001b[39mlstrip(\u001b[39mf\u001b[39m\u001b[39m\"\u001b[39m\u001b[39m{\u001b[39;00mfirst_entry\u001b[39m}\u001b[39;00m\u001b[39m,\u001b[39m\u001b[39m\"\u001b[39m)\n\u001b[0;32m---> <a href='vscode-notebook-cell:/Users/ergonyc/Projects/SingleCell/labelator/test_4.ipynb#Y121sZmlsZQ%3D%3D?line=13'>14</a>\u001b[0m             vals \u001b[39m=\u001b[39m np\u001b[39m.\u001b[39;49mfromstring(line, sep\u001b[39m=\u001b[39;49m\u001b[39m'\u001b[39;49m\u001b[39m, \u001b[39;49m\u001b[39m'\u001b[39;49m, dtype\u001b[39m=\u001b[39;49m\u001b[39m\"\u001b[39;49m\u001b[39mf\u001b[39;49m\u001b[39m\"\u001b[39;49m)\n\u001b[1;32m     <a href='vscode-notebook-cell:/Users/ergonyc/Projects/SingleCell/labelator/test_4.ipynb#Y121sZmlsZQ%3D%3D?line=14'>15</a>\u001b[0m \u001b[39m#array([nan,  1.,  2.,  3.], dtype)\u001b[39;00m\n\u001b[1;32m     <a href='vscode-notebook-cell:/Users/ergonyc/Projects/SingleCell/labelator/test_4.ipynb#Y121sZmlsZQ%3D%3D?line=15'>16</a>\u001b[0m             \u001b[39mif\u001b[39;00m vals\u001b[39m.\u001b[39mshape[\u001b[39m0\u001b[39m] \u001b[39m==\u001b[39m \u001b[39m713626\u001b[39m:\n",
      "\u001b[0;31mKeyboardInterrupt\u001b[0m: "
     ]
    }
   ],
   "source": [
    "\n",
    "feats = []\n",
    "larr = []\n",
    "with open(count_matrix_file_path, 'r') as file:\n",
    "    # Read and store the first line if header information is needed\n",
    "    header_line = file.readline()\n",
    "    for line in file:\n",
    "        # Get the first entry by reading up to the first comma\n",
    "        first_entry = line.split(',', 1)[0]\n",
    "        feats.append(first_entry)\n",
    "        # Check if the first entry is a target\n",
    "        if first_entry in targets_set:\n",
    "            # remove the first entry from the line\n",
    "            line = line.lstrip(f\"{first_entry},\")\n",
    "            vals = np.fromstring(line, sep=',', dtype=\"f\")\n",
    "            #array([nan,  1.,  2.,  3.], dtype)\n",
    "            if vals.shape[0] == 713626:\n",
    "                larr.append(vals)\n",
    "            else:\n",
    "                print(f\"error: {first_entry}: {vals.shape} {line[:111]}\")\n",
    "                larr.append(line)\n",
    "\n",
    "\n"
   ]
  },
  {
   "cell_type": "code",
   "execution_count": null,
   "metadata": {},
   "outputs": [],
   "source": []
  },
  {
   "cell_type": "code",
   "execution_count": 24,
   "metadata": {},
   "outputs": [
    {
     "data": {
      "text/plain": [
       "(713626,)"
      ]
     },
     "execution_count": 24,
     "metadata": {},
     "output_type": "execute_result"
    }
   ],
   "source": [
    "larr[100].shape\n",
    "\n",
    "# shapes[-100:]"
   ]
  },
  {
   "cell_type": "code",
   "execution_count": 18,
   "metadata": {},
   "outputs": [
    {
     "ename": "ValueError",
     "evalue": "all input arrays must have the same shape",
     "output_type": "error",
     "traceback": [
      "\u001b[0;31m---------------------------------------------------------------------------\u001b[0m",
      "\u001b[0;31mValueError\u001b[0m                                Traceback (most recent call last)",
      "\u001b[1;32m/Users/ergonyc/Projects/SingleCell/labelator/test_4.ipynb Cell 10\u001b[0m line \u001b[0;36m1\n\u001b[0;32m----> <a href='vscode-notebook-cell:/Users/ergonyc/Projects/SingleCell/labelator/test_4.ipynb#Y122sZmlsZQ%3D%3D?line=0'>1</a>\u001b[0m X \u001b[39m=\u001b[39m np\u001b[39m.\u001b[39;49mstack(larr, axis\u001b[39m=\u001b[39;49m\u001b[39m1\u001b[39;49m)\n",
      "File \u001b[0;32m<__array_function__ internals>:200\u001b[0m, in \u001b[0;36mstack\u001b[0;34m(*args, **kwargs)\u001b[0m\n",
      "File \u001b[0;32m~/miniforge3/envs/scverse10/lib/python3.10/site-packages/numpy/core/shape_base.py:464\u001b[0m, in \u001b[0;36mstack\u001b[0;34m(arrays, axis, out, dtype, casting)\u001b[0m\n\u001b[1;32m    462\u001b[0m shapes \u001b[39m=\u001b[39m {arr\u001b[39m.\u001b[39mshape \u001b[39mfor\u001b[39;00m arr \u001b[39min\u001b[39;00m arrays}\n\u001b[1;32m    463\u001b[0m \u001b[39mif\u001b[39;00m \u001b[39mlen\u001b[39m(shapes) \u001b[39m!=\u001b[39m \u001b[39m1\u001b[39m:\n\u001b[0;32m--> 464\u001b[0m     \u001b[39mraise\u001b[39;00m \u001b[39mValueError\u001b[39;00m(\u001b[39m'\u001b[39m\u001b[39mall input arrays must have the same shape\u001b[39m\u001b[39m'\u001b[39m)\n\u001b[1;32m    466\u001b[0m result_ndim \u001b[39m=\u001b[39m arrays[\u001b[39m0\u001b[39m]\u001b[39m.\u001b[39mndim \u001b[39m+\u001b[39m \u001b[39m1\u001b[39m\n\u001b[1;32m    467\u001b[0m axis \u001b[39m=\u001b[39m normalize_axis_index(axis, result_ndim)\n",
      "\u001b[0;31mValueError\u001b[0m: all input arrays must have the same shape"
     ]
    }
   ],
   "source": [
    "X = np.stack(larr, axis=1)"
   ]
  },
  {
   "cell_type": "code",
   "execution_count": 8,
   "metadata": {},
   "outputs": [
    {
     "data": {
      "text/plain": [
       "(2140524722,)"
      ]
     },
     "execution_count": 8,
     "metadata": {},
     "output_type": "execute_result"
    }
   ],
   "source": [
    "X.shape"
   ]
  },
  {
   "cell_type": "code",
   "execution_count": 6,
   "metadata": {},
   "outputs": [],
   "source": [
    "atlas_3k = pd.read_csv(output_file_path)"
   ]
  },
  {
   "cell_type": "code",
   "execution_count": null,
   "metadata": {},
   "outputs": [],
   "source": [
    "genes_ = atlas_3k['genes']\n",
    "cells_ = atlas_3k.columns[1:]\n",
    "X = csr_matrix(atlas_3k.iloc[:,1:].values.T)\n",
    "\n"
   ]
  },
  {
   "cell_type": "code",
   "execution_count": null,
   "metadata": {},
   "outputs": [],
   "source": [
    "obs_file_path = \"./data/cell_barcode_labels.csv\"\n",
    "cells = pd.read_csv(obs_file_path,index_col=0)\n",
    "\n",
    "\n",
    "var_ = pd.DataFrame(index = genes_)\n",
    "obs_ = cells\n",
    "obs_['cells_alt'] = cells_.to_list()\n",
    "adata_3k = ad.AnnData(X=X, obs=obs_, var=var_)\n",
    "\n",
    "adata_3k\n"
   ]
  },
  {
   "cell_type": "code",
   "execution_count": null,
   "metadata": {},
   "outputs": [],
   "source": [
    "\n",
    "adata_3k.obs_names = cells.index\n",
    "adata_3k.write_h5ad(\"./data/brain_atlas_3k.h5ad\")"
   ]
  },
  {
   "cell_type": "code",
   "execution_count": 5,
   "metadata": {},
   "outputs": [
    {
     "ename": "KeyboardInterrupt",
     "evalue": "",
     "output_type": "error",
     "traceback": [
      "\u001b[0;31m---------------------------------------------------------------------------\u001b[0m",
      "\u001b[0;31mKeyboardInterrupt\u001b[0m                         Traceback (most recent call last)",
      "\u001b[1;32m/Users/ergonyc/Projects/SingleCell/labelator/test_4.ipynb Cell 12\u001b[0m line \u001b[0;36m1\n\u001b[1;32m     <a href='vscode-notebook-cell:/Users/ergonyc/Projects/SingleCell/labelator/test_4.ipynb#Y113sZmlsZQ%3D%3D?line=16'>17</a>\u001b[0m \u001b[39m# 1. Read the CSV in chunks using a context manager\u001b[39;00m\n\u001b[1;32m     <a href='vscode-notebook-cell:/Users/ergonyc/Projects/SingleCell/labelator/test_4.ipynb#Y113sZmlsZQ%3D%3D?line=17'>18</a>\u001b[0m \u001b[39mwith\u001b[39;00m pd\u001b[39m.\u001b[39mread_csv(count_matrix_file_path, header\u001b[39m=\u001b[39m\u001b[39m0\u001b[39m,dtype\u001b[39m=\u001b[39mdtypes, chunksize\u001b[39m=\u001b[39mchunk_size) \u001b[39mas\u001b[39;00m reader:\n\u001b[0;32m---> <a href='vscode-notebook-cell:/Users/ergonyc/Projects/SingleCell/labelator/test_4.ipynb#Y113sZmlsZQ%3D%3D?line=18'>19</a>\u001b[0m     \u001b[39mfor\u001b[39;00m chunk \u001b[39min\u001b[39;00m reader:\n\u001b[1;32m     <a href='vscode-notebook-cell:/Users/ergonyc/Projects/SingleCell/labelator/test_4.ipynb#Y113sZmlsZQ%3D%3D?line=20'>21</a>\u001b[0m         \u001b[39mprint\u001b[39m(\u001b[39mf\u001b[39m\u001b[39m\"\u001b[39m\u001b[39mchunk number \u001b[39m\u001b[39m{\u001b[39;00mchunk_counter\u001b[39m}\u001b[39;00m\u001b[39m\"\u001b[39m)\n\u001b[1;32m     <a href='vscode-notebook-cell:/Users/ergonyc/Projects/SingleCell/labelator/test_4.ipynb#Y113sZmlsZQ%3D%3D?line=21'>22</a>\u001b[0m         \u001b[39m# 2. get the genes\u001b[39;00m\n",
      "File \u001b[0;32m~/miniforge3/envs/scverse10/lib/python3.10/site-packages/pandas/io/parsers/readers.py:1624\u001b[0m, in \u001b[0;36mTextFileReader.__next__\u001b[0;34m(self)\u001b[0m\n\u001b[1;32m   1622\u001b[0m \u001b[39mdef\u001b[39;00m \u001b[39m__next__\u001b[39m(\u001b[39mself\u001b[39m) \u001b[39m-\u001b[39m\u001b[39m>\u001b[39m DataFrame:\n\u001b[1;32m   1623\u001b[0m     \u001b[39mtry\u001b[39;00m:\n\u001b[0;32m-> 1624\u001b[0m         \u001b[39mreturn\u001b[39;00m \u001b[39mself\u001b[39;49m\u001b[39m.\u001b[39;49mget_chunk()\n\u001b[1;32m   1625\u001b[0m     \u001b[39mexcept\u001b[39;00m \u001b[39mStopIteration\u001b[39;00m:\n\u001b[1;32m   1626\u001b[0m         \u001b[39mself\u001b[39m\u001b[39m.\u001b[39mclose()\n",
      "File \u001b[0;32m~/miniforge3/envs/scverse10/lib/python3.10/site-packages/pandas/io/parsers/readers.py:1733\u001b[0m, in \u001b[0;36mTextFileReader.get_chunk\u001b[0;34m(self, size)\u001b[0m\n\u001b[1;32m   1731\u001b[0m         \u001b[39mraise\u001b[39;00m \u001b[39mStopIteration\u001b[39;00m\n\u001b[1;32m   1732\u001b[0m     size \u001b[39m=\u001b[39m \u001b[39mmin\u001b[39m(size, \u001b[39mself\u001b[39m\u001b[39m.\u001b[39mnrows \u001b[39m-\u001b[39m \u001b[39mself\u001b[39m\u001b[39m.\u001b[39m_currow)\n\u001b[0;32m-> 1733\u001b[0m \u001b[39mreturn\u001b[39;00m \u001b[39mself\u001b[39;49m\u001b[39m.\u001b[39;49mread(nrows\u001b[39m=\u001b[39;49msize)\n",
      "File \u001b[0;32m~/miniforge3/envs/scverse10/lib/python3.10/site-packages/pandas/io/parsers/readers.py:1721\u001b[0m, in \u001b[0;36mTextFileReader.read\u001b[0;34m(self, nrows)\u001b[0m\n\u001b[1;32m   1718\u001b[0m     \u001b[39melse\u001b[39;00m:\n\u001b[1;32m   1719\u001b[0m         new_rows \u001b[39m=\u001b[39m \u001b[39mlen\u001b[39m(index)\n\u001b[0;32m-> 1721\u001b[0m     df \u001b[39m=\u001b[39m DataFrame(col_dict, columns\u001b[39m=\u001b[39;49mcolumns, index\u001b[39m=\u001b[39;49mindex)\n\u001b[1;32m   1723\u001b[0m     \u001b[39mself\u001b[39m\u001b[39m.\u001b[39m_currow \u001b[39m+\u001b[39m\u001b[39m=\u001b[39m new_rows\n\u001b[1;32m   1724\u001b[0m \u001b[39mreturn\u001b[39;00m df\n",
      "File \u001b[0;32m~/miniforge3/envs/scverse10/lib/python3.10/site-packages/pandas/core/frame.py:709\u001b[0m, in \u001b[0;36mDataFrame.__init__\u001b[0;34m(self, data, index, columns, dtype, copy)\u001b[0m\n\u001b[1;32m    703\u001b[0m     mgr \u001b[39m=\u001b[39m \u001b[39mself\u001b[39m\u001b[39m.\u001b[39m_init_mgr(\n\u001b[1;32m    704\u001b[0m         data, axes\u001b[39m=\u001b[39m{\u001b[39m\"\u001b[39m\u001b[39mindex\u001b[39m\u001b[39m\"\u001b[39m: index, \u001b[39m\"\u001b[39m\u001b[39mcolumns\u001b[39m\u001b[39m\"\u001b[39m: columns}, dtype\u001b[39m=\u001b[39mdtype, copy\u001b[39m=\u001b[39mcopy\n\u001b[1;32m    705\u001b[0m     )\n\u001b[1;32m    707\u001b[0m \u001b[39melif\u001b[39;00m \u001b[39misinstance\u001b[39m(data, \u001b[39mdict\u001b[39m):\n\u001b[1;32m    708\u001b[0m     \u001b[39m# GH#38939 de facto copy defaults to False only in non-dict cases\u001b[39;00m\n\u001b[0;32m--> 709\u001b[0m     mgr \u001b[39m=\u001b[39m dict_to_mgr(data, index, columns, dtype\u001b[39m=\u001b[39;49mdtype, copy\u001b[39m=\u001b[39;49mcopy, typ\u001b[39m=\u001b[39;49mmanager)\n\u001b[1;32m    710\u001b[0m \u001b[39melif\u001b[39;00m \u001b[39misinstance\u001b[39m(data, ma\u001b[39m.\u001b[39mMaskedArray):\n\u001b[1;32m    711\u001b[0m     \u001b[39mfrom\u001b[39;00m \u001b[39mnumpy\u001b[39;00m\u001b[39m.\u001b[39;00m\u001b[39mma\u001b[39;00m \u001b[39mimport\u001b[39;00m mrecords\n",
      "File \u001b[0;32m~/miniforge3/envs/scverse10/lib/python3.10/site-packages/pandas/core/internals/construction.py:481\u001b[0m, in \u001b[0;36mdict_to_mgr\u001b[0;34m(data, index, columns, dtype, typ, copy)\u001b[0m\n\u001b[1;32m    477\u001b[0m     \u001b[39melse\u001b[39;00m:\n\u001b[1;32m    478\u001b[0m         \u001b[39m# dtype check to exclude e.g. range objects, scalars\u001b[39;00m\n\u001b[1;32m    479\u001b[0m         arrays \u001b[39m=\u001b[39m [x\u001b[39m.\u001b[39mcopy() \u001b[39mif\u001b[39;00m \u001b[39mhasattr\u001b[39m(x, \u001b[39m\"\u001b[39m\u001b[39mdtype\u001b[39m\u001b[39m\"\u001b[39m) \u001b[39melse\u001b[39;00m x \u001b[39mfor\u001b[39;00m x \u001b[39min\u001b[39;00m arrays]\n\u001b[0;32m--> 481\u001b[0m \u001b[39mreturn\u001b[39;00m arrays_to_mgr(arrays, columns, index, dtype\u001b[39m=\u001b[39;49mdtype, typ\u001b[39m=\u001b[39;49mtyp, consolidate\u001b[39m=\u001b[39;49mcopy)\n",
      "File \u001b[0;32m~/miniforge3/envs/scverse10/lib/python3.10/site-packages/pandas/core/internals/construction.py:120\u001b[0m, in \u001b[0;36marrays_to_mgr\u001b[0;34m(arrays, columns, index, dtype, verify_integrity, typ, consolidate)\u001b[0m\n\u001b[1;32m    117\u001b[0m         index \u001b[39m=\u001b[39m ensure_index(index)\n\u001b[1;32m    119\u001b[0m     \u001b[39m# don't force copy because getting jammed in an ndarray anyway\u001b[39;00m\n\u001b[0;32m--> 120\u001b[0m     arrays, refs \u001b[39m=\u001b[39m _homogenize(arrays, index, dtype)\n\u001b[1;32m    121\u001b[0m     \u001b[39m# _homogenize ensures\u001b[39;00m\n\u001b[1;32m    122\u001b[0m     \u001b[39m#  - all(len(x) == len(index) for x in arrays)\u001b[39;00m\n\u001b[1;32m    123\u001b[0m     \u001b[39m#  - all(x.ndim == 1 for x in arrays)\u001b[39;00m\n\u001b[0;32m   (...)\u001b[0m\n\u001b[1;32m    126\u001b[0m \n\u001b[1;32m    127\u001b[0m \u001b[39melse\u001b[39;00m:\n\u001b[1;32m    128\u001b[0m     index \u001b[39m=\u001b[39m ensure_index(index)\n",
      "File \u001b[0;32m~/miniforge3/envs/scverse10/lib/python3.10/site-packages/pandas/core/internals/construction.py:583\u001b[0m, in \u001b[0;36m_homogenize\u001b[0;34m(data, index, dtype)\u001b[0m\n\u001b[1;32m    580\u001b[0m refs: \u001b[39mlist\u001b[39m[Any] \u001b[39m=\u001b[39m []\n\u001b[1;32m    582\u001b[0m \u001b[39mfor\u001b[39;00m val \u001b[39min\u001b[39;00m data:\n\u001b[0;32m--> 583\u001b[0m     \u001b[39mif\u001b[39;00m \u001b[39misinstance\u001b[39;49m(val, ABCSeries):\n\u001b[1;32m    584\u001b[0m         \u001b[39mif\u001b[39;00m dtype \u001b[39mis\u001b[39;00m \u001b[39mnot\u001b[39;00m \u001b[39mNone\u001b[39;00m:\n\u001b[1;32m    585\u001b[0m             val \u001b[39m=\u001b[39m val\u001b[39m.\u001b[39mastype(dtype, copy\u001b[39m=\u001b[39m\u001b[39mFalse\u001b[39;00m)\n",
      "File \u001b[0;32m~/miniforge3/envs/scverse10/lib/python3.10/site-packages/pandas/core/dtypes/generic.py:44\u001b[0m, in \u001b[0;36mcreate_pandas_abc_type.<locals>._instancecheck\u001b[0;34m(cls, inst)\u001b[0m\n\u001b[1;32m     42\u001b[0m \u001b[39m@classmethod\u001b[39m  \u001b[39m# type: ignore[misc]\u001b[39;00m\n\u001b[1;32m     43\u001b[0m \u001b[39mdef\u001b[39;00m \u001b[39m_instancecheck\u001b[39m(\u001b[39mcls\u001b[39m, inst) \u001b[39m-\u001b[39m\u001b[39m>\u001b[39m \u001b[39mbool\u001b[39m:\n\u001b[0;32m---> 44\u001b[0m     \u001b[39mreturn\u001b[39;00m _check(inst) \u001b[39mand\u001b[39;00m \u001b[39mnot\u001b[39;00m \u001b[39misinstance\u001b[39m(inst, \u001b[39mtype\u001b[39m)\n",
      "File \u001b[0;32m~/miniforge3/envs/scverse10/lib/python3.10/site-packages/pandas/core/dtypes/generic.py:38\u001b[0m, in \u001b[0;36mcreate_pandas_abc_type.<locals>._check\u001b[0;34m(inst)\u001b[0m\n\u001b[1;32m     37\u001b[0m \u001b[39mdef\u001b[39;00m \u001b[39m_check\u001b[39m(inst) \u001b[39m-\u001b[39m\u001b[39m>\u001b[39m \u001b[39mbool\u001b[39m:\n\u001b[0;32m---> 38\u001b[0m     \u001b[39mreturn\u001b[39;00m \u001b[39mgetattr\u001b[39;49m(inst, attr, \u001b[39m\"\u001b[39;49m\u001b[39m_typ\u001b[39;49m\u001b[39m\"\u001b[39;49m) \u001b[39min\u001b[39;00m comp\n",
      "\u001b[0;31mKeyboardInterrupt\u001b[0m: "
     ]
    }
   ],
   "source": [
    "\n",
    "# Specify a larger sample size (e.g., 1e7 bytes)\n",
    "sample_size = 1e7\n",
    "\n",
    "\n",
    "# Specify data types\n",
    "# Assuming that the first column is object (like string) and the rest are uint8.\n",
    "dtypes = {0: 'object'}\n",
    "for col in range(1, 713626):  # Adjust the range based on the number of columns\n",
    "    dtypes[col] = 'uint8'\n",
    "\n",
    "# Define the chunk size\n",
    "chunk_size = 100  # \n",
    "# Create an empty list to store sparse matrices from each chunk\n",
    "chunk_counter = 0\n",
    "sparse_matrices = []\n",
    "genes = []\n",
    "# 1. Read the CSV in chunks using a context manager\n",
    "with pd.read_csv(count_matrix_file_path, header=0,dtype=dtypes, chunksize=chunk_size) as reader:\n",
    "    for chunk in reader:\n",
    "\n",
    "        print(f\"chunk number {chunk_counter}\")\n",
    "        # 2. get the genes\n",
    "        gene_chunk = chunk['genes']\n",
    "\n",
    "        sparse_chunk = csr_matrix(chunk.iloc[:,1:].values.T)\n",
    "        genes.append(gene_chunk)\n",
    "        sparse_matrices.append(sparse_chunk)\n",
    "\n"
   ]
  },
  {
   "cell_type": "code",
   "execution_count": null,
   "metadata": {},
   "outputs": [],
   "source": [
    "sparse_matrix = hstack(sparse_matrices)\n",
    "genes_ = pd.DataFrame(index = pd.concat(genes, axis=0))\n",
    "genes_['chunk'] = chunk_counter\n",
    "\n",
    "# adata_dict = {}\n",
    "# adata_dict[\"X\"] = sparse_matrix.transpose()\n",
    "# adata_dict[\"obs\"] = cells\n",
    "# adata_dict[\"var\"] = genes_\n",
    "# # adata_dict[\"dtype\"] = np.float64\n",
    "# # adata_dict[\"obsm\"] = dict(\n",
    "# #     a=da.random.random((M, 100)),\n",
    "# # )\n",
    "# # adata_dict[\"layers\"] = dict(\n",
    "# #     a=da.random.random((M, N)),\n",
    "# # )\n",
    "print(f\"matrix shape {sparse_matrix.shape} \\n var shape {genes_.shape} obs shape {cells.shape[0]}\")\n",
    "\n",
    "\n",
    "adata = ad.AnnData(X=sparse_matrix, obs=cells, var=genes_)\n",
    "# adata = ad.AnnData(**adata_dict)\n",
    "h5ad_file_path = f\"./data/chunk2{chunk_counter+1:04d}_output_data.h5ad\"\n",
    "adata.write_h5ad(h5ad_file_path)\n",
    "del adata\n",
    "print(f\"wrote {genes_.shape} genes to adata file {h5ad_file_path}\")"
   ]
  },
  {
   "cell_type": "code",
   "execution_count": 2,
   "metadata": {},
   "outputs": [
    {
     "name": "stderr",
     "output_type": "stream",
     "text": [
      "Global seed set to 0\n",
      "/Users/ergonyc/miniforge3/envs/scverse10/lib/python3.10/site-packages/tqdm/auto.py:21: TqdmWarning: IProgress not found. Please update jupyter and ipywidgets. See https://ipywidgets.readthedocs.io/en/stable/user_install.html\n",
      "  from .autonotebook import tqdm as notebook_tqdm\n",
      "/Users/ergonyc/miniforge3/envs/scverse10/lib/python3.10/site-packages/flax/struct.py:132: FutureWarning: jax.tree_util.register_keypaths is deprecated, and will be removed in a future release. Please use `register_pytree_with_keys()` instead.\n",
      "  jax.tree_util.register_keypaths(data_clz, keypaths)\n",
      "/Users/ergonyc/miniforge3/envs/scverse10/lib/python3.10/site-packages/flax/struct.py:132: FutureWarning: jax.tree_util.register_keypaths is deprecated, and will be removed in a future release. Please use `register_pytree_with_keys()` instead.\n",
      "  jax.tree_util.register_keypaths(data_clz, keypaths)\n"
     ]
    }
   ],
   "source": [
    "import scanpy as sc\n",
    "import scvi\n",
    "\n",
    "sc.set_figure_params(figsize=(4, 4))\n",
    "\n",
    "# for white background of figures (only for docs rendering)\n",
    "%config InlineBackend.print_figure_kwargs={'facecolor' : \"w\"}\n",
    "%config InlineBackend.figure_format='retina'"
   ]
  },
  {
   "cell_type": "code",
   "execution_count": 5,
   "metadata": {},
   "outputs": [
    {
     "name": "stdout",
     "output_type": "stream",
     "text": [
      "working with 3000 features\n"
     ]
    }
   ],
   "source": [
    "print(f\"working with {len(features)} features\")"
   ]
  },
  {
   "cell_type": "code",
   "execution_count": null,
   "metadata": {},
   "outputs": [],
   "source": []
  },
  {
   "cell_type": "code",
   "execution_count": 41,
   "metadata": {},
   "outputs": [],
   "source": [
    "# load the first file \n",
    "adata0 = ad.read_h5ad(chunk_fs[0])\n",
    "# subset it to the features in features.\n",
    "keep_feaets = adata0.var_names.isin(features)"
   ]
  },
  {
   "cell_type": "code",
   "execution_count": 42,
   "metadata": {},
   "outputs": [
    {
     "data": {
      "text/plain": [
       "View of AnnData object with n_obs × n_vars = 713626 × 30\n",
       "    obs: 'seurat_clusters', 'cell_type', 'sample'"
      ]
     },
     "execution_count": 42,
     "metadata": {},
     "output_type": "execute_result"
    }
   ],
   "source": [
    "\n",
    "adata0 = adata0[:, keep_feaets]\n",
    "adata0\n"
   ]
  },
  {
   "cell_type": "code",
   "execution_count": null,
   "metadata": {},
   "outputs": [],
   "source": [
    "\n"
   ]
  },
  {
   "cell_type": "code",
   "execution_count": 43,
   "metadata": {},
   "outputs": [
    {
     "name": "stdout",
     "output_type": "stream",
     "text": [
      "loading /Users/ergonyc/Projects/SingleCell/labelator/data/chunk0020_output_data.h5ad\n",
      "adata0 shape: (713626, 129)\n",
      "writing to disk\n",
      "done writing to disk\n",
      "loading /Users/ergonyc/Projects/SingleCell/labelator/data/chunk0030_output_data.h5ad\n",
      "adata0 shape: (713626, 197)\n",
      "loading /Users/ergonyc/Projects/SingleCell/labelator/data/chunk0040_output_data.h5ad\n",
      "adata0 shape: (713626, 287)\n",
      "loading /Users/ergonyc/Projects/SingleCell/labelator/data/chunk0050_output_data.h5ad\n",
      "adata0 shape: (713626, 360)\n",
      "loading /Users/ergonyc/Projects/SingleCell/labelator/data/chunk0060_output_data.h5ad\n",
      "adata0 shape: (713626, 506)\n",
      "loading /Users/ergonyc/Projects/SingleCell/labelator/data/chunk0070_output_data.h5ad\n",
      "adata0 shape: (713626, 617)\n",
      "loading /Users/ergonyc/Projects/SingleCell/labelator/data/chunk0080_output_data.h5ad\n",
      "adata0 shape: (713626, 737)\n",
      "loading /Users/ergonyc/Projects/SingleCell/labelator/data/chunk0090_output_data.h5ad\n",
      "adata0 shape: (713626, 875)\n",
      "loading /Users/ergonyc/Projects/SingleCell/labelator/data/chunk0100_output_data.h5ad\n",
      "adata0 shape: (713626, 1000)\n",
      "loading /Users/ergonyc/Projects/SingleCell/labelator/data/chunk0110_output_data.h5ad\n",
      "adata0 shape: (713626, 1127)\n",
      "loading /Users/ergonyc/Projects/SingleCell/labelator/data/chunk0120_output_data.h5ad\n",
      "adata0 shape: (713626, 1194)\n",
      "writing to disk\n",
      "done writing to disk\n",
      "loading /Users/ergonyc/Projects/SingleCell/labelator/data/chunk0130_output_data.h5ad\n",
      "adata0 shape: (713626, 1322)\n",
      "loading /Users/ergonyc/Projects/SingleCell/labelator/data/chunk0140_output_data.h5ad\n",
      "adata0 shape: (713626, 1423)\n",
      "loading /Users/ergonyc/Projects/SingleCell/labelator/data/chunk0150_output_data.h5ad\n",
      "adata0 shape: (713626, 1487)\n",
      "loading /Users/ergonyc/Projects/SingleCell/labelator/data/chunk0160_output_data.h5ad\n",
      "adata0 shape: (713626, 1599)\n",
      "loading /Users/ergonyc/Projects/SingleCell/labelator/data/chunk0170_output_data.h5ad\n",
      "adata0 shape: (713626, 1688)\n",
      "loading /Users/ergonyc/Projects/SingleCell/labelator/data/chunk0180_output_data.h5ad\n",
      "adata0 shape: (713626, 1780)\n",
      "loading /Users/ergonyc/Projects/SingleCell/labelator/data/chunk0190_output_data.h5ad\n",
      "adata0 shape: (713626, 1879)\n",
      "loading /Users/ergonyc/Projects/SingleCell/labelator/data/chunk0200_output_data.h5ad\n",
      "adata0 shape: (713626, 1943)\n",
      "loading /Users/ergonyc/Projects/SingleCell/labelator/data/chunk0210_output_data.h5ad\n",
      "adata0 shape: (713626, 2009)\n",
      "loading /Users/ergonyc/Projects/SingleCell/labelator/data/chunk0220_output_data.h5ad\n",
      "adata0 shape: (713626, 2093)\n",
      "writing to disk\n",
      "done writing to disk\n",
      "loading /Users/ergonyc/Projects/SingleCell/labelator/data/chunk0230_output_data.h5ad\n",
      "adata0 shape: (713626, 2177)\n",
      "loading /Users/ergonyc/Projects/SingleCell/labelator/data/chunk0240_output_data.h5ad\n",
      "adata0 shape: (713626, 2267)\n",
      "loading /Users/ergonyc/Projects/SingleCell/labelator/data/chunk0250_output_data.h5ad\n",
      "adata0 shape: (713626, 2362)\n",
      "loading /Users/ergonyc/Projects/SingleCell/labelator/data/chunk0260_output_data.h5ad\n",
      "adata0 shape: (713626, 2429)\n",
      "loading /Users/ergonyc/Projects/SingleCell/labelator/data/chunk0270_output_data.h5ad\n",
      "adata0 shape: (713626, 2492)\n",
      "loading /Users/ergonyc/Projects/SingleCell/labelator/data/chunk0280_output_data.h5ad\n",
      "adata0 shape: (713626, 2545)\n",
      "loading /Users/ergonyc/Projects/SingleCell/labelator/data/chunk0290_output_data.h5ad\n",
      "adata0 shape: (713626, 2579)\n",
      "loading /Users/ergonyc/Projects/SingleCell/labelator/data/chunk0300_output_data.h5ad\n",
      "adata0 shape: (713626, 2630)\n",
      "loading /Users/ergonyc/Projects/SingleCell/labelator/data/chunk0310_output_data.h5ad\n",
      "adata0 shape: (713626, 2712)\n",
      "loading /Users/ergonyc/Projects/SingleCell/labelator/data/chunk0320_output_data.h5ad\n",
      "adata0 shape: (713626, 2743)\n",
      "writing to disk\n",
      "done writing to disk\n",
      "loading /Users/ergonyc/Projects/SingleCell/labelator/data/chunk0330_output_data.h5ad\n",
      "adata0 shape: (713626, 2763)\n",
      "loading /Users/ergonyc/Projects/SingleCell/labelator/data/chunk0340_output_data.h5ad\n",
      "adata0 shape: (713626, 2817)\n",
      "loading /Users/ergonyc/Projects/SingleCell/labelator/data/chunk0350_output_data.h5ad\n",
      "adata0 shape: (713626, 2871)\n",
      "loading /Users/ergonyc/Projects/SingleCell/labelator/data/chunk0360_output_data.h5ad\n",
      "adata0 shape: (713626, 2951)\n",
      "loading /Users/ergonyc/Projects/SingleCell/labelator/data/chunk0368_output_data.h5ad\n",
      "adata0 shape: (713626, 3000)\n"
     ]
    }
   ],
   "source": [
    "for chunk_n, chunk in enumerate(chunk_fs[1:]):\n",
    "    print(f\"loading {chunk}\")\n",
    "    adata = ad.read_h5ad(chunk)\n",
    "    keep_feats = adata.var_names.isin(features)\n",
    "    adata = adata[:, keep_feats]\n",
    "    adata0 = ad.concat([adata0, adata], axis=1)\n",
    "    print(f\"adata0 shape: {adata0.shape}\")\n",
    "    if chunk_n % 10 == 0:\n",
    "        print(f\"writing to disk\")\n",
    "        adata0.write_h5ad(f\"brain_atlas_anndata_{chunk_n}.h5ad\")\n",
    "        print(f\"done writing to disk\")"
   ]
  },
  {
   "cell_type": "code",
   "execution_count": 44,
   "metadata": {},
   "outputs": [
    {
     "name": "stdout",
     "output_type": "stream",
     "text": [
      "writing to disk\n",
      "done writing to disk\n"
     ]
    }
   ],
   "source": [
    "print(f\"writing to disk\")\n",
    "adata0.write_h5ad(f\"brain_atlas_anndata_FINAL.h5ad\")\n",
    "print(f\"done writing to disk\")"
   ]
  },
  {
   "cell_type": "code",
   "execution_count": 82,
   "metadata": {},
   "outputs": [],
   "source": [
    "adata = ad.read_h5ad(\"brain_atlas_anndata_FINAL.h5ad\")"
   ]
  },
  {
   "cell_type": "code",
   "execution_count": 83,
   "metadata": {},
   "outputs": [],
   "source": [
    "adata.var_names_make_unique()"
   ]
  },
  {
   "cell_type": "code",
   "execution_count": 84,
   "metadata": {},
   "outputs": [
    {
     "data": {
      "text/plain": [
       "AnnData object with n_obs × n_vars = 713626 × 3000"
      ]
     },
     "execution_count": 84,
     "metadata": {},
     "output_type": "execute_result"
    }
   ],
   "source": [
    "adata"
   ]
  },
  {
   "cell_type": "code",
   "execution_count": 85,
   "metadata": {},
   "outputs": [],
   "source": [
    "obs = pd.read_csv(\"data/cell_barcode_labels.csv\", index_col=0)"
   ]
  },
  {
   "cell_type": "code",
   "execution_count": 86,
   "metadata": {},
   "outputs": [],
   "source": [
    "adata.obs = obs"
   ]
  },
  {
   "cell_type": "code",
   "execution_count": 87,
   "metadata": {},
   "outputs": [],
   "source": [
    "# Suppose you want to change the dtype to float32\n",
    "adata.X = adata.X.astype('float32')\n",
    "# After changing the dtype, you can save the AnnData object if needed\n",
    "adata.write_h5ad('adata_float32.h5ad')\n"
   ]
  },
  {
   "cell_type": "code",
   "execution_count": 80,
   "metadata": {},
   "outputs": [],
   "source": [
    "X = adata.X\n"
   ]
  },
  {
   "cell_type": "code",
   "execution_count": 81,
   "metadata": {},
   "outputs": [
    {
     "data": {
      "text/plain": [
       "<HDF5 sparse dataset: format 'csr', shape (713626, 3000), type '|u1'>"
      ]
     },
     "execution_count": 81,
     "metadata": {},
     "output_type": "execute_result"
    }
   ],
   "source": [
    "X"
   ]
  },
  {
   "cell_type": "code",
   "execution_count": 88,
   "metadata": {},
   "outputs": [],
   "source": [
    "\n",
    "sc.pp.filter_genes(adata, min_counts=3)\n"
   ]
  },
  {
   "cell_type": "code",
   "execution_count": 89,
   "metadata": {},
   "outputs": [],
   "source": [
    "\n",
    "\n",
    "adata.layers[\"counts\"] = adata.X.copy()  # preserve counts\n",
    "sc.pp.normalize_total(adata, target_sum=1e4)\n",
    "sc.pp.log1p(adata)\n",
    "adata.raw = adata  # freeze the state in `.raw`\n"
   ]
  },
  {
   "cell_type": "code",
   "execution_count": 101,
   "metadata": {},
   "outputs": [
    {
     "data": {
      "text/plain": [
       "AnnData object with n_obs × n_vars = 713626 × 3000\n",
       "    obs: 'seurat_clusters', 'cell_type', 'sample', 'batch', 'n_genes_by_counts', 'log1p_n_genes_by_counts', 'total_counts', 'log1p_total_counts', 'pct_counts_in_top_20_genes', 'total_counts_mt', 'log1p_total_counts_mt', 'pct_counts_mt', 'total_counts_ribo', 'log1p_total_counts_ribo', 'pct_counts_ribo'\n",
       "    var: 'n_counts', 'mt', 'ribo', 'n_cells_by_counts', 'mean_counts', 'log1p_mean_counts', 'pct_dropout_by_counts', 'total_counts', 'log1p_total_counts'\n",
       "    uns: 'log1p'\n",
       "    layers: 'counts'"
      ]
     },
     "execution_count": 101,
     "metadata": {},
     "output_type": "execute_result"
    }
   ],
   "source": [
    "\n",
    "# mitochondrial genes\n",
    "adata.var[\"mt\"] = adata.var_names.str.startswith(\"MT-\")\n",
    "# ribosomal genes\n",
    "adata.var[\"ribo\"] = adata.var_names.str.startswith((\"RPS\", \"RPL\"))\n",
    "sc.pp.calculate_qc_metrics(\n",
    "    adata, qc_vars=[\"mt\", \"ribo\"], inplace=True, percent_top=[20], log1p=True\n",
    ")\n",
    "adata"
   ]
  },
  {
   "cell_type": "code",
   "execution_count": 93,
   "metadata": {},
   "outputs": [
    {
     "data": {
      "text/html": [
       "<div>\n",
       "<style scoped>\n",
       "    .dataframe tbody tr th:only-of-type {\n",
       "        vertical-align: middle;\n",
       "    }\n",
       "\n",
       "    .dataframe tbody tr th {\n",
       "        vertical-align: top;\n",
       "    }\n",
       "\n",
       "    .dataframe thead th {\n",
       "        text-align: right;\n",
       "    }\n",
       "</style>\n",
       "<table border=\"1\" class=\"dataframe\">\n",
       "  <thead>\n",
       "    <tr style=\"text-align: right;\">\n",
       "      <th></th>\n",
       "      <th>sample</th>\n",
       "      <th>batch</th>\n",
       "    </tr>\n",
       "  </thead>\n",
       "  <tbody>\n",
       "    <tr>\n",
       "      <th>0</th>\n",
       "      <td>KEN-1070-ARC</td>\n",
       "      <td>batch1</td>\n",
       "    </tr>\n",
       "    <tr>\n",
       "      <th>1</th>\n",
       "      <td>KEN-1092-ARC</td>\n",
       "      <td>batch1</td>\n",
       "    </tr>\n",
       "    <tr>\n",
       "      <th>2</th>\n",
       "      <td>KEN-1095-ARC</td>\n",
       "      <td>batch1</td>\n",
       "    </tr>\n",
       "    <tr>\n",
       "      <th>3</th>\n",
       "      <td>KEN-1127-ARC</td>\n",
       "      <td>batch1</td>\n",
       "    </tr>\n",
       "    <tr>\n",
       "      <th>4</th>\n",
       "      <td>KEN-1132-ARC</td>\n",
       "      <td>batch1</td>\n",
       "    </tr>\n",
       "    <tr>\n",
       "      <th>...</th>\n",
       "      <td>...</td>\n",
       "      <td>...</td>\n",
       "    </tr>\n",
       "    <tr>\n",
       "      <th>133</th>\n",
       "      <td>UMARY-819-ARC</td>\n",
       "      <td>batch5</td>\n",
       "    </tr>\n",
       "    <tr>\n",
       "      <th>134</th>\n",
       "      <td>UMARY-871-ARC</td>\n",
       "      <td>batch5</td>\n",
       "    </tr>\n",
       "    <tr>\n",
       "      <th>135</th>\n",
       "      <td>UMARY-879-ARC</td>\n",
       "      <td>batch5</td>\n",
       "    </tr>\n",
       "    <tr>\n",
       "      <th>136</th>\n",
       "      <td>UMARY-914-ARC</td>\n",
       "      <td>batch5</td>\n",
       "    </tr>\n",
       "    <tr>\n",
       "      <th>137</th>\n",
       "      <td>UMARY-933-ARC</td>\n",
       "      <td>batch5</td>\n",
       "    </tr>\n",
       "  </tbody>\n",
       "</table>\n",
       "<p>138 rows × 2 columns</p>\n",
       "</div>"
      ],
      "text/plain": [
       "            sample   batch\n",
       "0     KEN-1070-ARC  batch1\n",
       "1     KEN-1092-ARC  batch1\n",
       "2     KEN-1095-ARC  batch1\n",
       "3     KEN-1127-ARC  batch1\n",
       "4     KEN-1132-ARC  batch1\n",
       "..             ...     ...\n",
       "133  UMARY-819-ARC  batch5\n",
       "134  UMARY-871-ARC  batch5\n",
       "135  UMARY-879-ARC  batch5\n",
       "136  UMARY-914-ARC  batch5\n",
       "137  UMARY-933-ARC  batch5\n",
       "\n",
       "[138 rows x 2 columns]"
      ]
     },
     "execution_count": 93,
     "metadata": {},
     "output_type": "execute_result"
    }
   ],
   "source": [
    "\n",
    "\n",
    "clean_samples_path = Path.cwd() / \"data\" / \"Model Combinations - clean_samples_138.csv\"\n",
    "clean_samples = pd.read_csv(clean_samples_path)\n",
    "\n",
    "batch_mapper = dict(zip(clean_samples[\"sample\"], clean_samples[\"batch\"]))\n",
    "\n",
    "adata.obs[\"batch\"] = adata.obs[\"sample\"].map(batch_mapper)"
   ]
  },
  {
   "cell_type": "code",
   "execution_count": 102,
   "metadata": {},
   "outputs": [],
   "source": [
    "adata.write_h5ad(\"brain_atlas_anndata_FULL.h5ad\")\n"
   ]
  },
  {
   "cell_type": "code",
   "execution_count": 103,
   "metadata": {},
   "outputs": [],
   "source": [
    "adata = ad.read_h5ad(\"brain_atlas_anndata_FULL.h5ad\")"
   ]
  },
  {
   "cell_type": "code",
   "execution_count": 104,
   "metadata": {},
   "outputs": [
    {
     "data": {
      "text/html": [
       "<div>\n",
       "<style scoped>\n",
       "    .dataframe tbody tr th:only-of-type {\n",
       "        vertical-align: middle;\n",
       "    }\n",
       "\n",
       "    .dataframe tbody tr th {\n",
       "        vertical-align: top;\n",
       "    }\n",
       "\n",
       "    .dataframe thead th {\n",
       "        text-align: right;\n",
       "    }\n",
       "</style>\n",
       "<table border=\"1\" class=\"dataframe\">\n",
       "  <thead>\n",
       "    <tr style=\"text-align: right;\">\n",
       "      <th></th>\n",
       "      <th>seurat_clusters</th>\n",
       "      <th>cell_type</th>\n",
       "      <th>sample</th>\n",
       "      <th>batch</th>\n",
       "      <th>n_genes_by_counts</th>\n",
       "      <th>log1p_n_genes_by_counts</th>\n",
       "      <th>total_counts</th>\n",
       "      <th>log1p_total_counts</th>\n",
       "      <th>pct_counts_in_top_20_genes</th>\n",
       "      <th>total_counts_mt</th>\n",
       "      <th>log1p_total_counts_mt</th>\n",
       "      <th>pct_counts_mt</th>\n",
       "      <th>total_counts_ribo</th>\n",
       "      <th>log1p_total_counts_ribo</th>\n",
       "      <th>pct_counts_ribo</th>\n",
       "    </tr>\n",
       "    <tr>\n",
       "      <th>cells</th>\n",
       "      <th></th>\n",
       "      <th></th>\n",
       "      <th></th>\n",
       "      <th></th>\n",
       "      <th></th>\n",
       "      <th></th>\n",
       "      <th></th>\n",
       "      <th></th>\n",
       "      <th></th>\n",
       "      <th></th>\n",
       "      <th></th>\n",
       "      <th></th>\n",
       "      <th></th>\n",
       "      <th></th>\n",
       "      <th></th>\n",
       "    </tr>\n",
       "  </thead>\n",
       "  <tbody>\n",
       "    <tr>\n",
       "      <th>GGCCTAATCGATTTAG-1_1</th>\n",
       "      <td>11</td>\n",
       "      <td>Mature neurons</td>\n",
       "      <td>KEN-1070-ARC</td>\n",
       "      <td>batch1</td>\n",
       "      <td>1310</td>\n",
       "      <td>7.178545</td>\n",
       "      <td>2034.776367</td>\n",
       "      <td>7.618632</td>\n",
       "      <td>4.502719</td>\n",
       "      <td>0.0</td>\n",
       "      <td>0.0</td>\n",
       "      <td>0.0</td>\n",
       "      <td>0.0</td>\n",
       "      <td>0.0</td>\n",
       "      <td>0.0</td>\n",
       "    </tr>\n",
       "    <tr>\n",
       "      <th>TAGTAACGTAGTCAAT-1_1</th>\n",
       "      <td>5</td>\n",
       "      <td>Mature neurons</td>\n",
       "      <td>KEN-1070-ARC</td>\n",
       "      <td>batch1</td>\n",
       "      <td>1294</td>\n",
       "      <td>7.166266</td>\n",
       "      <td>2045.917969</td>\n",
       "      <td>7.624091</td>\n",
       "      <td>4.451315</td>\n",
       "      <td>0.0</td>\n",
       "      <td>0.0</td>\n",
       "      <td>0.0</td>\n",
       "      <td>0.0</td>\n",
       "      <td>0.0</td>\n",
       "      <td>0.0</td>\n",
       "    </tr>\n",
       "    <tr>\n",
       "      <th>GAAAGCCAGCAGCTCA-1_1</th>\n",
       "      <td>2</td>\n",
       "      <td>Oligodendrocytes</td>\n",
       "      <td>KEN-1070-ARC</td>\n",
       "      <td>batch1</td>\n",
       "      <td>1209</td>\n",
       "      <td>7.098376</td>\n",
       "      <td>2015.303955</td>\n",
       "      <td>7.609021</td>\n",
       "      <td>4.578828</td>\n",
       "      <td>0.0</td>\n",
       "      <td>0.0</td>\n",
       "      <td>0.0</td>\n",
       "      <td>0.0</td>\n",
       "      <td>0.0</td>\n",
       "      <td>0.0</td>\n",
       "    </tr>\n",
       "    <tr>\n",
       "      <th>ACTCACCTCCTCCCTC-1_1</th>\n",
       "      <td>5</td>\n",
       "      <td>Mature neurons</td>\n",
       "      <td>KEN-1070-ARC</td>\n",
       "      <td>batch1</td>\n",
       "      <td>1125</td>\n",
       "      <td>7.026427</td>\n",
       "      <td>1856.347168</td>\n",
       "      <td>7.526905</td>\n",
       "      <td>5.043708</td>\n",
       "      <td>0.0</td>\n",
       "      <td>0.0</td>\n",
       "      <td>0.0</td>\n",
       "      <td>0.0</td>\n",
       "      <td>0.0</td>\n",
       "      <td>0.0</td>\n",
       "    </tr>\n",
       "    <tr>\n",
       "      <th>CTTCATCCAATCGCAC-1_1</th>\n",
       "      <td>11</td>\n",
       "      <td>Mature neurons</td>\n",
       "      <td>KEN-1070-ARC</td>\n",
       "      <td>batch1</td>\n",
       "      <td>1108</td>\n",
       "      <td>7.011214</td>\n",
       "      <td>1831.069092</td>\n",
       "      <td>7.513201</td>\n",
       "      <td>5.125524</td>\n",
       "      <td>0.0</td>\n",
       "      <td>0.0</td>\n",
       "      <td>0.0</td>\n",
       "      <td>0.0</td>\n",
       "      <td>0.0</td>\n",
       "      <td>0.0</td>\n",
       "    </tr>\n",
       "  </tbody>\n",
       "</table>\n",
       "</div>"
      ],
      "text/plain": [
       "                      seurat_clusters         cell_type        sample   batch   \n",
       "cells                                                                           \n",
       "GGCCTAATCGATTTAG-1_1               11    Mature neurons  KEN-1070-ARC  batch1  \\\n",
       "TAGTAACGTAGTCAAT-1_1                5    Mature neurons  KEN-1070-ARC  batch1   \n",
       "GAAAGCCAGCAGCTCA-1_1                2  Oligodendrocytes  KEN-1070-ARC  batch1   \n",
       "ACTCACCTCCTCCCTC-1_1                5    Mature neurons  KEN-1070-ARC  batch1   \n",
       "CTTCATCCAATCGCAC-1_1               11    Mature neurons  KEN-1070-ARC  batch1   \n",
       "\n",
       "                      n_genes_by_counts  log1p_n_genes_by_counts   \n",
       "cells                                                              \n",
       "GGCCTAATCGATTTAG-1_1               1310                 7.178545  \\\n",
       "TAGTAACGTAGTCAAT-1_1               1294                 7.166266   \n",
       "GAAAGCCAGCAGCTCA-1_1               1209                 7.098376   \n",
       "ACTCACCTCCTCCCTC-1_1               1125                 7.026427   \n",
       "CTTCATCCAATCGCAC-1_1               1108                 7.011214   \n",
       "\n",
       "                      total_counts  log1p_total_counts   \n",
       "cells                                                    \n",
       "GGCCTAATCGATTTAG-1_1   2034.776367            7.618632  \\\n",
       "TAGTAACGTAGTCAAT-1_1   2045.917969            7.624091   \n",
       "GAAAGCCAGCAGCTCA-1_1   2015.303955            7.609021   \n",
       "ACTCACCTCCTCCCTC-1_1   1856.347168            7.526905   \n",
       "CTTCATCCAATCGCAC-1_1   1831.069092            7.513201   \n",
       "\n",
       "                      pct_counts_in_top_20_genes  total_counts_mt   \n",
       "cells                                                               \n",
       "GGCCTAATCGATTTAG-1_1                    4.502719              0.0  \\\n",
       "TAGTAACGTAGTCAAT-1_1                    4.451315              0.0   \n",
       "GAAAGCCAGCAGCTCA-1_1                    4.578828              0.0   \n",
       "ACTCACCTCCTCCCTC-1_1                    5.043708              0.0   \n",
       "CTTCATCCAATCGCAC-1_1                    5.125524              0.0   \n",
       "\n",
       "                      log1p_total_counts_mt  pct_counts_mt  total_counts_ribo   \n",
       "cells                                                                           \n",
       "GGCCTAATCGATTTAG-1_1                    0.0            0.0                0.0  \\\n",
       "TAGTAACGTAGTCAAT-1_1                    0.0            0.0                0.0   \n",
       "GAAAGCCAGCAGCTCA-1_1                    0.0            0.0                0.0   \n",
       "ACTCACCTCCTCCCTC-1_1                    0.0            0.0                0.0   \n",
       "CTTCATCCAATCGCAC-1_1                    0.0            0.0                0.0   \n",
       "\n",
       "                      log1p_total_counts_ribo  pct_counts_ribo  \n",
       "cells                                                           \n",
       "GGCCTAATCGATTTAG-1_1                      0.0              0.0  \n",
       "TAGTAACGTAGTCAAT-1_1                      0.0              0.0  \n",
       "GAAAGCCAGCAGCTCA-1_1                      0.0              0.0  \n",
       "ACTCACCTCCTCCCTC-1_1                      0.0              0.0  \n",
       "CTTCATCCAATCGCAC-1_1                      0.0              0.0  "
      ]
     },
     "execution_count": 104,
     "metadata": {},
     "output_type": "execute_result"
    }
   ],
   "source": [
    "adata.obs.head()"
   ]
  },
  {
   "cell_type": "code",
   "execution_count": 105,
   "metadata": {},
   "outputs": [],
   "source": [
    "scvi.model.SCVI.setup_anndata(\n",
    "    adata,\n",
    "    layer=\"counts\",\n",
    "    categorical_covariate_keys=[\"batch\"],\n",
    "    continuous_covariate_keys=[],\n",
    ")"
   ]
  },
  {
   "cell_type": "code",
   "execution_count": 106,
   "metadata": {},
   "outputs": [
    {
     "data": {
      "text/plain": [
       "AnnData object with n_obs × n_vars = 713626 × 3000\n",
       "    obs: 'seurat_clusters', 'cell_type', 'sample', 'batch', 'n_genes_by_counts', 'log1p_n_genes_by_counts', 'total_counts', 'log1p_total_counts', 'pct_counts_in_top_20_genes', 'total_counts_mt', 'log1p_total_counts_mt', 'pct_counts_mt', 'total_counts_ribo', 'log1p_total_counts_ribo', 'pct_counts_ribo', '_scvi_batch', '_scvi_labels'\n",
       "    var: 'n_counts', 'mt', 'ribo', 'n_cells_by_counts', 'mean_counts', 'log1p_mean_counts', 'pct_dropout_by_counts', 'total_counts', 'log1p_total_counts'\n",
       "    uns: 'log1p', '_scvi_uuid', '_scvi_manager_uuid'\n",
       "    obsm: '_scvi_extra_categorical_covs'\n",
       "    layers: 'counts'"
      ]
     },
     "execution_count": 106,
     "metadata": {},
     "output_type": "execute_result"
    }
   ],
   "source": [
    "adata"
   ]
  },
  {
   "cell_type": "code",
   "execution_count": 10,
   "metadata": {},
   "outputs": [
    {
     "name": "stderr",
     "output_type": "stream",
     "text": [
      "/Users/ergonyc/miniforge3/envs/scverse10/lib/python3.10/site-packages/anndata/_core/anndata.py:117: ImplicitModificationWarning: Transforming to str index.\n",
      "  warnings.warn(\"Transforming to str index.\", ImplicitModificationWarning)\n",
      "/Users/ergonyc/miniforge3/envs/scverse10/lib/python3.10/site-packages/anndata/_core/anndata.py:117: ImplicitModificationWarning: Transforming to str index.\n",
      "  warnings.warn(\"Transforming to str index.\", ImplicitModificationWarning)\n",
      "/Users/ergonyc/miniforge3/envs/scverse10/lib/python3.10/site-packages/anndata/_core/anndata.py:117: ImplicitModificationWarning: Transforming to str index.\n",
      "  warnings.warn(\"Transforming to str index.\", ImplicitModificationWarning)\n",
      "/Users/ergonyc/miniforge3/envs/scverse10/lib/python3.10/site-packages/anndata/_core/anndata.py:117: ImplicitModificationWarning: Transforming to str index.\n",
      "  warnings.warn(\"Transforming to str index.\", ImplicitModificationWarning)\n"
     ]
    }
   ],
   "source": [
    "\n",
    "# Create empty DataFrames for .obs and .var\n",
    "obs = pd.DataFrame()\n",
    "var_ = pd.DataFrame()\n",
    "# Initialize the AnnData object with the empty DataFrames\n",
    "adata_empty = ad.AnnData(X=None, obs=obs, var=var_)\n",
    "adata_empty.write_h5ad(\"master.h5ad\")\n",
    "\n",
    "master_ad = ad.read_h5ad(\"master.h5ad\", backed=\"r+\")\n",
    "\n",
    "adata1 = ad.read_h5ad(chunk_fs[0])\n",
    "adata2 = ad.read_h5ad(chunk_fs[2])\n",
    "\n",
    "\n",
    "# adata1 = ad.read_h5ad(chunk_fs[0], backed=\"r\")\n",
    "# adata2 = ad.read_h5ad(chunk_fs[1], backed=\"r\")\n",
    "# adata3 = ad.read_h5ad(chunk_fs[3], backed=\"r\")\n",
    "\n"
   ]
  },
  {
   "cell_type": "code",
   "execution_count": 29,
   "metadata": {},
   "outputs": [
    {
     "data": {
      "text/plain": [
       "cells\n",
       "GGCCTAATCGATTTAG-1_1       KEN-1070-ARC\n",
       "TAGTAACGTAGTCAAT-1_1       KEN-1070-ARC\n",
       "GAAAGCCAGCAGCTCA-1_1       KEN-1070-ARC\n",
       "ACTCACCTCCTCCCTC-1_1       KEN-1070-ARC\n",
       "CTTCATCCAATCGCAC-1_1       KEN-1070-ARC\n",
       "                              ...      \n",
       "GTTGTGAGTCGCAATA-1_138    UMARY-933-ARC\n",
       "GAAGTCAAGCCACAAT-1_138    UMARY-933-ARC\n",
       "CTGGACCAGGCTGTGC-1_138    UMARY-933-ARC\n",
       "TCCTCACAGGAGTAAT-1_138    UMARY-933-ARC\n",
       "GCAGCCAGTTGTGATG-1_138    UMARY-933-ARC\n",
       "Name: sample, Length: 709811, dtype: category\n",
       "Categories (138, object): ['KEN-1066-ARC', 'KEN-1070-ARC', 'KEN-1092-ARC', 'KEN-1095-ARC', ..., 'UMARY-5120-ARC', 'UMARY-5123-ARC', 'UMARY-5171-ARC', 'UMARY-5179-ARC']"
      ]
     },
     "execution_count": 29,
     "metadata": {},
     "output_type": "execute_result"
    }
   ],
   "source": [
    "adata.obs[\"sample\"]"
   ]
  },
  {
   "cell_type": "code",
   "execution_count": 42,
   "metadata": {},
   "outputs": [
    {
     "data": {
      "text/plain": [
       "features\n",
       "False    100\n",
       "Name: count, dtype: int64"
      ]
     },
     "execution_count": 42,
     "metadata": {},
     "output_type": "execute_result"
    }
   ],
   "source": [
    "# adata2.var_names_make_unique()\n",
    "keep_var = [(v in features) for v in adata2.var_names] \n",
    "\n",
    "# keep_obs = [(o in clean_samples['samples']) for o in adata2.obs['sample']]\n",
    "\n",
    "# adata2.obs['sample'].isin(clean_samples['sample']).value_counts()\n",
    "\n",
    "adata1.var['features'] = adata1.var_names\n",
    "\n",
    "adata1.var['features'].isin(features).value_counts()"
   ]
  },
  {
   "cell_type": "code",
   "execution_count": 34,
   "metadata": {},
   "outputs": [
    {
     "data": {
      "text/html": [
       "<div>\n",
       "<style scoped>\n",
       "    .dataframe tbody tr th:only-of-type {\n",
       "        vertical-align: middle;\n",
       "    }\n",
       "\n",
       "    .dataframe tbody tr th {\n",
       "        vertical-align: top;\n",
       "    }\n",
       "\n",
       "    .dataframe thead th {\n",
       "        text-align: right;\n",
       "    }\n",
       "</style>\n",
       "<table border=\"1\" class=\"dataframe\">\n",
       "  <thead>\n",
       "    <tr style=\"text-align: right;\">\n",
       "      <th></th>\n",
       "      <th>sample</th>\n",
       "      <th>batch</th>\n",
       "    </tr>\n",
       "  </thead>\n",
       "  <tbody>\n",
       "    <tr>\n",
       "      <th>0</th>\n",
       "      <td>KEN-1070-ARC</td>\n",
       "      <td>batch1</td>\n",
       "    </tr>\n",
       "  </tbody>\n",
       "</table>\n",
       "</div>"
      ],
      "text/plain": [
       "         sample   batch\n",
       "0  KEN-1070-ARC  batch1"
      ]
     },
     "execution_count": 34,
     "metadata": {},
     "output_type": "execute_result"
    }
   ],
   "source": [
    "clean_samples[:1]"
   ]
  },
  {
   "cell_type": "code",
   "execution_count": 59,
   "metadata": {},
   "outputs": [
    {
     "data": {
      "text/plain": [
       "((20000, 900), (20000, 1000))"
      ]
     },
     "execution_count": 59,
     "metadata": {},
     "output_type": "execute_result"
    }
   ],
   "source": [
    "master_ad.X = adata1.X\n",
    "master_ad.obs = adata1.obs\n",
    "master_ad.var = adata1.var\n",
    "\n"
   ]
  },
  {
   "cell_type": "code",
   "execution_count": 9,
   "metadata": {},
   "outputs": [],
   "source": [
    "adata1.var_names_make_unique()"
   ]
  },
  {
   "cell_type": "code",
   "execution_count": 60,
   "metadata": {},
   "outputs": [
    {
     "data": {
      "text/plain": [
       "(20000, 900)"
      ]
     },
     "execution_count": 60,
     "metadata": {},
     "output_type": "execute_result"
    }
   ],
   "source": [
    "adata1_sm.write_h5ad(\"adata1.h5ad\")\n",
    "adata2_sm.write_h5ad(\"adata2.h5ad\")\n",
    "\n",
    "X_sm = hstack([adata1_sm.X, adata2_sm.X])\n",
    "adata1_sm.X.shape"
   ]
  },
  {
   "cell_type": "code",
   "execution_count": 11,
   "metadata": {},
   "outputs": [
    {
     "ename": "AttributeError",
     "evalue": "'AnnData' object has no attribute 'x'",
     "output_type": "error",
     "traceback": [
      "\u001b[0;31m---------------------------------------------------------------------------\u001b[0m",
      "\u001b[0;31mAttributeError\u001b[0m                            Traceback (most recent call last)",
      "\u001b[1;32m/Users/ergonyc/Projects/SingleCell/labelator/test_4.ipynb Cell 11\u001b[0m line \u001b[0;36m1\n\u001b[0;32m----> <a href='vscode-notebook-cell:/Users/ergonyc/Projects/SingleCell/labelator/test_4.ipynb#X23sZmlsZQ%3D%3D?line=0'>1</a>\u001b[0m adata1\u001b[39m.\u001b[39;49mx\u001b[39m.\u001b[39mshape\n",
      "\u001b[0;31mAttributeError\u001b[0m: 'AnnData' object has no attribute 'x'"
     ]
    }
   ],
   "source": [
    "adata1.x.shape"
   ]
  },
  {
   "cell_type": "code",
   "execution_count": 7,
   "metadata": {},
   "outputs": [
    {
     "ename": "KeyError",
     "evalue": "\"Unable to synchronously open object (object 'X' doesn't exist)\"",
     "output_type": "error",
     "traceback": [
      "\u001b[0;31m---------------------------------------------------------------------------\u001b[0m",
      "\u001b[0;31mKeyError\u001b[0m                                  Traceback (most recent call last)",
      "\u001b[1;32m/Users/ergonyc/Projects/SingleCell/labelator/test_4.ipynb Cell 10\u001b[0m line \u001b[0;36m1\n\u001b[0;32m----> <a href='vscode-notebook-cell:/Users/ergonyc/Projects/SingleCell/labelator/test_4.ipynb#X14sZmlsZQ%3D%3D?line=0'>1</a>\u001b[0m adata_concatenated \u001b[39m=\u001b[39m ad\u001b[39m.\u001b[39;49mconcat([master_ad, adata1], axis\u001b[39m=\u001b[39;49m\u001b[39m1\u001b[39;49m, join\u001b[39m=\u001b[39;49m\u001b[39m'\u001b[39;49m\u001b[39mouter\u001b[39;49m\u001b[39m'\u001b[39;49m)\n",
      "File \u001b[0;32m~/miniforge3/envs/scverse10/lib/python3.10/site-packages/anndata/_core/merge.py:1040\u001b[0m, in \u001b[0;36mconcat\u001b[0;34m(adatas, axis, join, merge, uns_merge, label, keys, index_unique, fill_value, pairwise)\u001b[0m\n\u001b[1;32m   1035\u001b[0m \u001b[39m# Annotation for other axis\u001b[39;00m\n\u001b[1;32m   1036\u001b[0m alt_annot \u001b[39m=\u001b[39m merge_dataframes(\n\u001b[1;32m   1037\u001b[0m     [\u001b[39mgetattr\u001b[39m(a, alt_dim) \u001b[39mfor\u001b[39;00m a \u001b[39min\u001b[39;00m adatas], alt_indices, merge\n\u001b[1;32m   1038\u001b[0m )\n\u001b[0;32m-> 1040\u001b[0m X \u001b[39m=\u001b[39m concat_Xs(adatas, reindexers, axis\u001b[39m=\u001b[39;49maxis, fill_value\u001b[39m=\u001b[39;49mfill_value)\n\u001b[1;32m   1042\u001b[0m \u001b[39mif\u001b[39;00m join \u001b[39m==\u001b[39m \u001b[39m\"\u001b[39m\u001b[39minner\u001b[39m\u001b[39m\"\u001b[39m:\n\u001b[1;32m   1043\u001b[0m     layers \u001b[39m=\u001b[39m inner_concat_aligned_mapping(\n\u001b[1;32m   1044\u001b[0m         [a\u001b[39m.\u001b[39mlayers \u001b[39mfor\u001b[39;00m a \u001b[39min\u001b[39;00m adatas], axis\u001b[39m=\u001b[39maxis, reindexers\u001b[39m=\u001b[39mreindexers\n\u001b[1;32m   1045\u001b[0m     )\n",
      "File \u001b[0;32m~/miniforge3/envs/scverse10/lib/python3.10/site-packages/anndata/_core/merge.py:789\u001b[0m, in \u001b[0;36mconcat_Xs\u001b[0;34m(adatas, reindexers, axis, fill_value)\u001b[0m\n\u001b[1;32m    780\u001b[0m \u001b[39mdef\u001b[39;00m \u001b[39mconcat_Xs\u001b[39m(adatas, reindexers, axis, fill_value):\n\u001b[1;32m    781\u001b[0m \u001b[39m    \u001b[39m\u001b[39m\"\"\"\u001b[39;00m\n\u001b[1;32m    782\u001b[0m \u001b[39m    Shimy until support for some missing X's is implemented.\u001b[39;00m\n\u001b[1;32m    783\u001b[0m \n\u001b[0;32m   (...)\u001b[0m\n\u001b[1;32m    787\u001b[0m \u001b[39m    to the values of a.X.\u001b[39;00m\n\u001b[1;32m    788\u001b[0m \u001b[39m    \"\"\"\u001b[39;00m\n\u001b[0;32m--> 789\u001b[0m     Xs \u001b[39m=\u001b[39m [a\u001b[39m.\u001b[39mX \u001b[39mfor\u001b[39;00m a \u001b[39min\u001b[39;00m adatas]\n\u001b[1;32m    790\u001b[0m     \u001b[39mif\u001b[39;00m \u001b[39mall\u001b[39m(X \u001b[39mis\u001b[39;00m \u001b[39mNone\u001b[39;00m \u001b[39mfor\u001b[39;00m X \u001b[39min\u001b[39;00m Xs):\n\u001b[1;32m    791\u001b[0m         \u001b[39mreturn\u001b[39;00m \u001b[39mNone\u001b[39;00m\n",
      "File \u001b[0;32m~/miniforge3/envs/scverse10/lib/python3.10/site-packages/anndata/_core/merge.py:789\u001b[0m, in \u001b[0;36m<listcomp>\u001b[0;34m(.0)\u001b[0m\n\u001b[1;32m    780\u001b[0m \u001b[39mdef\u001b[39;00m \u001b[39mconcat_Xs\u001b[39m(adatas, reindexers, axis, fill_value):\n\u001b[1;32m    781\u001b[0m \u001b[39m    \u001b[39m\u001b[39m\"\"\"\u001b[39;00m\n\u001b[1;32m    782\u001b[0m \u001b[39m    Shimy until support for some missing X's is implemented.\u001b[39;00m\n\u001b[1;32m    783\u001b[0m \n\u001b[0;32m   (...)\u001b[0m\n\u001b[1;32m    787\u001b[0m \u001b[39m    to the values of a.X.\u001b[39;00m\n\u001b[1;32m    788\u001b[0m \u001b[39m    \"\"\"\u001b[39;00m\n\u001b[0;32m--> 789\u001b[0m     Xs \u001b[39m=\u001b[39m [a\u001b[39m.\u001b[39;49mX \u001b[39mfor\u001b[39;00m a \u001b[39min\u001b[39;00m adatas]\n\u001b[1;32m    790\u001b[0m     \u001b[39mif\u001b[39;00m \u001b[39mall\u001b[39m(X \u001b[39mis\u001b[39;00m \u001b[39mNone\u001b[39;00m \u001b[39mfor\u001b[39;00m X \u001b[39min\u001b[39;00m Xs):\n\u001b[1;32m    791\u001b[0m         \u001b[39mreturn\u001b[39;00m \u001b[39mNone\u001b[39;00m\n",
      "File \u001b[0;32m~/miniforge3/envs/scverse10/lib/python3.10/site-packages/anndata/_core/anndata.py:595\u001b[0m, in \u001b[0;36mAnnData.X\u001b[0;34m(self)\u001b[0m\n\u001b[1;32m    593\u001b[0m \u001b[39mif\u001b[39;00m \u001b[39mnot\u001b[39;00m \u001b[39mself\u001b[39m\u001b[39m.\u001b[39mfile\u001b[39m.\u001b[39mis_open:\n\u001b[1;32m    594\u001b[0m     \u001b[39mself\u001b[39m\u001b[39m.\u001b[39mfile\u001b[39m.\u001b[39mopen()\n\u001b[0;32m--> 595\u001b[0m X \u001b[39m=\u001b[39m \u001b[39mself\u001b[39;49m\u001b[39m.\u001b[39;49mfile[\u001b[39m\"\u001b[39;49m\u001b[39mX\u001b[39;49m\u001b[39m\"\u001b[39;49m]\n\u001b[1;32m    596\u001b[0m \u001b[39mif\u001b[39;00m \u001b[39misinstance\u001b[39m(X, h5py\u001b[39m.\u001b[39mGroup):\n\u001b[1;32m    597\u001b[0m     X \u001b[39m=\u001b[39m SparseDataset(X)\n",
      "File \u001b[0;32m~/miniforge3/envs/scverse10/lib/python3.10/site-packages/anndata/_core/file_backing.py:43\u001b[0m, in \u001b[0;36mAnnDataFileManager.__getitem__\u001b[0;34m(self, key)\u001b[0m\n\u001b[1;32m     42\u001b[0m \u001b[39mdef\u001b[39;00m \u001b[39m__getitem__\u001b[39m(\u001b[39mself\u001b[39m, key: \u001b[39mstr\u001b[39m) \u001b[39m-\u001b[39m\u001b[39m>\u001b[39m Union[h5py\u001b[39m.\u001b[39mGroup, h5py\u001b[39m.\u001b[39mDataset, SparseDataset]:\n\u001b[0;32m---> 43\u001b[0m     \u001b[39mreturn\u001b[39;00m \u001b[39mself\u001b[39;49m\u001b[39m.\u001b[39;49m_file[key]\n",
      "File \u001b[0;32mh5py/_objects.pyx:54\u001b[0m, in \u001b[0;36mh5py._objects.with_phil.wrapper\u001b[0;34m()\u001b[0m\n",
      "File \u001b[0;32mh5py/_objects.pyx:55\u001b[0m, in \u001b[0;36mh5py._objects.with_phil.wrapper\u001b[0;34m()\u001b[0m\n",
      "File \u001b[0;32m~/miniforge3/envs/scverse10/lib/python3.10/site-packages/h5py/_hl/group.py:357\u001b[0m, in \u001b[0;36mGroup.__getitem__\u001b[0;34m(self, name)\u001b[0m\n\u001b[1;32m    355\u001b[0m         \u001b[39mraise\u001b[39;00m \u001b[39mValueError\u001b[39;00m(\u001b[39m\"\u001b[39m\u001b[39mInvalid HDF5 object reference\u001b[39m\u001b[39m\"\u001b[39m)\n\u001b[1;32m    356\u001b[0m \u001b[39melif\u001b[39;00m \u001b[39misinstance\u001b[39m(name, (\u001b[39mbytes\u001b[39m, \u001b[39mstr\u001b[39m)):\n\u001b[0;32m--> 357\u001b[0m     oid \u001b[39m=\u001b[39m h5o\u001b[39m.\u001b[39;49mopen(\u001b[39mself\u001b[39;49m\u001b[39m.\u001b[39;49mid, \u001b[39mself\u001b[39;49m\u001b[39m.\u001b[39;49m_e(name), lapl\u001b[39m=\u001b[39;49m\u001b[39mself\u001b[39;49m\u001b[39m.\u001b[39;49m_lapl)\n\u001b[1;32m    358\u001b[0m \u001b[39melse\u001b[39;00m:\n\u001b[1;32m    359\u001b[0m     \u001b[39mraise\u001b[39;00m \u001b[39mTypeError\u001b[39;00m(\u001b[39m\"\u001b[39m\u001b[39mAccessing a group is done with bytes or str, \u001b[39m\u001b[39m\"\u001b[39m\n\u001b[1;32m    360\u001b[0m                     \u001b[39m\"\u001b[39m\u001b[39mnot \u001b[39m\u001b[39m{}\u001b[39;00m\u001b[39m\"\u001b[39m\u001b[39m.\u001b[39mformat(\u001b[39mtype\u001b[39m(name)))\n",
      "File \u001b[0;32mh5py/_objects.pyx:54\u001b[0m, in \u001b[0;36mh5py._objects.with_phil.wrapper\u001b[0;34m()\u001b[0m\n",
      "File \u001b[0;32mh5py/_objects.pyx:55\u001b[0m, in \u001b[0;36mh5py._objects.with_phil.wrapper\u001b[0;34m()\u001b[0m\n",
      "File \u001b[0;32mh5py/h5o.pyx:190\u001b[0m, in \u001b[0;36mh5py.h5o.open\u001b[0;34m()\u001b[0m\n",
      "\u001b[0;31mKeyError\u001b[0m: \"Unable to synchronously open object (object 'X' doesn't exist)\""
     ]
    }
   ],
   "source": [
    "adata_concatenated = ad.concat([master_ad, adata1], axis=1, join='outer')\n"
   ]
  },
  {
   "cell_type": "code",
   "execution_count": 23,
   "metadata": {},
   "outputs": [
    {
     "data": {
      "text/plain": [
       "AnnData object with n_obs × n_vars = 713626 × 900 backed at '/Users/ergonyc/Projects/SingleCell/labelator/data/chunk0010_output_data.h5ad'\n",
       "    obs: 'seurat_clusters', 'cell_type', 'sample'"
      ]
     },
     "execution_count": 23,
     "metadata": {},
     "output_type": "execute_result"
    }
   ],
   "source": [
    "adata1"
   ]
  },
  {
   "cell_type": "code",
   "execution_count": 3,
   "metadata": {},
   "outputs": [
    {
     "data": {
      "text/plain": [
       "AnnData object with n_obs × n_vars = 709811 × 3000\n",
       "    obs: 'seurat_clusters', 'cell_type', 'sample'"
      ]
     },
     "execution_count": 3,
     "metadata": {},
     "output_type": "execute_result"
    }
   ],
   "source": [
    "\n",
    "\n",
    "\n",
    "\n",
    "\n",
    "# function to collect all the\n",
    "def list_h_files(data_folder: Path, file_type: str, postfix: Union[str, None] = None) -> List:\n",
    "    \"\"\"\n",
    "    get a list of all the filetypes\n",
    "    TODO: aics has cleaner functions than this \"lambda\"\n",
    "    should this use Path methods? or return Path?\n",
    "    \"\"\"\n",
    "\n",
    "    if postfix is not None:\n",
    "        return sorted(data_folder.glob(f\"*{postfix}{file_type}\"))\n",
    "    else:\n",
    "        return sorted(data_folder.glob(f\"*{file_type}\"))\n",
    "\n",
    "    # if prefix is not None:"
   ]
  },
  {
   "cell_type": "code",
   "execution_count": 6,
   "metadata": {},
   "outputs": [
    {
     "data": {
      "text/plain": [
       "AnnData object with n_obs × n_vars = 709811 × 3000\n",
       "    obs: 'seurat_clusters', 'cell_type', 'sample'\n",
       "    var: 'n_counts'"
      ]
     },
     "execution_count": 6,
     "metadata": {},
     "output_type": "execute_result"
    }
   ],
   "source": [
    "\n",
    "sc.pp.filter_genes(adata, min_counts=3)\n",
    "\n",
    "adata"
   ]
  },
  {
   "cell_type": "code",
   "execution_count": 7,
   "metadata": {},
   "outputs": [
    {
     "data": {
      "text/html": [
       "<div>\n",
       "<style scoped>\n",
       "    .dataframe tbody tr th:only-of-type {\n",
       "        vertical-align: middle;\n",
       "    }\n",
       "\n",
       "    .dataframe tbody tr th {\n",
       "        vertical-align: top;\n",
       "    }\n",
       "\n",
       "    .dataframe thead th {\n",
       "        text-align: right;\n",
       "    }\n",
       "</style>\n",
       "<table border=\"1\" class=\"dataframe\">\n",
       "  <thead>\n",
       "    <tr style=\"text-align: right;\">\n",
       "      <th></th>\n",
       "      <th>n_counts</th>\n",
       "    </tr>\n",
       "  </thead>\n",
       "  <tbody>\n",
       "    <tr>\n",
       "      <th>PRDM16</th>\n",
       "      <td>74424.0</td>\n",
       "    </tr>\n",
       "    <tr>\n",
       "      <th>SLC2A5</th>\n",
       "      <td>23150.0</td>\n",
       "    </tr>\n",
       "    <tr>\n",
       "      <th>SPSB1</th>\n",
       "      <td>68033.0</td>\n",
       "    </tr>\n",
       "    <tr>\n",
       "      <th>SLC25A33</th>\n",
       "      <td>98671.0</td>\n",
       "    </tr>\n",
       "    <tr>\n",
       "      <th>CORT</th>\n",
       "      <td>32179.0</td>\n",
       "    </tr>\n",
       "    <tr>\n",
       "      <th>...</th>\n",
       "      <td>...</td>\n",
       "    </tr>\n",
       "    <tr>\n",
       "      <th>TMLHE-AS1</th>\n",
       "      <td>73827.0</td>\n",
       "    </tr>\n",
       "    <tr>\n",
       "      <th>TMLHE</th>\n",
       "      <td>188169.0</td>\n",
       "    </tr>\n",
       "    <tr>\n",
       "      <th>LINC00278</th>\n",
       "      <td>41040.0</td>\n",
       "    </tr>\n",
       "    <tr>\n",
       "      <th>PCDH11Y</th>\n",
       "      <td>435956.0</td>\n",
       "    </tr>\n",
       "    <tr>\n",
       "      <th>AC064829.1</th>\n",
       "      <td>43462.0</td>\n",
       "    </tr>\n",
       "  </tbody>\n",
       "</table>\n",
       "<p>3000 rows × 1 columns</p>\n",
       "</div>"
      ],
      "text/plain": [
       "            n_counts\n",
       "PRDM16       74424.0\n",
       "SLC2A5       23150.0\n",
       "SPSB1        68033.0\n",
       "SLC25A33     98671.0\n",
       "CORT         32179.0\n",
       "...              ...\n",
       "TMLHE-AS1    73827.0\n",
       "TMLHE       188169.0\n",
       "LINC00278    41040.0\n",
       "PCDH11Y     435956.0\n",
       "AC064829.1   43462.0\n",
       "\n",
       "[3000 rows x 1 columns]"
      ]
     },
     "execution_count": 7,
     "metadata": {},
     "output_type": "execute_result"
    }
   ],
   "source": [
    "adata.var"
   ]
  },
  {
   "cell_type": "code",
   "execution_count": null,
   "metadata": {},
   "outputs": [],
   "source": []
  }
 ],
 "metadata": {
  "kernelspec": {
   "display_name": "scverse10",
   "language": "python",
   "name": "python3"
  },
  "language_info": {
   "codemirror_mode": {
    "name": "ipython",
    "version": 3
   },
   "file_extension": ".py",
   "mimetype": "text/x-python",
   "name": "python",
   "nbconvert_exporter": "python",
   "pygments_lexer": "ipython3",
   "version": "3.10.10"
  }
 },
 "nbformat": 4,
 "nbformat_minor": 2
}
