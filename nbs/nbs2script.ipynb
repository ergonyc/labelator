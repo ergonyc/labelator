{
 "cells": [
  {
   "cell_type": "code",
   "execution_count": 1,
   "metadata": {},
   "outputs": [],
   "source": [
    "\n",
    "from nbconvert import PythonExporter\n",
    "import codecs\n",
    "import nbformat\n",
    "from pathlib import Path\n"
   ]
  },
  {
   "cell_type": "code",
   "execution_count": 2,
   "metadata": {},
   "outputs": [],
   "source": [
    "\n",
    "notebook_path = Path.home() / \"Projects/SingleCell/labelator/nbs\"\n",
    "\n",
    "export_path = Path.home() / \"Projects/SingleCell/labelator/scripts\"\n",
    "\n",
    "if not export_path.exists():\n",
    "    export_path.mkdir()\n",
    "\n",
    "lbl8r_nbs = notebook_path.glob('lbl8r*.ipynb')\n",
    "\n",
    "e2e_nbs = notebook_path.glob('e2e*.ipynb')\n",
    "\n"
   ]
  },
  {
   "cell_type": "code",
   "execution_count": 3,
   "metadata": {},
   "outputs": [
    {
     "ename": "NameError",
     "evalue": "name 'nb' is not defined",
     "output_type": "error",
     "traceback": [
      "\u001b[0;31m---------------------------------------------------------------------------\u001b[0m",
      "\u001b[0;31mNameError\u001b[0m                                 Traceback (most recent call last)",
      "Cell \u001b[0;32mIn[3], line 1\u001b[0m\n\u001b[0;32m----> 1\u001b[0m \u001b[43mnb\u001b[49m\u001b[38;5;241m.\u001b[39mname\u001b[38;5;241m.\u001b[39mreplace(\u001b[38;5;124m'\u001b[39m\u001b[38;5;124mipynb\u001b[39m\u001b[38;5;124m'\u001b[39m, \u001b[38;5;124m'\u001b[39m\u001b[38;5;124mpy\u001b[39m\u001b[38;5;124m'\u001b[39m)\n",
      "\u001b[0;31mNameError\u001b[0m: name 'nb' is not defined"
     ]
    }
   ],
   "source": [
    "nb.name.replace('ipynb', 'py')"
   ]
  },
  {
   "cell_type": "code",
   "execution_count": 4,
   "metadata": {},
   "outputs": [],
   "source": [
    "\n",
    "for nb in lbl8r_nbs:\n",
    "    # Load your notebook\n",
    "    with open(nb.as_posix()) as fh:\n",
    "        notebook_node = nbformat.read(fh, as_version=4)\n",
    "\n",
    "    # Convert to Python script\n",
    "    python_exporter = PythonExporter()\n",
    "    python_script, _ = python_exporter.from_notebook_node(notebook_node)\n",
    "\n",
    "    nb.name.replace('ipynb', 'py')\n",
    "    # Write script file\n",
    "    with codecs.open(export_path / nb.name.replace('ipynb', 'py') , 'w', encoding='utf-8') as fh:\n",
    "        fh.write(python_script)\n",
    "\n"
   ]
  },
  {
   "cell_type": "code",
   "execution_count": 5,
   "metadata": {},
   "outputs": [],
   "source": [
    "\n",
    "for nb in e2e_nbs:\n",
    "    # Load your notebook\n",
    "    with open(nb.as_posix()) as fh:\n",
    "        notebook_node = nbformat.read(fh, as_version=4)\n",
    "\n",
    "    # Convert to Python script\n",
    "    python_exporter = PythonExporter()\n",
    "    python_script, _ = python_exporter.from_notebook_node(notebook_node)\n",
    "\n",
    "    # Write script file\n",
    "    with codecs.open(export_path  / nb.name.replace('ipynb', 'py') , 'w', encoding='utf-8') as fh:\n",
    "        fh.write(python_script)"
   ]
  },
  {
   "cell_type": "code",
   "execution_count": null,
   "metadata": {},
   "outputs": [],
   "source": []
  }
 ],
 "metadata": {
  "kernelspec": {
   "display_name": "nbconvert",
   "language": "python",
   "name": "python3"
  },
  "language_info": {
   "codemirror_mode": {
    "name": "ipython",
    "version": 3
   },
   "file_extension": ".py",
   "mimetype": "text/x-python",
   "name": "python",
   "nbconvert_exporter": "python",
   "pygments_lexer": "ipython3",
   "version": "3.11.7"
  }
 },
 "nbformat": 4,
 "nbformat_minor": 2
}
