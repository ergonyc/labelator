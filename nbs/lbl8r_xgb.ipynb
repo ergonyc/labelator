{
 "cells": [
  {
   "cell_type": "markdown",
   "id": "neural-welsh",
   "metadata": {
    "tags": []
   },
   "source": [
    "## Prototype embed-classify Labelator EC_LBL8R \n",
    "\n",
    "### overview.\n",
    "This notebook protypes a \"labelator\".  The purpose of a \"labelator\" is to easily classify _cell types_ for out-of-sample \"Test\" data. \n",
    "\n",
    "Currently we are prototyping with several `anndata` _dataloaders_.  `scvi-tools`, `scarches`, and `anndata` each have an implimenation of a `torch` _dataloader_.   The `scarches` flavor seems to be a good middle ground and then DO have an SCVI implimentation.    Probably will use the _native_ loader for each type, but an `scarches` variant for our simpler models. \n",
    "\n",
    "To state our confirmation bias, it impliments the SCVI models which we like.\n",
    "\n",
    "We will validate potential models and calibrate them with simple expectations using a typical \"Train\"/\"Validate\" and \"Test\"/\"Probe\" approach.  \n",
    "\n",
    "\n",
    "Definitions:\n",
    "- \"Train\": data samples on which the model being tested is trained.  The `torch lightning` framework used by `scvi-tools` semi-automatically will \"validate\" to test out-of-sample prediction fidelity during training.\n",
    "- \"Test\": held-out samples to test the fidelity of the model.  \n",
    "- \"Probe\": data generated externally,which is _probing_ the fidelity of the model to general scRNAseq data.\n",
    "\n",
    "\n",
    "\n",
    "#### embed and classify \n",
    "\n",
    "#### 2 step: ec_lbl8r encode + categorize\n",
    "In two steps:\n",
    "1) _encode_: embedding the scRNAseq counts into a latent sub-space\n",
    "    - VAE (e.g. MMD-VAE, infoVAE etc)\n",
    "    - PCA (_naive_ linear encoding)\n",
    "    - scVI-latent (__naive__ VAE)\n",
    "    - etc.\n",
    "        - scVI (__transfer__ VAE)\n",
    "\n",
    "2) _categorize_: predicting creating a probability of a each category \n",
    "    - Linear classifier (e.g. multinomial Logistic Regression)\n",
    "    - NN non-linear classifier (MLP)\n",
    "    - boosted trees (XGboost)\n",
    "\n",
    "\n",
    "\n",
    "## Caveats\n",
    "There are several gotchas to anticipate:\n",
    "- features.  Currently we are locked into the 3k genes we are testing with.  Handling subsets and supersets is TBC.\n",
    "- batch.  In principle each \"embedding\" or decode part of the model should be able to measure a \"batch-correction\" parameter explicitly.  in scVI this is explicitly _learned_.  However in _naive_ inference mode it should just be an inferred fudge factor.\n",
    "- noise.  including or not including `doublet`, `mito`, or `ribo` metrics\n",
    "\n",
    "\n",
    "\n",
    "\n",
    "### List of models\n",
    "\n",
    "ec lbl8r xgb variants:\n",
    "- raw counts PCA loadings n=50 features\n",
    "- normalized counts (scVI) PCA loadings\n",
    "- scVI latent\n",
    "- etc.\n",
    "\n",
    "\n",
    "\n"
   ]
  },
  {
   "cell_type": "code",
   "execution_count": 1,
   "id": "f4f82e57",
   "metadata": {},
   "outputs": [],
   "source": [
    "import sys\n",
    "\n",
    "IN_COLAB = \"google.colab\" in sys.modules\n",
    "if IN_COLAB:\n",
    "    !pip uninstall -y typing_extensions\n",
    "    !pip install --quiet scvi-colab\n",
    "    from scvi_colab import install\n",
    "    install()"
   ]
  },
  {
   "cell_type": "code",
   "execution_count": 2,
   "id": "possible-possession",
   "metadata": {},
   "outputs": [],
   "source": [
    "\n",
    "import numpy as np\n",
    "import scanpy as sc\n",
    "\n",
    "#### \n",
    "import sys\n",
    "import warnings\n",
    "\n",
    "import anndata as ad\n",
    "import matplotlib.pyplot as plt\n",
    "import numpy as np\n",
    "# import pandas as pd\n",
    "import scvi\n",
    "from pathlib import Path\n",
    "# import scarches as sca\n",
    "\n",
    "from lbl8r.utils import make_pc_loading_adata\n",
    "from lbl8r.xgb import get_xgb_data, train_xgboost, test_xgboost\n",
    "\n",
    "if IN_COLAB:\n",
    "    from google.colab import drive\n",
    "    drive.mount('/content/drive')\n",
    "    \n",
    "\n",
    "%load_ext autoreload\n",
    "%autoreload 2\n"
   ]
  },
  {
   "cell_type": "markdown",
   "id": "eb65832e",
   "metadata": {},
   "source": [
    "### Data Paths"
   ]
  },
  {
   "cell_type": "code",
   "execution_count": 3,
   "id": "d5abafc1",
   "metadata": {},
   "outputs": [],
   "source": [
    "if IN_COLAB:\n",
    "    root_path = Path(\"/content/drive/MyDrive/\")\n",
    "    data_path = root_path / \"SingleCellModel/data\"\n",
    "else:\n",
    "    root_path = Path(\"../\")\n",
    "    if sys.platform == \"darwin\":\n",
    "        data_path = root_path / \"data/xylena_raw\"\n",
    "    else:\n",
    "        data_path = root_path / \"data/scdata/xylena_raw\"\n",
    "        \n",
    "XYLENA_ANNDATA = \"brain_atlas_anndata.h5ad\"\n",
    "XYLENA_METADATA = \"final_metadata.csv\"\n",
    "XYLENA_ANNDATA2 = \"brain_atlas_anndata_updated.h5ad\"\n",
    "\n",
    "XYLENA_TRAIN = XYLENA_ANNDATA.replace(\".h5ad\", \"_train.h5ad\")\n",
    "XYLENA_TEST = XYLENA_ANNDATA.replace(\".h5ad\", \"_test.h5ad\")\n",
    "\n",
    "\n"
   ]
  },
  {
   "cell_type": "code",
   "execution_count": 4,
   "id": "167cfdca",
   "metadata": {},
   "outputs": [],
   "source": [
    "model_path = root_path / \"lbl8r_models\"\n",
    "if not model_path.exists():\n",
    "  model_path.mkdir()\n",
    "\n"
   ]
  },
  {
   "cell_type": "markdown",
   "id": "75cb4491",
   "metadata": {},
   "source": [
    "--------------\n",
    "\n",
    "## xgb_LBL8R on raw count PCAs \n",
    "\n",
    "This is a zeroth order \"baseline\" for performance.  "
   ]
  },
  {
   "cell_type": "markdown",
   "id": "0485de3d",
   "metadata": {},
   "source": [
    "\n",
    "### load data"
   ]
  },
  {
   "cell_type": "code",
   "execution_count": 6,
   "id": "5ab35c5b",
   "metadata": {},
   "outputs": [],
   "source": [
    "filen = data_path / XYLENA_ANNDATA.replace(\".h5ad\", \"_train_pca.h5ad\")\n",
    "train_ad = ad.read_h5ad(filen)\n"
   ]
  },
  {
   "cell_type": "markdown",
   "id": "e2eda274",
   "metadata": {},
   "source": [
    "### train model"
   ]
  },
  {
   "cell_type": "code",
   "execution_count": 7,
   "id": "3fc88452",
   "metadata": {},
   "outputs": [
    {
     "name": "stdout",
     "output_type": "stream",
     "text": [
      "[0]\tvalid-mlogloss:1.06754\n",
      "[10]\tvalid-mlogloss:0.11488\n",
      "[20]\tvalid-mlogloss:0.07826\n",
      "[30]\tvalid-mlogloss:0.07471\n",
      "[40]\tvalid-mlogloss:0.07442\n",
      "[49]\tvalid-mlogloss:0.07469\n"
     ]
    }
   ],
   "source": [
    "\n",
    "X_train, y_train, label_encoder = get_xgb_data(train_ad)\n",
    "\n",
    "bst = train_xgboost(X_train, y_train)\n",
    "\n"
   ]
  },
  {
   "cell_type": "markdown",
   "id": "3ab8e0e4",
   "metadata": {},
   "source": [
    "### test and save"
   ]
  },
  {
   "cell_type": "code",
   "execution_count": 13,
   "id": "943ae6ca",
   "metadata": {},
   "outputs": [],
   "source": [
    "\n",
    "filen = data_path / XYLENA_ANNDATA.replace(\".h5ad\", \"_test_pca.h5ad\")\n",
    "test_ad = ad.read_h5ad(filen)\n"
   ]
  },
  {
   "cell_type": "code",
   "execution_count": 15,
   "id": "b7095177",
   "metadata": {},
   "outputs": [
    {
     "data": {
      "text/plain": [
       "array([[ 3.68088684e+02,  1.33296595e+01,  8.02294540e+00,\n",
       "         5.23752823e+01, -2.03400230e+01,  4.36526947e+01,\n",
       "        -4.19003716e+01, -3.73202019e+01,  1.57291861e+01,\n",
       "         3.05967464e+01,  3.66521606e+01,  6.03300667e+01,\n",
       "        -3.64095688e+01,  2.11280966e+00, -2.48350811e+01],\n",
       "       [ 4.32298737e+02,  1.81242142e+01, -7.17947922e+01,\n",
       "        -1.00064980e+02,  5.68049431e+00, -2.24803200e+01,\n",
       "        -8.52943611e+00, -2.49820480e+01, -4.20321846e+00,\n",
       "        -2.50607896e+00, -1.34945745e+01, -1.39766378e+01,\n",
       "        -3.33317261e+01, -1.29724140e+01,  1.88233509e+01],\n",
       "       [ 2.97618011e+02, -1.38771582e+00, -6.77000732e+01,\n",
       "        -2.80466099e+01, -5.72715473e+00,  2.45978336e+01,\n",
       "        -1.16432734e+01, -7.45540333e+00,  9.18723679e+00,\n",
       "        -2.31691837e+01,  5.42982721e+00,  2.03360653e+01,\n",
       "        -3.04312782e+01,  1.84899998e+01,  1.32612133e+00],\n",
       "       [ 3.92290924e+02,  1.75723610e+01, -8.01843872e+01,\n",
       "        -6.13158760e+01, -2.19617596e+01, -1.17024280e-01,\n",
       "        -1.45832043e+01, -4.42481575e+01, -7.94624758e+00,\n",
       "        -2.44252396e+00,  9.74007320e+00, -1.24683559e+00,\n",
       "        -4.88396645e+00,  4.60048616e-01, -6.22793913e+00],\n",
       "       [ 3.90933807e+02, -5.16838112e+01,  3.92591324e+01,\n",
       "         1.08349747e+02, -7.03375483e+00,  8.07653580e+01,\n",
       "        -3.34551163e+01, -9.31190014e+00,  6.79060745e+01,\n",
       "         4.05748329e+01,  4.91603241e+01,  8.15210648e+01,\n",
       "        -3.31964836e+01, -5.22849274e+00, -4.18390198e+01],\n",
       "       [ 4.04498962e+02, -2.45606384e+01, -6.19377089e+00,\n",
       "         5.75829582e+01, -2.34569454e+01,  8.28842087e+01,\n",
       "        -3.76968498e+01, -9.21063137e+00,  2.77600937e+01,\n",
       "         3.49442406e+01,  2.38711853e+01,  8.02135315e+01,\n",
       "        -1.80164852e+01,  8.72443581e+00, -2.85124378e+01],\n",
       "       [ 3.61104340e+02,  2.23277302e+01, -4.05677719e+01,\n",
       "         3.66638451e+01, -8.24884186e+01, -3.78945694e+01,\n",
       "        -5.52525482e+01,  5.42550430e+01, -3.20697670e+01,\n",
       "        -1.86922398e+01, -3.49982071e+00, -5.33766603e+00,\n",
       "        -3.12754416e+00,  1.02935326e+00,  9.71694565e+00],\n",
       "       [ 3.85761871e+02, -7.67470694e+00, -1.61995487e+01,\n",
       "         9.61849823e+01, -5.98384399e+01,  2.12807903e+01,\n",
       "        -1.00740524e+02,  4.70886040e+01,  1.44608223e+00,\n",
       "         2.17835999e+01, -5.02435875e+00,  5.06446495e+01,\n",
       "        -4.26490097e+01,  1.15326338e+01, -2.07600403e+01],\n",
       "       [ 2.67794434e+02, -1.57625475e+01, -3.69072151e+01,\n",
       "         4.71569595e+01, -5.31835403e+01,  3.08767242e+01,\n",
       "        -4.88989296e+01,  2.24683666e+01,  8.56319714e+00,\n",
       "        -9.43827629e-01,  1.05235090e+01,  3.33107681e+01,\n",
       "        -2.22688160e+01,  1.44962692e+01, -2.12673664e+01],\n",
       "       [ 3.78618988e+02, -6.35473633e+00, -8.04031677e+01,\n",
       "        -9.67630157e+01, -7.72462988e+00,  1.44163585e+00,\n",
       "         2.37486916e+01, -5.43669357e+01, -3.79263592e+00,\n",
       "        -8.17066193e+00, -2.88170600e+00, -1.79376292e+00,\n",
       "         1.09953184e+01, -1.65128098e+01,  9.93729973e+00],\n",
       "       [ 1.74562668e+02, -9.36941051e+00,  1.23757965e+02,\n",
       "        -6.47602692e+01,  2.48815060e+01, -9.72654343e+01,\n",
       "         1.18812215e+00, -1.33095455e+01,  3.06168880e+01,\n",
       "         3.95246315e+01, -4.91878242e+01, -7.32749271e+00,\n",
       "        -1.02306633e+01, -2.52887135e+01,  2.97115707e+01],\n",
       "       [ 3.54986298e+02, -5.19081211e+00, -6.59735336e+01,\n",
       "         2.55580349e+01, -7.07198639e+01, -1.89149570e+01,\n",
       "        -4.89597130e+01,  5.70069313e+01, -1.06946735e+01,\n",
       "        -7.08602047e+00, -2.49341221e+01, -8.89417112e-01,\n",
       "        -4.29239082e+00, -1.44093819e+01, -2.75371742e+01],\n",
       "       [ 2.62873932e+02,  1.51212931e+01, -2.91769743e+00,\n",
       "         7.31221771e+01,  3.04149323e+01, -1.35986710e+00,\n",
       "        -1.68163693e+00, -1.88940048e+01, -5.72950745e+00,\n",
       "         9.78546143e+00,  3.19965115e+01, -1.64764900e+01,\n",
       "        -1.19177742e+01, -3.13471603e+01,  3.11696911e+01],\n",
       "       [ 3.16055756e+02,  2.61838665e+01, -8.75374069e+01,\n",
       "        -8.57498169e+01,  9.34129429e+00, -3.12782741e+00,\n",
       "         3.06527500e+01,  4.51769447e+00,  1.18069668e+01,\n",
       "        -1.23027868e+01,  8.31784821e+00,  1.21776800e+01,\n",
       "        -2.60182610e+01, -6.66616440e+00,  1.74937725e+01],\n",
       "       [ 2.94119232e+02,  8.38000011e+00,  1.13225548e+02,\n",
       "         2.61600220e+02,  7.33697586e+01,  7.52542877e+01,\n",
       "         7.02439117e+01,  3.40029221e+01,  3.74616737e+01,\n",
       "         4.43006439e+01,  1.34461641e+01, -2.21633015e+01,\n",
       "         1.20243759e+01,  1.22586145e+01,  2.11395092e+01]], dtype=float32)"
      ]
     },
     "execution_count": 15,
     "metadata": {},
     "output_type": "execute_result"
    }
   ],
   "source": []
  },
  {
   "cell_type": "code",
   "execution_count": 9,
   "id": "184469b8",
   "metadata": {},
   "outputs": [
    {
     "name": "stdout",
     "output_type": "stream",
     "text": [
      "              precision    recall  f1-score   support\n",
      "\n",
      "       Astro       1.00      0.97      0.99     42519\n",
      "         ExN       0.99      0.99      0.99    110484\n",
      "         InN       0.99      1.00      0.99     53325\n",
      "          MG       1.00      0.99      1.00     26529\n",
      "         OPC       0.99      0.98      0.99     28882\n",
      "       Oligo       0.99      1.00      0.99    235180\n",
      "     Unknown       1.00      0.75      0.86        12\n",
      "          VC       0.99      0.95      0.97      5154\n",
      "\n",
      "    accuracy                           0.99    502085\n",
      "   macro avg       0.99      0.95      0.97    502085\n",
      "weighted avg       0.99      0.99      0.99    502085\n",
      "\n"
     ]
    },
    {
     "name": "stderr",
     "output_type": "stream",
     "text": [
      "/Users/ergonyc/miniforge3/envs/scverse11/lib/python3.11/site-packages/xgboost/core.py:160: UserWarning: [16:27:07] WARNING: /Users/runner/work/xgboost/xgboost/src/c_api/c_api.cc:1240: Saving into deprecated binary model format, please consider using `json` or `ubj`. Model format will default to JSON in XGBoost 2.2 if not specified.\n",
      "  warnings.warn(smsg, UserWarning)\n"
     ]
    }
   ],
   "source": [
    "\n",
    "test_xgboost(bst, test_ad, label_encoder)\n",
    "\n",
    "# Save the model for later use\n",
    "bst.save_model(model_path / 'xgb_raw_pca.model')\n"
   ]
  },
  {
   "cell_type": "markdown",
   "id": "40c2c44c",
   "metadata": {},
   "source": [
    "--------------\n",
    "\n",
    "## xgb_LBL8R on scVI normalized PCAs \n",
    "\n",
    "To give the pca \"baseline\" a fair shake its important to use normalized counts.  Using the `scVI` normalization is our best shot... (Although the current models are NOT batch correcting since we don't have a good strategy to do this with probe data)"
   ]
  },
  {
   "cell_type": "code",
   "execution_count": 10,
   "id": "76085134",
   "metadata": {},
   "outputs": [
    {
     "name": "stdout",
     "output_type": "stream",
     "text": [
      "[0]\tvalid-mlogloss:1.06719\n",
      "[10]\tvalid-mlogloss:0.11092\n",
      "[20]\tvalid-mlogloss:0.07386\n",
      "[30]\tvalid-mlogloss:0.07029\n",
      "[40]\tvalid-mlogloss:0.06978\n",
      "[49]\tvalid-mlogloss:0.06979\n"
     ]
    },
    {
     "name": "stderr",
     "output_type": "stream",
     "text": [
      "/Users/ergonyc/miniforge3/envs/scverse11/lib/python3.11/site-packages/sklearn/metrics/_classification.py:1344: UndefinedMetricWarning: Precision and F-score are ill-defined and being set to 0.0 in labels with no predicted samples. Use `zero_division` parameter to control this behavior.\n",
      "  _warn_prf(average, modifier, msg_start, len(result))\n"
     ]
    },
    {
     "name": "stdout",
     "output_type": "stream",
     "text": [
      "              precision    recall  f1-score   support\n",
      "\n",
      "       Astro       0.01      0.01      0.01     42519\n",
      "         ExN       0.14      0.17      0.15    110484\n",
      "         InN       0.01      0.03      0.02     53325\n",
      "          MG       0.00      0.00      0.00     26529\n",
      "         OPC       0.00      0.00      0.00     28882\n",
      "       Oligo       0.53      0.24      0.33    235180\n",
      "     Unknown       0.00      0.00      0.00        12\n",
      "          VC       0.00      0.01      0.00      5154\n",
      "\n",
      "    accuracy                           0.16    502085\n",
      "   macro avg       0.09      0.06      0.06    502085\n",
      "weighted avg       0.28      0.16      0.19    502085\n",
      "\n"
     ]
    },
    {
     "name": "stderr",
     "output_type": "stream",
     "text": [
      "/Users/ergonyc/miniforge3/envs/scverse11/lib/python3.11/site-packages/sklearn/metrics/_classification.py:1344: UndefinedMetricWarning: Precision and F-score are ill-defined and being set to 0.0 in labels with no predicted samples. Use `zero_division` parameter to control this behavior.\n",
      "  _warn_prf(average, modifier, msg_start, len(result))\n",
      "/Users/ergonyc/miniforge3/envs/scverse11/lib/python3.11/site-packages/sklearn/metrics/_classification.py:1344: UndefinedMetricWarning: Precision and F-score are ill-defined and being set to 0.0 in labels with no predicted samples. Use `zero_division` parameter to control this behavior.\n",
      "  _warn_prf(average, modifier, msg_start, len(result))\n",
      "/Users/ergonyc/miniforge3/envs/scverse11/lib/python3.11/site-packages/xgboost/core.py:160: UserWarning: [16:27:27] WARNING: /Users/runner/work/xgboost/xgboost/src/c_api/c_api.cc:1240: Saving into deprecated binary model format, please consider using `json` or `ubj`. Model format will default to JSON in XGBoost 2.2 if not specified.\n",
      "  warnings.warn(smsg, UserWarning)\n"
     ]
    }
   ],
   "source": [
    "# Load & prep Training data\n",
    "filen = data_path / XYLENA_ANNDATA.replace(\".h5ad\", \"_train_scvi_normalized_pca.h5ad\")\n",
    "norm_train_ad = ad.read_h5ad(filen)\n",
    "\n",
    "X_train, y_train, label_encoder = get_xgb_data(train_ad)\n",
    "\n",
    "# train \n",
    "bst = train_xgboost(X_train, y_train)\n",
    "\n",
    "# test\n",
    "filen = data_path / XYLENA_ANNDATA.replace(\".h5ad\", \"_test_scvi_normalized_pca.h5ad\")\n",
    "test_ad = ad.read_h5ad(filen)\n",
    "test_xgboost(bst, test_ad, label_encoder)\n",
    "\n",
    "# save\n",
    "bst.save_model(model_path / 'xgb_scVInorm_pca.model')\n"
   ]
  },
  {
   "cell_type": "markdown",
   "id": "ecacdfa3",
   "metadata": {},
   "source": [
    "--------------\n",
    "\n",
    "## xgb_LBL8R on scVI latents  \n"
   ]
  },
  {
   "cell_type": "code",
   "execution_count": 11,
   "id": "8079b3d8",
   "metadata": {},
   "outputs": [
    {
     "name": "stdout",
     "output_type": "stream",
     "text": [
      "[0]\tvalid-mlogloss:1.06881\n",
      "[10]\tvalid-mlogloss:0.11701\n",
      "[20]\tvalid-mlogloss:0.08017\n",
      "[30]\tvalid-mlogloss:0.07680\n",
      "[40]\tvalid-mlogloss:0.07651\n",
      "[47]\tvalid-mlogloss:0.07674\n"
     ]
    },
    {
     "name": "stderr",
     "output_type": "stream",
     "text": [
      "/Users/ergonyc/miniforge3/envs/scverse11/lib/python3.11/site-packages/sklearn/metrics/_classification.py:1344: UndefinedMetricWarning: Precision and F-score are ill-defined and being set to 0.0 in labels with no predicted samples. Use `zero_division` parameter to control this behavior.\n",
      "  _warn_prf(average, modifier, msg_start, len(result))\n",
      "/Users/ergonyc/miniforge3/envs/scverse11/lib/python3.11/site-packages/sklearn/metrics/_classification.py:1344: UndefinedMetricWarning: Precision and F-score are ill-defined and being set to 0.0 in labels with no predicted samples. Use `zero_division` parameter to control this behavior.\n",
      "  _warn_prf(average, modifier, msg_start, len(result))\n"
     ]
    },
    {
     "name": "stdout",
     "output_type": "stream",
     "text": [
      "              precision    recall  f1-score   support\n",
      "\n",
      "       Astro       0.00      0.00      0.00     42519\n",
      "         ExN       0.22      1.00      0.36    110484\n",
      "         InN       0.00      0.00      0.00     53325\n",
      "          MG       0.00      0.00      0.00     26529\n",
      "         OPC       0.00      0.00      0.00     28882\n",
      "       Oligo       0.00      0.00      0.00    235180\n",
      "     Unknown       0.00      0.00      0.00        12\n",
      "          VC       1.00      0.01      0.01      5154\n",
      "\n",
      "    accuracy                           0.22    502085\n",
      "   macro avg       0.15      0.13      0.05    502085\n",
      "weighted avg       0.06      0.22      0.08    502085\n",
      "\n"
     ]
    },
    {
     "name": "stderr",
     "output_type": "stream",
     "text": [
      "/Users/ergonyc/miniforge3/envs/scverse11/lib/python3.11/site-packages/sklearn/metrics/_classification.py:1344: UndefinedMetricWarning: Precision and F-score are ill-defined and being set to 0.0 in labels with no predicted samples. Use `zero_division` parameter to control this behavior.\n",
      "  _warn_prf(average, modifier, msg_start, len(result))\n",
      "/Users/ergonyc/miniforge3/envs/scverse11/lib/python3.11/site-packages/xgboost/core.py:160: UserWarning: [16:27:35] WARNING: /Users/runner/work/xgboost/xgboost/src/c_api/c_api.cc:1240: Saving into deprecated binary model format, please consider using `json` or `ubj`. Model format will default to JSON in XGBoost 2.2 if not specified.\n",
      "  warnings.warn(smsg, UserWarning)\n"
     ]
    }
   ],
   "source": [
    "# Load & prep Training data\n",
    "filen = data_path / XYLENA_ANNDATA.replace(\".h5ad\", \"_train_scVI_lat.h5ad\")\n",
    "norm_train_ad = ad.read_h5ad(filen)\n",
    "\n",
    "X_train, y_train, label_encoder = get_xgb_data(train_ad)\n",
    "\n",
    "# train \n",
    "bst = train_xgboost(X_train, y_train)\n",
    "\n",
    "# test\n",
    "filen = data_path / XYLENA_ANNDATA.replace(\".h5ad\", \"_test_scVI_lat.h5ad\")\n",
    "test_ad = ad.read_h5ad(filen)\n",
    "test_xgboost(bst, test_ad, label_encoder)\n",
    "\n",
    "# save\n",
    "bst.save_model(model_path / 'xgb_scVInorm_pca.model')\n"
   ]
  },
  {
   "cell_type": "code",
   "execution_count": 12,
   "id": "fb6a95e7",
   "metadata": {},
   "outputs": [
    {
     "name": "stdout",
     "output_type": "stream",
     "text": [
      "[0]\tvalid-mlogloss:1.06775\n",
      "[10]\tvalid-mlogloss:0.11552\n",
      "[20]\tvalid-mlogloss:0.07863\n",
      "[30]\tvalid-mlogloss:0.07508\n",
      "[40]\tvalid-mlogloss:0.07479\n",
      "[49]\tvalid-mlogloss:0.07508\n"
     ]
    },
    {
     "name": "stderr",
     "output_type": "stream",
     "text": [
      "/Users/ergonyc/miniforge3/envs/scverse11/lib/python3.11/site-packages/sklearn/metrics/_classification.py:1344: UndefinedMetricWarning: Precision and F-score are ill-defined and being set to 0.0 in labels with no predicted samples. Use `zero_division` parameter to control this behavior.\n",
      "  _warn_prf(average, modifier, msg_start, len(result))\n",
      "/Users/ergonyc/miniforge3/envs/scverse11/lib/python3.11/site-packages/sklearn/metrics/_classification.py:1344: UndefinedMetricWarning: Precision and F-score are ill-defined and being set to 0.0 in labels with no predicted samples. Use `zero_division` parameter to control this behavior.\n",
      "  _warn_prf(average, modifier, msg_start, len(result))\n"
     ]
    },
    {
     "name": "stdout",
     "output_type": "stream",
     "text": [
      "              precision    recall  f1-score   support\n",
      "\n",
      "       Astro       0.00      0.00      0.00     42519\n",
      "         ExN       0.22      1.00      0.36    110484\n",
      "         InN       0.00      0.00      0.00     53325\n",
      "          MG       0.00      0.00      0.00     26529\n",
      "         OPC       0.00      0.00      0.00     28882\n",
      "       Oligo       0.00      0.00      0.00    235180\n",
      "     Unknown       0.00      0.00      0.00        12\n",
      "          VC       0.00      0.00      0.00      5154\n",
      "\n",
      "    accuracy                           0.22    502085\n",
      "   macro avg       0.03      0.12      0.05    502085\n",
      "weighted avg       0.05      0.22      0.08    502085\n",
      "\n"
     ]
    },
    {
     "name": "stderr",
     "output_type": "stream",
     "text": [
      "/Users/ergonyc/miniforge3/envs/scverse11/lib/python3.11/site-packages/sklearn/metrics/_classification.py:1344: UndefinedMetricWarning: Precision and F-score are ill-defined and being set to 0.0 in labels with no predicted samples. Use `zero_division` parameter to control this behavior.\n",
      "  _warn_prf(average, modifier, msg_start, len(result))\n",
      "/Users/ergonyc/miniforge3/envs/scverse11/lib/python3.11/site-packages/xgboost/core.py:160: UserWarning: [16:27:52] WARNING: /Users/runner/work/xgboost/xgboost/src/c_api/c_api.cc:1240: Saving into deprecated binary model format, please consider using `json` or `ubj`. Model format will default to JSON in XGBoost 2.2 if not specified.\n",
      "  warnings.warn(smsg, UserWarning)\n"
     ]
    }
   ],
   "source": [
    "# Load & prep Training data\n",
    "filen = data_path / XYLENA_ANNDATA.replace(\".h5ad\", \"_train_scVImu_lat.h5ad\")\n",
    "norm_train_ad = ad.read_h5ad(filen)\n",
    "\n",
    "X_train, y_train, label_encoder = get_xgb_data(train_ad)\n",
    "\n",
    "# train \n",
    "bst = train_xgboost(X_train, y_train)\n",
    "\n",
    "# test\n",
    "filen = data_path / XYLENA_ANNDATA.replace(\".h5ad\", \"_test_scVImu_lat.h5ad\")\n",
    "test_ad = ad.read_h5ad(filen)\n",
    "test_xgboost(bst, test_ad, label_encoder)\n",
    "\n",
    "# save\n",
    "bst.save_model(model_path / 'xgb_scVImu_lat.model')\n"
   ]
  },
  {
   "cell_type": "code",
   "execution_count": null,
   "id": "1a8f4a8f",
   "metadata": {},
   "outputs": [],
   "source": []
  },
  {
   "cell_type": "code",
   "execution_count": null,
   "id": "3c0c5876",
   "metadata": {},
   "outputs": [],
   "source": []
  }
 ],
 "metadata": {
  "kernelspec": {
   "display_name": "Python 3",
   "language": "python",
   "name": "python3"
  },
  "language_info": {
   "codemirror_mode": {
    "name": "ipython",
    "version": 3
   },
   "file_extension": ".py",
   "mimetype": "text/x-python",
   "name": "python",
   "nbconvert_exporter": "python",
   "pygments_lexer": "ipython3",
   "version": "3.11.3"
  }
 },
 "nbformat": 4,
 "nbformat_minor": 5
}
