{
 "cells": [
  {
   "cell_type": "markdown",
   "id": "neural-welsh",
   "metadata": {
    "tags": []
   },
   "source": [
    "## Prototype embed-classify Labelator EC_LBL8R \n",
    "\n",
    "### overview.\n",
    "This notebook protypes a \"labelator\".  The purpose of a \"labelator\" is to easily classify _cell types_ for out-of-sample \"Test\" data. \n",
    "\n",
    "Currently we are prototyping with several `anndata` _dataloaders_.  `scvi-tools`, `scarches`, and `anndata` each have an implimenation of a `torch` _dataloader_.   The `scarches` flavor seems to be a good middle ground and then DO have an SCVI implimentation.    Probably will use the _native_ loader for each type, but an `scarches` variant for our simpler models. \n",
    "\n",
    "To state our confirmation bias, it impliments the SCVI models which we like.\n",
    "\n",
    "We will validate potential models and calibrate them with simple expectations using a typical \"Train\"/\"Validate\" and \"Test\"/\"Probe\" approach.  \n",
    "\n",
    "\n",
    "Definitions:\n",
    "- \"Train\": data samples on which the model being tested is trained.  The `torch lightning` framework used by `scvi-tools` semi-automatically will \"validate\" to test out-of-sample prediction fidelity during training.\n",
    "- \"Test\": held-out samples to test the fidelity of the model.  \n",
    "- \"Probe\": data generated externally,which is _probing_ the fidelity of the model to general scRNAseq data.\n",
    "\n",
    "\n",
    "\n",
    "#### embed and classify \n",
    "\n",
    "#### 2 step: ec_lbl8r encode + categorize\n",
    "In two steps:\n",
    "1) _encode_: embedding the scRNAseq counts into a latent sub-space\n",
    "    - VAE (e.g. MMD-VAE, infoVAE etc)\n",
    "    - PCA (_naive_ linear encoding)\n",
    "    - scVI-latent (__naive__ VAE)\n",
    "    - etc.\n",
    "        - scVI (__transfer__ VAE)\n",
    "\n",
    "2) _categorize_: predicting creating a probability of a each category \n",
    "    - Linear classifier (e.g. multinomial Logistic Regression)\n",
    "    - NN non-linear classifier (MLP)\n",
    "    - boosted trees (XGboost)\n",
    "\n",
    "\n",
    "\n",
    "## Caveats\n",
    "There are several gotchas to anticipate:\n",
    "- features.  Currently we are locked into the 3k genes we are testing with.  Handling subsets and supersets is TBC.\n",
    "- batch.  In principle each \"embedding\" or decode part of the model should be able to measure a \"batch-correction\" parameter explicitly.  in scVI this is explicitly _learned_.  However in _naive_ inference mode it should just be an inferred fudge factor.\n",
    "- noise.  including or not including `doublet`, `mito`, or `ribo` metrics\n",
    "\n",
    "\n",
    "\n",
    "\n",
    "### List of models\n",
    "\n",
    "ec lbl8r xgb variants:\n",
    "- raw counts PCA loadings n=50 features\n",
    "- normalized counts (scVI) PCA loadings\n",
    "- scVI latent\n",
    "- etc.\n",
    "\n",
    "\n",
    "\n"
   ]
  },
  {
   "cell_type": "code",
   "execution_count": 1,
   "id": "f4f82e57",
   "metadata": {},
   "outputs": [],
   "source": [
    "import sys\n",
    "\n",
    "IN_COLAB = \"google.colab\" in sys.modules\n",
    "if IN_COLAB:\n",
    "    !pip uninstall -y typing_extensions\n",
    "    !pip install --quiet scvi-colab\n",
    "    from scvi_colab import install\n",
    "    install()\n",
    "\n",
    "else:\n",
    "    import os\n",
    "    # os.chdir('../')\n",
    "\n",
    "    ### import local python functions in ../lbl8r\n",
    "    sys.path.append(os.path.abspath((os.path.join(os.getcwd(), '..'))))"
   ]
  },
  {
   "cell_type": "code",
   "execution_count": 2,
   "id": "possible-possession",
   "metadata": {},
   "outputs": [],
   "source": [
    "\n",
    "import numpy as np\n",
    "import scanpy as sc\n",
    "\n",
    "#### \n",
    "import sys\n",
    "import warnings\n",
    "\n",
    "import anndata as ad\n",
    "import matplotlib.pyplot as plt\n",
    "import numpy as np\n",
    "# import pandas as pd\n",
    "import scvi\n",
    "from pathlib import Path\n",
    "# import scarches as sca\n",
    "\n",
    "from lbl8r.utils import make_pc_loading_adata\n",
    "from lbl8r.xgb import get_xgb_data, train_xgboost, test_xgboost\n",
    "\n",
    "if IN_COLAB:\n",
    "    from google.colab import drive\n",
    "    drive.mount('/content/drive')\n",
    "    \n",
    "\n",
    "%load_ext autoreload\n",
    "%autoreload 2\n"
   ]
  },
  {
   "cell_type": "markdown",
   "id": "eb65832e",
   "metadata": {},
   "source": [
    "### Data Paths"
   ]
  },
  {
   "cell_type": "code",
   "execution_count": 3,
   "id": "d5abafc1",
   "metadata": {},
   "outputs": [],
   "source": [
    "if IN_COLAB:\n",
    "    root_path = Path(\"/content/drive/MyDrive/\")\n",
    "    data_path = root_path / \"SingleCellModel/data\"\n",
    "else:\n",
    "    root_path = Path(\"../\")\n",
    "    if sys.platform == \"darwin\":\n",
    "        data_path = root_path / \"data/xylena_raw\"\n",
    "    else:\n",
    "        data_path = root_path / \"data/scdata/xylena\"\n",
    "        raw_data_path = root_path / \"data/scdata/xylena_raw\"\n",
    "\n",
    "XYLENA_ANNDATA = \"brain_atlas_anndata.h5ad\"\n",
    "XYLENA_METADATA = \"final_metadata.csv\"\n",
    "XYLENA_ANNDATA2 = \"brain_atlas_anndata_updated.h5ad\"\n",
    "\n",
    "XYLENA_TRAIN = XYLENA_ANNDATA.replace(\".h5ad\", \"_train_cnt.h5ad\")\n",
    "XYLENA_TEST = XYLENA_ANNDATA.replace(\".h5ad\", \"_test_cnt.h5ad\")\n",
    "\n",
    "XYLENA_TRAIN_SPARSE = XYLENA_TRAIN.replace(\".h5ad\", \"_sparse.h5ad\")\n",
    "XYLENA_TEST_SPARSE = XYLENA_TEST.replace(\".h5ad\", \"_sparse.h5ad\")"
   ]
  },
  {
   "cell_type": "code",
   "execution_count": 4,
   "id": "167cfdca",
   "metadata": {},
   "outputs": [],
   "source": [
    "model_path = root_path / \"lbl8r_models\"\n",
    "if not model_path.exists():\n",
    "  model_path.mkdir()\n",
    "\n"
   ]
  },
  {
   "cell_type": "markdown",
   "id": "75cb4491",
   "metadata": {},
   "source": [
    "--------------\n",
    "\n",
    "## xgb_LBL8R on raw count PCAs \n",
    "\n",
    "This is a zeroth order \"baseline\" for performance.  "
   ]
  },
  {
   "cell_type": "markdown",
   "id": "0485de3d",
   "metadata": {},
   "source": [
    "\n",
    "### load data"
   ]
  },
  {
   "cell_type": "code",
   "execution_count": 5,
   "id": "5ab35c5b",
   "metadata": {},
   "outputs": [],
   "source": [
    "OUT_PATH = data_path / \"LBL8R\"\n",
    "\n",
    "\n",
    "filen = OUT_PATH / XYLENA_TRAIN.replace(\"_cnt.h5ad\", \"_pca_out.h5ad\")\n",
    "train_ad = ad.read_h5ad(filen)\n",
    "\n",
    "\n"
   ]
  },
  {
   "cell_type": "code",
   "execution_count": 6,
   "id": "fab5bc74",
   "metadata": {},
   "outputs": [
    {
     "data": {
      "text/plain": [
       "<bound method IndexOpsMixin.value_counts of cells\n",
       "GGCCTAATCGATTTAG-1_1        ExN\n",
       "TAGTAACGTAGTCAAT-1_1        ExN\n",
       "GAAAGCCAGCAGCTCA-1_1        ExN\n",
       "ACTCACCTCCTCCCTC-1_1        ExN\n",
       "CTTCATCCAATCGCAC-1_1        ExN\n",
       "                          ...  \n",
       "GTTGTGAGTCGCAATA-1_138    Astro\n",
       "GAAGTCAAGCCACAAT-1_138      ExN\n",
       "CTGGACCAGGCTGTGC-1_138    Astro\n",
       "TCCTCACAGGAGTAAT-1_138      ExN\n",
       "GCAGCCAGTTGTGATG-1_138    Oligo\n",
       "Name: cell_type, Length: 502085, dtype: category\n",
       "Categories (7, object): ['Astro', 'ExN', 'InN', 'MG', 'OPC', 'Oligo', 'VC']>"
      ]
     },
     "execution_count": 6,
     "metadata": {},
     "output_type": "execute_result"
    }
   ],
   "source": [
    "train_ad.obs['cell_type'].value_counts"
   ]
  },
  {
   "cell_type": "markdown",
   "id": "e2eda274",
   "metadata": {},
   "source": [
    "### train model"
   ]
  },
  {
   "cell_type": "code",
   "execution_count": 7,
   "id": "3fc88452",
   "metadata": {},
   "outputs": [
    {
     "name": "stdout",
     "output_type": "stream",
     "text": [
      "[0]\tvalid-mlogloss:1.05707\n",
      "[10]\tvalid-mlogloss:0.11159\n",
      "[20]\tvalid-mlogloss:0.07661\n",
      "[30]\tvalid-mlogloss:0.07379\n",
      "[40]\tvalid-mlogloss:0.07353\n",
      "[47]\tvalid-mlogloss:0.07392\n"
     ]
    }
   ],
   "source": [
    "\n",
    "X_train, y_train, label_encoder = get_xgb_data(train_ad)\n",
    "\n",
    "bst = train_xgboost(X_train, y_train)\n",
    "\n"
   ]
  },
  {
   "cell_type": "markdown",
   "id": "3ab8e0e4",
   "metadata": {},
   "source": [
    "### test and save"
   ]
  },
  {
   "cell_type": "code",
   "execution_count": 8,
   "id": "943ae6ca",
   "metadata": {},
   "outputs": [
    {
     "data": {
      "text/plain": [
       "Oligo    86666\n",
       "ExN      50541\n",
       "InN      25488\n",
       "Astro    18646\n",
       "OPC      12809\n",
       "MG       11052\n",
       "VC        2524\n",
       "Name: cell_type, dtype: int64"
      ]
     },
     "execution_count": 8,
     "metadata": {},
     "output_type": "execute_result"
    }
   ],
   "source": [
    "\n",
    "\n",
    "filen = OUT_PATH / XYLENA_TEST.replace(\"_cnt.h5ad\", \"_pca_out.h5ad\")\n",
    "\n",
    "test_ad = ad.read_h5ad(filen)\n",
    "\n",
    "\n",
    "test_ad.obs[\"cell_type\"].value_counts()"
   ]
  },
  {
   "cell_type": "code",
   "execution_count": 9,
   "id": "184469b8",
   "metadata": {},
   "outputs": [
    {
     "name": "stdout",
     "output_type": "stream",
     "text": [
      "              precision    recall  f1-score   support\n",
      "\n",
      "       Astro       0.96      0.89      0.93     18646\n",
      "         ExN       0.95      0.98      0.96     50541\n",
      "         InN       0.98      0.92      0.95     25488\n",
      "          MG       0.96      0.99      0.98     11052\n",
      "         OPC       1.00      0.90      0.95     12809\n",
      "       Oligo       0.94      0.97      0.96     86666\n",
      "          VC       0.87      0.72      0.79      2524\n",
      "\n",
      "    accuracy                           0.95    207726\n",
      "   macro avg       0.95      0.91      0.93    207726\n",
      "weighted avg       0.95      0.95      0.95    207726\n",
      "\n"
     ]
    },
    {
     "name": "stderr",
     "output_type": "stream",
     "text": [
      "/home/ergonyc/mambaforge/envs/scverse11/lib/python3.11/site-packages/xgboost/core.py:160: UserWarning: [00:38:55] WARNING: /workspace/src/c_api/c_api.cc:1240: Saving into deprecated binary model format, please consider using `json` or `ubj`. Model format will default to JSON in XGBoost 2.2 if not specified.\n",
      "  warnings.warn(smsg, UserWarning)\n"
     ]
    }
   ],
   "source": [
    "\n",
    "test_xgboost(bst, test_ad, label_encoder)\n",
    "\n",
    "# Save the model for later use\n",
    "bst.save_model(model_path / 'xgb_raw_pca.model')\n"
   ]
  },
  {
   "cell_type": "markdown",
   "id": "40c2c44c",
   "metadata": {},
   "source": [
    "--------------\n",
    "\n",
    "## xgb_LBL8R on scVI normalized PCAs \n",
    "\n",
    "To give the pca \"baseline\" a fair shake its important to use normalized counts.  Using the `scVI` normalization is our best shot... (Although the current models are NOT batch correcting since we don't have a good strategy to do this with probe data)"
   ]
  },
  {
   "cell_type": "code",
   "execution_count": 18,
   "id": "9b2dc536",
   "metadata": {},
   "outputs": [
    {
     "data": {
      "text/plain": [
       "PosixPath('../data/scdata/xylena/LBL8R/brain_atlas_anndata_train_exp_nb_out.h5ad')"
      ]
     },
     "execution_count": 18,
     "metadata": {},
     "output_type": "execute_result"
    }
   ],
   "source": [
    "filen = OUT_PATH / XYLENA_TRAIN.replace(\"_cnt.h5ad\", \"_exp_nb_out.h5ad\")\n",
    "filen"
   ]
  },
  {
   "cell_type": "code",
   "execution_count": 16,
   "id": "76085134",
   "metadata": {},
   "outputs": [
    {
     "name": "stdout",
     "output_type": "stream",
     "text": [
      "[0]\tvalid-mlogloss:1.05750\n",
      "[10]\tvalid-mlogloss:0.11306\n",
      "[20]\tvalid-mlogloss:0.07784\n",
      "[30]\tvalid-mlogloss:0.07458\n",
      "[40]\tvalid-mlogloss:0.07432\n",
      "[45]\tvalid-mlogloss:0.07445\n",
      "              precision    recall  f1-score   support\n",
      "\n",
      "       Astro       0.00      0.00      0.00     18646\n",
      "         ExN       0.36      1.00      0.53     50541\n",
      "         InN       0.92      0.01      0.01     25488\n",
      "          MG       0.00      0.00      0.00     11052\n",
      "         OPC       0.00      0.00      0.00     12809\n",
      "       Oligo       0.47      0.17      0.25     86666\n",
      "          VC       0.00      0.00      0.00      2524\n",
      "\n",
      "    accuracy                           0.31    207726\n",
      "   macro avg       0.25      0.17      0.11    207726\n",
      "weighted avg       0.40      0.31      0.23    207726\n",
      "\n"
     ]
    },
    {
     "name": "stderr",
     "output_type": "stream",
     "text": [
      "/home/ergonyc/mambaforge/envs/scverse11/lib/python3.11/site-packages/xgboost/core.py:160: UserWarning: [00:42:32] WARNING: /workspace/src/c_api/c_api.cc:1240: Saving into deprecated binary model format, please consider using `json` or `ubj`. Model format will default to JSON in XGBoost 2.2 if not specified.\n",
      "  warnings.warn(smsg, UserWarning)\n"
     ]
    }
   ],
   "source": [
    "# Load & prep Training data\n",
    "filen = OUT_PATH / XYLENA_TRAIN.replace(\"_cnt.h5ad\", \"_exp_nb_pca_out.h5ad\")\n",
    "norm_train_ad = ad.read_h5ad(filen)\n",
    "\n",
    "X_train, y_train, label_encoder = get_xgb_data(train_ad)\n",
    "\n",
    "# train \n",
    "bst = train_xgboost(X_train, y_train)\n",
    "\n",
    "# test\n",
    "filen = OUT_PATH / XYLENA_TEST.replace(\"_cnt.h5ad\", \"_exp_nb_pca_out.h5ad\")\n",
    "test_ad = ad.read_h5ad(filen)\n",
    "test_xgboost(bst, test_ad, label_encoder)\n",
    "\n",
    "# save\n",
    "bst.save_model(model_path / 'xgb_scVInorm_pca.model')\n"
   ]
  },
  {
   "cell_type": "code",
   "execution_count": 14,
   "id": "bc29dec8",
   "metadata": {},
   "outputs": [
    {
     "data": {
      "text/plain": [
       "AnnData object with n_obs × n_vars = 207726 × 3000\n",
       "    obs: 'seurat_clusters', 'cell_type', 'sample', 'doublet_score', 'nCount_RNA', 'nFeature_RNA', 'percent.mt', 'percent.rb', 'batch', 'sample_other', 'S.Score', 'G2M.Score', 'Phase', 'RNA_snn_res.0.3', 'seurat_clusters_other', 'ExN1', 'InN2', 'MG3', 'Astro4', 'Oligo5', 'OPC6', 'VC7', 'type', 'UMAP_1', 'UMAP_2', 'clean', 'test', 'train', 'tmp', '_scvi_batch', '_scvi_labels'\n",
       "    var: 'feat'\n",
       "    uns: 'pca'\n",
       "    obsm: 'X_pca', 'X_scVI', '_X_pca'\n",
       "    varm: 'PCs', '_PCs'"
      ]
     },
     "execution_count": 14,
     "metadata": {},
     "output_type": "execute_result"
    }
   ],
   "source": [
    "test_ad"
   ]
  },
  {
   "cell_type": "markdown",
   "id": "ecacdfa3",
   "metadata": {},
   "source": [
    "--------------\n",
    "\n",
    "## xgb_LBL8R on scVI latents  \n"
   ]
  },
  {
   "cell_type": "code",
   "execution_count": 19,
   "id": "8079b3d8",
   "metadata": {},
   "outputs": [
    {
     "name": "stdout",
     "output_type": "stream",
     "text": [
      "[0]\tvalid-mlogloss:1.05822\n",
      "[10]\tvalid-mlogloss:0.11433\n",
      "[20]\tvalid-mlogloss:0.07914\n",
      "[30]\tvalid-mlogloss:0.07584\n",
      "[40]\tvalid-mlogloss:0.07530\n",
      "[49]\tvalid-mlogloss:0.07542\n",
      "              precision    recall  f1-score   support\n",
      "\n",
      "       Astro       0.00      0.00      0.00     18646\n",
      "         ExN       0.14      0.15      0.15     50541\n",
      "         InN       0.08      0.17      0.11     25488\n",
      "          MG       0.00      0.00      0.00     11052\n",
      "         OPC       0.00      0.00      0.00     12809\n",
      "       Oligo       0.47      0.01      0.01     86666\n",
      "          VC       0.01      0.43      0.02      2524\n",
      "\n",
      "    accuracy                           0.07    207726\n",
      "   macro avg       0.10      0.11      0.04    207726\n",
      "weighted avg       0.24      0.07      0.05    207726\n",
      "\n"
     ]
    },
    {
     "name": "stderr",
     "output_type": "stream",
     "text": [
      "/home/ergonyc/mambaforge/envs/scverse11/lib/python3.11/site-packages/sklearn/metrics/_classification.py:1471: UndefinedMetricWarning: Precision and F-score are ill-defined and being set to 0.0 in labels with no predicted samples. Use `zero_division` parameter to control this behavior.\n",
      "  _warn_prf(average, modifier, msg_start, len(result))\n",
      "/home/ergonyc/mambaforge/envs/scverse11/lib/python3.11/site-packages/sklearn/metrics/_classification.py:1471: UndefinedMetricWarning: Precision and F-score are ill-defined and being set to 0.0 in labels with no predicted samples. Use `zero_division` parameter to control this behavior.\n",
      "  _warn_prf(average, modifier, msg_start, len(result))\n",
      "/home/ergonyc/mambaforge/envs/scverse11/lib/python3.11/site-packages/sklearn/metrics/_classification.py:1471: UndefinedMetricWarning: Precision and F-score are ill-defined and being set to 0.0 in labels with no predicted samples. Use `zero_division` parameter to control this behavior.\n",
      "  _warn_prf(average, modifier, msg_start, len(result))\n",
      "/home/ergonyc/mambaforge/envs/scverse11/lib/python3.11/site-packages/xgboost/core.py:160: UserWarning: [00:46:43] WARNING: /workspace/src/c_api/c_api.cc:1240: Saving into deprecated binary model format, please consider using `json` or `ubj`. Model format will default to JSON in XGBoost 2.2 if not specified.\n",
      "  warnings.warn(smsg, UserWarning)\n"
     ]
    }
   ],
   "source": [
    "# Load & prep Training data\n",
    "filen = OUT_PATH / XYLENA_ANNDATA.replace(\".h5ad\", \"_train_scvi_nb_out.h5ad\")\n",
    "norm_train_ad = ad.read_h5ad(filen)\n",
    "\n",
    "X_train, y_train, label_encoder = get_xgb_data(train_ad)\n",
    "\n",
    "# train \n",
    "bst = train_xgboost(X_train, y_train)\n",
    "\n",
    "# test\n",
    "filen = OUT_PATH / XYLENA_ANNDATA.replace(\".h5ad\", \"_test_scvi_nb_out.h5ad\")\n",
    "test_ad = ad.read_h5ad(filen)\n",
    "test_xgboost(bst, test_ad, label_encoder)\n",
    "\n",
    "# save\n",
    "bst.save_model(model_path / 'xgb_scvi_nb.model')\n"
   ]
  },
  {
   "cell_type": "code",
   "execution_count": null,
   "id": "1a8f4a8f",
   "metadata": {},
   "outputs": [],
   "source": []
  },
  {
   "cell_type": "code",
   "execution_count": null,
   "id": "3c0c5876",
   "metadata": {},
   "outputs": [],
   "source": []
  }
 ],
 "metadata": {
  "kernelspec": {
   "display_name": "Python 3",
   "language": "python",
   "name": "python3"
  },
  "language_info": {
   "codemirror_mode": {
    "name": "ipython",
    "version": 3
   },
   "file_extension": ".py",
   "mimetype": "text/x-python",
   "name": "python",
   "nbconvert_exporter": "python",
   "pygments_lexer": "ipython3",
   "version": "3.11.6"
  }
 },
 "nbformat": 4,
 "nbformat_minor": 5
}
