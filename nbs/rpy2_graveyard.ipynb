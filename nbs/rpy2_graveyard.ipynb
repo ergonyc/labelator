{
 "cells": [
  {
   "cell_type": "markdown",
   "metadata": {},
   "source": [
    "# rpy2 code graveyard\n",
    "\n",
    "mostly from [sanbomics](https://github.com/mousepixels/sanbomics_scripts/blob/main/soupX/soupX_python_test.ipynb)"
   ]
  },
  {
   "cell_type": "code",
   "execution_count": null,
   "metadata": {},
   "outputs": [],
   "source": [
    "# code graveyard for rpy2\n"
   ]
  },
  {
   "cell_type": "code",
   "execution_count": null,
   "metadata": {},
   "outputs": [],
   "source": [
    "import logging\n",
    "\n",
    "import rpy2.rinterface_lib.callbacks as rcb\n",
    "import rpy2.robjects as ro\n",
    "\n",
    "rcb.logger.setLevel(logging.ERROR)\n",
    "# ro.pandas2ri.activate()\n",
    "\n",
    "# import anndata2ri\n",
    "# anndata2ri.activate()\n",
    "\n",
    "%load_ext rpy2.ipython"
   ]
  },
  {
   "cell_type": "code",
   "execution_count": null,
   "metadata": {},
   "outputs": [
    {
     "data": {
      "text/plain": [
       "'3.5.14'"
      ]
     },
     "metadata": {},
     "output_type": "display_data"
    }
   ],
   "source": [
    "import rpy2\n",
    "rpy2.__version__"
   ]
  },
  {
   "cell_type": "code",
   "execution_count": null,
   "metadata": {},
   "outputs": [],
   "source": [
    "def get_soupx_group(adata):\n",
    "    adata_pp = adata.copy()\n",
    "    sc.pp.normalize_per_cell(adata_pp)\n",
    "    sc.pp.log1p(adata_pp)\n",
    "    sc.pp.pca(adata_pp)\n",
    "    sc.pp.neighbors(adata_pp)\n",
    "    sc.tl.leiden(adata_pp, key_added=\"soupx_groups\")\n",
    "    return adata_pp.obs['soupx_groups']\n",
    "    \n",
    "    \n",
    "\n",
    "def prepare_broth(adata):\n",
    "    # Make into individual components to pass to R\n",
    "    cells = adata.obs_names\n",
    "    genes = adata.var_names\n",
    "    data = adata.X.T\n",
    "    \n",
    "    #get raw data\n",
    "    sample_id = adata.obs.iloc[0]['sample_id']\n",
    "    raw = sc.read_10x_h5(sample_id + '.raw_feature_bc_matrix.h5').X.T\n",
    "    \n",
    "    #get leiden clusters\n",
    "    soupx_groups = get_soupx_group(adata)\n",
    "\n",
    "    return data, raw, genes, cells, soupx_groups\n",
    "    \n",
    "\n",
    "def mad_outlier(adata, metric, nmads):\n",
    "    M = adata.obs[metric]\n",
    "    return (M < np.median(M) - nmads * mad(M)) | (M > np.median(M) + nmads * mad(M))\n",
    "    \n"
   ]
  },
  {
   "cell_type": "code",
   "execution_count": null,
   "metadata": {},
   "outputs": [
    {
     "name": "stderr",
     "output_type": "stream",
     "text": [
      "* installing *source* package ‘SoupX’ ...\n",
      "** package ‘SoupX’ successfully unpacked and MD5 sums checked\n",
      "** using staged installation\n",
      "** R\n",
      "** data\n",
      "*** moving datasets to lazyload DB\n",
      "** inst\n",
      "** byte-compile and prepare package for lazy loading\n",
      "** help\n",
      "*** installing help indices\n",
      "** building package indices\n",
      "** installing vignettes\n",
      "** testing if installed package can be loaded from temporary location\n",
      "** testing if installed package can be loaded from final location\n",
      "** testing if installed package keeps a record of temporary installation path\n",
      "* DONE (SoupX)\n"
     ]
    },
    {
     "data": {
      "text/plain": [
       "Installing package into ‘/home/ergonyc/R/x86_64-pc-linux-gnu-library/4.1’\n",
       "(as ‘lib’ is unspecified)\n",
       "trying URL 'https://cloud.r-project.org/src/contrib/SoupX_1.6.2.tar.gz'\n",
       "Content type 'application/x-gzip' length 4962415 bytes (4.7 MB)\n",
       "==================================================\n",
       "downloaded 4.7 MB\n",
       "\n",
       "\n",
       "The downloaded source packages are in\n",
       "\t‘/tmp/RtmphfZrgS/downloaded_packages’\n"
      ]
     },
     "metadata": {},
     "output_type": "display_data"
    }
   ],
   "source": [
    "# %%R\n",
    "\n",
    "# install.packages('SoupX')"
   ]
  },
  {
   "cell_type": "code",
   "execution_count": null,
   "metadata": {},
   "outputs": [
    {
     "name": "stdout",
     "output_type": "stream",
     "text": [
      "\n",
      "    WARNING: The R package \"reticulate\" only fixed recently\n",
      "    an issue that caused a segfault when used with rpy2:\n",
      "    https://github.com/rstudio/reticulate/pull/1188\n",
      "    Make sure that you use a version of that package that includes\n",
      "    the fix.\n",
      "    "
     ]
    },
    {
     "data": {
      "text/plain": [
       "The legacy packages maptools, rgdal, and rgeos, underpinning the sp package,\n",
       "which was just loaded, will retire in October 2023.\n",
       "Please refer to R-spatial evolution reports for details, especially\n",
       "https://r-spatial.org/r/2023/05/15/evolution4.html.\n",
       "It may be desirable to make the sf package available;\n",
       "package maintainers should consider adding sf to Suggests:.\n",
       "The sp package is now running under evolution status 2\n",
       "     (status 2 uses the sf package in place of rgdal)\n",
       "In addition: Warning message:\n",
       "In (function (package, help, pos = 2, lib.loc = NULL, character.only = FALSE,  :\n",
       "  libraries ‘/usr/local/lib/R/site-library’, ‘/usr/lib/R/site-library’ contain no packages\n"
      ]
     },
     "metadata": {},
     "output_type": "display_data"
    }
   ],
   "source": [
    "%%R\n",
    "\n",
    "library(SoupX)\n",
    "\n",
    "make_soup <- function(data, raw, genes, cells, soupx_groups){\n",
    "    # specify row and column names of data\n",
    "    rownames(data) = genes\n",
    "    colnames(data) = cells\n",
    "    # ensure correct sparse format for table of counts and table of droplets\n",
    "    data <- as(data, \"sparseMatrix\")\n",
    "    raw <- as(raw, \"sparseMatrix\")\n",
    "\n",
    "    # Generate SoupChannel Object for SoupX \n",
    "    sc = SoupChannel(raw, data, calcSoupProfile = FALSE)\n",
    "\n",
    "    # Add extra meta data to the SoupChannel object\n",
    "    soupProf = data.frame(row.names = rownames(data), est = rowSums(data)/sum(data), counts = rowSums(data))\n",
    "    sc = setSoupProfile(sc, soupProf)\n",
    "    # Set cluster information in SoupChannel\n",
    "    sc = setClusters(sc, soupx_groups)\n",
    "\n",
    "    # Estimate contamination fraction\n",
    "    sc  = autoEstCont(sc, doPlot=FALSE)\n",
    "    # Infer corrected table of counts and round to integer\n",
    "    out = adjustCounts(sc, roundToInt = TRUE)\n",
    "    \n",
    "    return(out)\n",
    "}"
   ]
  },
  {
   "cell_type": "code",
   "execution_count": null,
   "metadata": {},
   "outputs": [],
   "source": [
    "def cook_soup(adata):\n",
    "    data, raw, genes, cells, soupx_groups = prepare_broth(adata)\n",
    "\n",
    "    # Execute the R code and get the corrected counts\n",
    "    %R -i data -i raw -i genes -i cells -i soupx_groups -o out out = make_soup(data, raw, genes, cells, soupx_groups)\n",
    "\n",
    "\n",
    "    adata.layers[\"raw_counts\"] = adata.X\n",
    "    adata.layers[\"soupX_counts\"] = out.T\n",
    "    adata.X = adata.layers[\"soupX_counts\"]\n",
    "    \n",
    "    return adata"
   ]
  },
  {
   "cell_type": "code",
   "execution_count": null,
   "metadata": {},
   "outputs": [],
   "source": [
    "\n",
    "\n",
    "def pp(sample_id):\n",
    "    adata = sc.read_10x_mtx(sample_id + '/outs/filtered_feature_bc_matrix')\n",
    "    adata.obs['sample_id'] = sample_id\n",
    "    \n",
    "    \n",
    "    #calculate QC metrics\n",
    "    adata.var[\"mt\"] = adata.var_names.str.startswith(\"mt-\")\n",
    "    sc.pp.calculate_qc_metrics(adata, qc_vars=[\"mt\"],\n",
    "                               inplace=True, percent_top=[20], log1p=True)\n",
    "    \n",
    "    \n",
    "    #filter outliers\n",
    "    bool_vector = mad_outlier(adata, 'log1p_total_counts', 5) +\\\n",
    "        mad_outlier(adata, 'log1p_n_genes_by_counts', 5) +\\\n",
    "        mad_outlier(adata, 'pct_counts_in_top_20_genes', 5) +\\\n",
    "        mad_outlier(adata, 'pct_counts_mt', 3)\n",
    "    \n",
    "    adata = adata[~bool_vector]\n",
    "    \n",
    "    return adata\n",
    "\n",
    "\n",
    "tar_gz_files = list(data_path.glob('*.tar.gz'))\n",
    "\n",
    "\n",
    "adatas = [pp(adata) for adata in sample_ids]\n",
    "\n",
    "\n",
    "adatas = [cook_soup(adata) for adata in adatas]"
   ]
  }
 ],
 "metadata": {
  "language_info": {
   "name": "python"
  }
 },
 "nbformat": 4,
 "nbformat_minor": 2
}
