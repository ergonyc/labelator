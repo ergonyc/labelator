{
 "cells": [
  {
   "cell_type": "markdown",
   "id": "neural-welsh",
   "metadata": {
    "tags": []
   },
   "source": [
    "## LBL8R create adata embeddings\n",
    "\n",
    "### overview.\n",
    "This notebook is a simplified version of `lbl8r_scvi.ipynb` which will not train any of the model but will load and prep `anndata` (\"annotated data\") files to be used downstream by the `LBL8R`.\n",
    "\n",
    "\n",
    "\n",
    "### Models and Embeddings\n",
    "\n",
    "We will use a variety of models to \"embed\" the scRNAseq counts into lower dimension.\n",
    "- scVI latents\n",
    "- PCA. We interpret this as a linear embedding\n",
    "- etc.  in the future non-variational Auto Encoders, or other \"compressions\" \n",
    "\n",
    "### files\n",
    "We will make 5 sets of files from Xylena's dataset from both the \"test\" and \"train\" subsets:\n",
    "- raw counts (0)\n",
    "    - PCA embedding (1.)\n",
    "    - scVI embeddings \n",
    "        - mean latent only (2. )\n",
    "        - mean and var latents (concatenated) (3. )\n",
    "- normalized expression (scVI)\n",
    "    - normalized expression @ 1e4 `library_size`(4. )\n",
    "    - PCA embeddings of above (5. )"
   ]
  },
  {
   "cell_type": "code",
   "execution_count": 1,
   "id": "f4f82e57",
   "metadata": {},
   "outputs": [],
   "source": [
    "import sys\n",
    "\n",
    "IN_COLAB = \"google.colab\" in sys.modules\n",
    "if IN_COLAB:\n",
    "    !pip uninstall -y typing_extensions\n",
    "    !pip install --quiet scvi-colab\n",
    "    from scvi_colab import install\n",
    "    install()"
   ]
  },
  {
   "cell_type": "code",
   "execution_count": 2,
   "id": "possible-possession",
   "metadata": {},
   "outputs": [],
   "source": [
    "\n",
    "\n",
    "from pathlib import Path\n",
    "from scvi.model import SCVI\n",
    "\n",
    "import scanpy as sc\n",
    "\n",
    "import numpy as np\n",
    "import anndata as ad\n",
    "\n",
    "\n",
    "if IN_COLAB:\n",
    "    from google.colab import drive\n",
    "    drive.mount('/content/drive')\n",
    "    \n",
    "from lbl8r.utils import mde, make_latent_adata, make_scvi_normalized_adata, make_pc_loading_adata\n",
    "\n",
    "\n",
    "%load_ext autoreload\n",
    "%autoreload 2\n"
   ]
  },
  {
   "cell_type": "markdown",
   "id": "eb65832e",
   "metadata": {},
   "source": [
    "### Load Train, Validate Data "
   ]
  },
  {
   "cell_type": "code",
   "execution_count": 3,
   "id": "d5abafc1",
   "metadata": {},
   "outputs": [],
   "source": [
    "if IN_COLAB:\n",
    "    root_path = Path(\"/content/drive/MyDrive/\")\n",
    "    data_path = root_path / \"SingleCellModel/data\"\n",
    "else:\n",
    "    root_path = Path(\"../\")\n",
    "    if sys.platform == \"darwin\":\n",
    "        data_path = root_path / \"data/xylena_raw\"\n",
    "    else:\n",
    "        data_path = root_path / \"data/scdata/xylena_raw\"\n",
    "        \n",
    "XYLENA_ANNDATA = \"brain_atlas_anndata.h5ad\"\n",
    "XYLENA_METADATA = \"final_metadata.csv\"\n",
    "XYLENA_ANNDATA2 = \"brain_atlas_anndata_updated.h5ad\"\n",
    "\n",
    "XYLENA_TRAIN = XYLENA_ANNDATA.replace(\".h5ad\", \"_train.h5ad\")\n",
    "XYLENA_TEST = XYLENA_ANNDATA.replace(\".h5ad\", \"_test.h5ad\")\n",
    "\n",
    "\n",
    "cell_type_key = 'cell_type'"
   ]
  },
  {
   "cell_type": "markdown",
   "id": "mobile-lindsay",
   "metadata": {},
   "source": [
    "## load scVI model "
   ]
  },
  {
   "cell_type": "markdown",
   "id": "5e088811",
   "metadata": {},
   "source": []
  },
  {
   "cell_type": "code",
   "execution_count": 4,
   "id": "incorporated-cargo",
   "metadata": {},
   "outputs": [],
   "source": [
    "model_path = root_path / \"lbl8r_models\"\n",
    "scvi_path = model_path / \"scvi_nobatch\"\n",
    "\n",
    "labels_key = 'cell_type'\n",
    "\n"
   ]
  },
  {
   "cell_type": "markdown",
   "id": "3d8f3677",
   "metadata": {},
   "source": [
    "### setup train data for scVI"
   ]
  },
  {
   "cell_type": "code",
   "execution_count": 5,
   "id": "3319ec7d",
   "metadata": {},
   "outputs": [],
   "source": [
    "outfilen = data_path / XYLENA_TRAIN\n",
    "train_ad = ad.read_h5ad(outfilen)\n"
   ]
  },
  {
   "cell_type": "code",
   "execution_count": 16,
   "id": "b25f5510",
   "metadata": {},
   "outputs": [
    {
     "data": {
      "text/plain": [
       "Index(['Astro', 'ExN', 'InN', 'MG', 'OPC', 'Oligo', 'VC', 'Unknown'], dtype='object')"
      ]
     },
     "execution_count": 16,
     "metadata": {},
     "output_type": "execute_result"
    }
   ],
   "source": [
    "train_ad.obs.cell_type.cat.categories"
   ]
  },
  {
   "cell_type": "code",
   "execution_count": 15,
   "id": "bf13a428",
   "metadata": {},
   "outputs": [
    {
     "data": {
      "text/html": [
       "<div>\n",
       "<style scoped>\n",
       "    .dataframe tbody tr th:only-of-type {\n",
       "        vertical-align: middle;\n",
       "    }\n",
       "\n",
       "    .dataframe tbody tr th {\n",
       "        vertical-align: top;\n",
       "    }\n",
       "\n",
       "    .dataframe thead th {\n",
       "        text-align: right;\n",
       "    }\n",
       "</style>\n",
       "<table border=\"1\" class=\"dataframe\">\n",
       "  <thead>\n",
       "    <tr style=\"text-align: right;\">\n",
       "      <th></th>\n",
       "      <th>seurat_clusters</th>\n",
       "      <th>cell_type</th>\n",
       "      <th>type</th>\n",
       "      <th>tmp</th>\n",
       "    </tr>\n",
       "    <tr>\n",
       "      <th>cells</th>\n",
       "      <th></th>\n",
       "      <th></th>\n",
       "      <th></th>\n",
       "      <th></th>\n",
       "    </tr>\n",
       "  </thead>\n",
       "  <tbody>\n",
       "    <tr>\n",
       "      <th>ATTGCTCGTTTGGGTA-1_3</th>\n",
       "      <td>1</td>\n",
       "      <td>Unknown</td>\n",
       "      <td>Oligodendrocytes</td>\n",
       "      <td>nanOligodendrocytes</td>\n",
       "    </tr>\n",
       "    <tr>\n",
       "      <th>AAGCGAATCCTGAGTG-1_8</th>\n",
       "      <td>1</td>\n",
       "      <td>Unknown</td>\n",
       "      <td>Oligodendrocytes</td>\n",
       "      <td>nanOligodendrocytes</td>\n",
       "    </tr>\n",
       "    <tr>\n",
       "      <th>CAGTATGGTCACCTAT-1_15</th>\n",
       "      <td>1</td>\n",
       "      <td>Unknown</td>\n",
       "      <td>Oligodendrocytes</td>\n",
       "      <td>nanOligodendrocytes</td>\n",
       "    </tr>\n",
       "    <tr>\n",
       "      <th>GTTCTTGTCACAGGAA-1_16</th>\n",
       "      <td>1</td>\n",
       "      <td>Unknown</td>\n",
       "      <td>Oligodendrocytes</td>\n",
       "      <td>nanOligodendrocytes</td>\n",
       "    </tr>\n",
       "    <tr>\n",
       "      <th>TGCAGGCTCCTCACTA-1_19</th>\n",
       "      <td>1</td>\n",
       "      <td>Unknown</td>\n",
       "      <td>Oligodendrocytes</td>\n",
       "      <td>nanOligodendrocytes</td>\n",
       "    </tr>\n",
       "    <tr>\n",
       "      <th>CTTAAGATCCTCCTAA-1_19</th>\n",
       "      <td>1</td>\n",
       "      <td>Unknown</td>\n",
       "      <td>Oligodendrocytes</td>\n",
       "      <td>nanOligodendrocytes</td>\n",
       "    </tr>\n",
       "    <tr>\n",
       "      <th>GATGCGACACCGGCTA-1_19</th>\n",
       "      <td>1</td>\n",
       "      <td>Unknown</td>\n",
       "      <td>Oligodendrocytes</td>\n",
       "      <td>nanOligodendrocytes</td>\n",
       "    </tr>\n",
       "    <tr>\n",
       "      <th>CCTTCGTAGGATGATG-1_39</th>\n",
       "      <td>1</td>\n",
       "      <td>Unknown</td>\n",
       "      <td>Oligodendrocytes</td>\n",
       "      <td>nanOligodendrocytes</td>\n",
       "    </tr>\n",
       "    <tr>\n",
       "      <th>GCTAACAGTCACACCC-1_41</th>\n",
       "      <td>1</td>\n",
       "      <td>Unknown</td>\n",
       "      <td>Oligodendrocytes</td>\n",
       "      <td>nanOligodendrocytes</td>\n",
       "    </tr>\n",
       "    <tr>\n",
       "      <th>CTTGCATGTTCGGGAT-1_66</th>\n",
       "      <td>1</td>\n",
       "      <td>Unknown</td>\n",
       "      <td>Oligodendrocytes</td>\n",
       "      <td>nanOligodendrocytes</td>\n",
       "    </tr>\n",
       "    <tr>\n",
       "      <th>GTCTAACAGGTTAGCT-1_89</th>\n",
       "      <td>1</td>\n",
       "      <td>Unknown</td>\n",
       "      <td>Oligodendrocytes</td>\n",
       "      <td>nanOligodendrocytes</td>\n",
       "    </tr>\n",
       "    <tr>\n",
       "      <th>CACATAATCAAACCGT-1_138</th>\n",
       "      <td>1</td>\n",
       "      <td>Unknown</td>\n",
       "      <td>Oligodendrocytes</td>\n",
       "      <td>nanOligodendrocytes</td>\n",
       "    </tr>\n",
       "  </tbody>\n",
       "</table>\n",
       "</div>"
      ],
      "text/plain": [
       "                        seurat_clusters cell_type              type  \\\n",
       "cells                                                                 \n",
       "ATTGCTCGTTTGGGTA-1_3                  1   Unknown  Oligodendrocytes   \n",
       "AAGCGAATCCTGAGTG-1_8                  1   Unknown  Oligodendrocytes   \n",
       "CAGTATGGTCACCTAT-1_15                 1   Unknown  Oligodendrocytes   \n",
       "GTTCTTGTCACAGGAA-1_16                 1   Unknown  Oligodendrocytes   \n",
       "TGCAGGCTCCTCACTA-1_19                 1   Unknown  Oligodendrocytes   \n",
       "CTTAAGATCCTCCTAA-1_19                 1   Unknown  Oligodendrocytes   \n",
       "GATGCGACACCGGCTA-1_19                 1   Unknown  Oligodendrocytes   \n",
       "CCTTCGTAGGATGATG-1_39                 1   Unknown  Oligodendrocytes   \n",
       "GCTAACAGTCACACCC-1_41                 1   Unknown  Oligodendrocytes   \n",
       "CTTGCATGTTCGGGAT-1_66                 1   Unknown  Oligodendrocytes   \n",
       "GTCTAACAGGTTAGCT-1_89                 1   Unknown  Oligodendrocytes   \n",
       "CACATAATCAAACCGT-1_138                1   Unknown  Oligodendrocytes   \n",
       "\n",
       "                                        tmp  \n",
       "cells                                        \n",
       "ATTGCTCGTTTGGGTA-1_3    nanOligodendrocytes  \n",
       "AAGCGAATCCTGAGTG-1_8    nanOligodendrocytes  \n",
       "CAGTATGGTCACCTAT-1_15   nanOligodendrocytes  \n",
       "GTTCTTGTCACAGGAA-1_16   nanOligodendrocytes  \n",
       "TGCAGGCTCCTCACTA-1_19   nanOligodendrocytes  \n",
       "CTTAAGATCCTCCTAA-1_19   nanOligodendrocytes  \n",
       "GATGCGACACCGGCTA-1_19   nanOligodendrocytes  \n",
       "CCTTCGTAGGATGATG-1_39   nanOligodendrocytes  \n",
       "GCTAACAGTCACACCC-1_41   nanOligodendrocytes  \n",
       "CTTGCATGTTCGGGAT-1_66   nanOligodendrocytes  \n",
       "GTCTAACAGGTTAGCT-1_89   nanOligodendrocytes  \n",
       "CACATAATCAAACCGT-1_138  nanOligodendrocytes  "
      ]
     },
     "execution_count": 15,
     "metadata": {},
     "output_type": "execute_result"
    }
   ],
   "source": [
    "train_ad.obs[['seurat_clusters','cell_type','type','tmp']][train_ad.obs.cell_type == \"Unknown\"]"
   ]
  },
  {
   "cell_type": "code",
   "execution_count": 12,
   "id": "2bc2b086",
   "metadata": {},
   "outputs": [
    {
     "data": {
      "text/html": [
       "<div>\n",
       "<style scoped>\n",
       "    .dataframe tbody tr th:only-of-type {\n",
       "        vertical-align: middle;\n",
       "    }\n",
       "\n",
       "    .dataframe tbody tr th {\n",
       "        vertical-align: top;\n",
       "    }\n",
       "\n",
       "    .dataframe thead th {\n",
       "        text-align: right;\n",
       "    }\n",
       "</style>\n",
       "<table border=\"1\" class=\"dataframe\">\n",
       "  <thead>\n",
       "    <tr style=\"text-align: right;\">\n",
       "      <th></th>\n",
       "      <th>seurat_clusters</th>\n",
       "      <th>cell_type</th>\n",
       "      <th>type</th>\n",
       "      <th>tmp</th>\n",
       "    </tr>\n",
       "    <tr>\n",
       "      <th>cells</th>\n",
       "      <th></th>\n",
       "      <th></th>\n",
       "      <th></th>\n",
       "      <th></th>\n",
       "    </tr>\n",
       "  </thead>\n",
       "  <tbody>\n",
       "    <tr>\n",
       "      <th>GGCCTAATCGATTTAG-1_1</th>\n",
       "      <td>8</td>\n",
       "      <td>ExN</td>\n",
       "      <td>Mature neurons</td>\n",
       "      <td>ExNMature neurons</td>\n",
       "    </tr>\n",
       "    <tr>\n",
       "      <th>TAGTAACGTAGTCAAT-1_1</th>\n",
       "      <td>2</td>\n",
       "      <td>ExN</td>\n",
       "      <td>Mature neurons</td>\n",
       "      <td>ExNMature neurons</td>\n",
       "    </tr>\n",
       "    <tr>\n",
       "      <th>GTTAATGTCAAGCTAC-1_1</th>\n",
       "      <td>11</td>\n",
       "      <td>ExN</td>\n",
       "      <td>Mature neurons</td>\n",
       "      <td>ExNMature neurons</td>\n",
       "    </tr>\n",
       "    <tr>\n",
       "      <th>ATTTGCAAGGACCTTG-1_1</th>\n",
       "      <td>1</td>\n",
       "      <td>Oligo</td>\n",
       "      <td>Oligodendrocytes</td>\n",
       "      <td>OligoOligodendrocytes</td>\n",
       "    </tr>\n",
       "    <tr>\n",
       "      <th>TCAGTAATCCCGCCTA-1_1</th>\n",
       "      <td>13</td>\n",
       "      <td>ExN</td>\n",
       "      <td>Mature neurons</td>\n",
       "      <td>ExNMature neurons</td>\n",
       "    </tr>\n",
       "    <tr>\n",
       "      <th>...</th>\n",
       "      <td>...</td>\n",
       "      <td>...</td>\n",
       "      <td>...</td>\n",
       "      <td>...</td>\n",
       "    </tr>\n",
       "    <tr>\n",
       "      <th>TGAGGTGCAAGCCACT-1_77</th>\n",
       "      <td>11</td>\n",
       "      <td>OPC</td>\n",
       "      <td>Mature neurons</td>\n",
       "      <td>OPCMature neurons</td>\n",
       "    </tr>\n",
       "    <tr>\n",
       "      <th>CACTTAAAGTATGTGC-1_106</th>\n",
       "      <td>13</td>\n",
       "      <td>InN</td>\n",
       "      <td>Mature neurons</td>\n",
       "      <td>InNMature neurons</td>\n",
       "    </tr>\n",
       "    <tr>\n",
       "      <th>ATTGCGCCATCGCTCC-1_115</th>\n",
       "      <td>13</td>\n",
       "      <td>Oligo</td>\n",
       "      <td>Mature neurons</td>\n",
       "      <td>OligoMature neurons</td>\n",
       "    </tr>\n",
       "    <tr>\n",
       "      <th>TGTGAAACACCTCGCT-1_117</th>\n",
       "      <td>5</td>\n",
       "      <td>ExN</td>\n",
       "      <td>Microglial cells</td>\n",
       "      <td>ExNMicroglial cells</td>\n",
       "    </tr>\n",
       "    <tr>\n",
       "      <th>GAAGCCTGTAGCTAGC-1_132</th>\n",
       "      <td>4</td>\n",
       "      <td>VC</td>\n",
       "      <td>Oligodendrocyte precursor cells</td>\n",
       "      <td>VCOligodendrocyte precursor cells</td>\n",
       "    </tr>\n",
       "  </tbody>\n",
       "</table>\n",
       "<p>86 rows × 4 columns</p>\n",
       "</div>"
      ],
      "text/plain": [
       "                        seurat_clusters cell_type  \\\n",
       "cells                                               \n",
       "GGCCTAATCGATTTAG-1_1                  8       ExN   \n",
       "TAGTAACGTAGTCAAT-1_1                  2       ExN   \n",
       "GTTAATGTCAAGCTAC-1_1                 11       ExN   \n",
       "ATTTGCAAGGACCTTG-1_1                  1     Oligo   \n",
       "TCAGTAATCCCGCCTA-1_1                 13       ExN   \n",
       "...                                 ...       ...   \n",
       "TGAGGTGCAAGCCACT-1_77                11       OPC   \n",
       "CACTTAAAGTATGTGC-1_106               13       InN   \n",
       "ATTGCGCCATCGCTCC-1_115               13     Oligo   \n",
       "TGTGAAACACCTCGCT-1_117                5       ExN   \n",
       "GAAGCCTGTAGCTAGC-1_132                4        VC   \n",
       "\n",
       "                                                   type  \\\n",
       "cells                                                     \n",
       "GGCCTAATCGATTTAG-1_1                     Mature neurons   \n",
       "TAGTAACGTAGTCAAT-1_1                     Mature neurons   \n",
       "GTTAATGTCAAGCTAC-1_1                     Mature neurons   \n",
       "ATTTGCAAGGACCTTG-1_1                   Oligodendrocytes   \n",
       "TCAGTAATCCCGCCTA-1_1                     Mature neurons   \n",
       "...                                                 ...   \n",
       "TGAGGTGCAAGCCACT-1_77                    Mature neurons   \n",
       "CACTTAAAGTATGTGC-1_106                   Mature neurons   \n",
       "ATTGCGCCATCGCTCC-1_115                   Mature neurons   \n",
       "TGTGAAACACCTCGCT-1_117                 Microglial cells   \n",
       "GAAGCCTGTAGCTAGC-1_132  Oligodendrocyte precursor cells   \n",
       "\n",
       "                                                      tmp  \n",
       "cells                                                      \n",
       "GGCCTAATCGATTTAG-1_1                    ExNMature neurons  \n",
       "TAGTAACGTAGTCAAT-1_1                    ExNMature neurons  \n",
       "GTTAATGTCAAGCTAC-1_1                    ExNMature neurons  \n",
       "ATTTGCAAGGACCTTG-1_1                OligoOligodendrocytes  \n",
       "TCAGTAATCCCGCCTA-1_1                    ExNMature neurons  \n",
       "...                                                   ...  \n",
       "TGAGGTGCAAGCCACT-1_77                   OPCMature neurons  \n",
       "CACTTAAAGTATGTGC-1_106                  InNMature neurons  \n",
       "ATTGCGCCATCGCTCC-1_115                OligoMature neurons  \n",
       "TGTGAAACACCTCGCT-1_117                ExNMicroglial cells  \n",
       "GAAGCCTGTAGCTAGC-1_132  VCOligodendrocyte precursor cells  \n",
       "\n",
       "[86 rows x 4 columns]"
      ]
     },
     "execution_count": 12,
     "metadata": {},
     "output_type": "execute_result"
    }
   ],
   "source": [
    "train_ad.obs[['seurat_clusters','cell_type','type','tmp']].drop_duplicates()\n",
    "\n"
   ]
  },
  {
   "cell_type": "code",
   "execution_count": 12,
   "id": "3e4dc770",
   "metadata": {},
   "outputs": [],
   "source": [
    "SCVI.setup_anndata(train_ad,labels_key=labels_key, batch_key=None) #\"dummy\")\n"
   ]
  },
  {
   "cell_type": "markdown",
   "id": "20f6db22",
   "metadata": {},
   "source": [
    "### load trained scVI"
   ]
  },
  {
   "cell_type": "code",
   "execution_count": 14,
   "id": "0c5863dd",
   "metadata": {},
   "outputs": [
    {
     "name": "stdout",
     "output_type": "stream",
     "text": [
      "\u001b[34mINFO    \u001b[0m File ..\u001b[35m/lbl8r_models/scvi_nobatch/\u001b[0m\u001b[95mmodel.pt\u001b[0m already downloaded          \n"
     ]
    }
   ],
   "source": [
    "\n",
    "vae = SCVI.load(scvi_path.as_posix(),train_ad.copy())\n"
   ]
  },
  {
   "cell_type": "markdown",
   "id": "cdd003f9",
   "metadata": {},
   "source": [
    "--------------\n",
    "## make scVI normalized adata for further testing... i.e. `pcaLBL8R`"
   ]
  },
  {
   "cell_type": "code",
   "execution_count": 27,
   "id": "b4daa3d6",
   "metadata": {},
   "outputs": [
    {
     "name": "stdout",
     "output_type": "stream",
     "text": [
      "(502085, 3000)\n"
     ]
    }
   ],
   "source": [
    "norm_train_ad = make_scvi_normalized_adata(vae, train_ad)\n",
    "norm_train_ad.write_h5ad(data_path / XYLENA_ANNDATA.replace(\".h5ad\", \"_train_scvi_normalized.h5ad\"))\n"
   ]
  },
  {
   "cell_type": "markdown",
   "id": "58deb9d3",
   "metadata": {},
   "source": [
    "## Now make on the latent anndata"
   ]
  },
  {
   "cell_type": "code",
   "execution_count": 28,
   "id": "2d77263c",
   "metadata": {},
   "outputs": [
    {
     "name": "stdout",
     "output_type": "stream",
     "text": [
      "(502085, 20)\n"
     ]
    }
   ],
   "source": [
    "\n",
    "scvi_train_ad = make_latent_adata(vae,train_ad, return_dist=True)\n",
    "scvi_train_ad.write_h5ad(data_path / XYLENA_ANNDATA.replace(\".h5ad\", \"_train_scVI_lat.h5ad\"))\n",
    "del scvi_train_ad\n"
   ]
  },
  {
   "cell_type": "code",
   "execution_count": 29,
   "id": "e887916e",
   "metadata": {},
   "outputs": [
    {
     "name": "stdout",
     "output_type": "stream",
     "text": [
      "(502085, 10)\n"
     ]
    }
   ],
   "source": [
    "\n",
    "scvi_train_ad_mu = make_latent_adata(vae,train_ad, return_dist=False)\n",
    "scvi_train_ad_mu.write_h5ad(data_path / XYLENA_ANNDATA.replace(\".h5ad\", \"_train_scVImu_lat.h5ad\"))\n",
    "del scvi_train_ad_mu\n"
   ]
  },
  {
   "cell_type": "markdown",
   "id": "0f3e590c",
   "metadata": {},
   "source": [
    "## PCA `AnnData` files"
   ]
  },
  {
   "cell_type": "code",
   "execution_count": 30,
   "id": "0ba88d1a",
   "metadata": {},
   "outputs": [
    {
     "name": "stderr",
     "output_type": "stream",
     "text": [
      "/Users/ergonyc/Projects/SingleCell/anndata/anndata/_core/anndata.py:522: FutureWarning: The dtype argument is deprecated and will be removed in late 2024.\n",
      "  warnings.warn(\n"
     ]
    },
    {
     "name": "stdout",
     "output_type": "stream",
     "text": [
      "(502085, 50)\n"
     ]
    }
   ],
   "source": [
    "loadings_train_ad = make_pc_loading_adata( train_ad)\n",
    "loadings_train_ad.write_h5ad(data_path / XYLENA_ANNDATA.replace(\".h5ad\", \"_train_pca.h5ad\"))\n"
   ]
  },
  {
   "cell_type": "code",
   "execution_count": 31,
   "id": "b4806439",
   "metadata": {},
   "outputs": [
    {
     "name": "stderr",
     "output_type": "stream",
     "text": [
      "/Users/ergonyc/Projects/SingleCell/anndata/anndata/_core/anndata.py:522: FutureWarning: The dtype argument is deprecated and will be removed in late 2024.\n",
      "  warnings.warn(\n"
     ]
    },
    {
     "name": "stdout",
     "output_type": "stream",
     "text": [
      "(502085, 50)\n"
     ]
    }
   ],
   "source": [
    "norm_loadings_train_ad = make_pc_loading_adata( norm_train_ad)\n",
    "norm_loadings_train_ad.write_h5ad(data_path / XYLENA_ANNDATA.replace(\".h5ad\", \"_train_scvi_normalized_pca.h5ad\"))\n"
   ]
  },
  {
   "cell_type": "markdown",
   "id": "65acbe3b",
   "metadata": {},
   "source": [
    "------------------\n",
    "Now test data\n",
    "\n",
    "1. setup anndata\n",
    "2. get scVI normalized expression\n",
    "3. get scVI latents\n",
    "\n"
   ]
  },
  {
   "cell_type": "code",
   "execution_count": 17,
   "id": "aebf6620",
   "metadata": {},
   "outputs": [],
   "source": [
    "filen = data_path / XYLENA_TEST\n",
    "test_ad = ad.read_h5ad(filen)\n"
   ]
  },
  {
   "cell_type": "code",
   "execution_count": 18,
   "id": "2e85e774",
   "metadata": {},
   "outputs": [
    {
     "data": {
      "text/plain": [
       "AnnData object with n_obs × n_vars = 502085 × 3000\n",
       "    obs: 'seurat_clusters', 'cell_type', 'sample', 'doublet_score', 'nCount_RNA', 'nFeature_RNA', 'percent.mt', 'percent.rb', 'batch', 'S.Score', 'G2M.Score', 'Phase', 'RNA_snn_res.0.3', 'ExN1', 'InN2', 'MG3', 'Astro4', 'Oligo5', 'OPC6', 'VC7', 'type', 'UMAP_1', 'UMAP_2', 'clean', 'test', 'train', 'tmp'\n",
       "    var: 'feat'"
      ]
     },
     "execution_count": 18,
     "metadata": {},
     "output_type": "execute_result"
    }
   ],
   "source": [
    "test_ad"
   ]
  },
  {
   "cell_type": "code",
   "execution_count": 33,
   "id": "de57316e",
   "metadata": {},
   "outputs": [],
   "source": [
    "SCVI.setup_anndata(test_ad.copy(),labels_key=labels_key, batch_key=None) #\"dummy\")\n"
   ]
  },
  {
   "cell_type": "code",
   "execution_count": 34,
   "id": "642a4673",
   "metadata": {},
   "outputs": [
    {
     "name": "stdout",
     "output_type": "stream",
     "text": [
      "\u001b[34mINFO    \u001b[0m Input AnnData not setup with scvi-tools. attempting to transfer AnnData\n",
      "         setup                                                                  \n",
      "(502085, 3000)\n"
     ]
    }
   ],
   "source": [
    "\n",
    "norm_test_ad = make_scvi_normalized_adata(vae, test_ad)\n",
    "norm_test_ad.write_h5ad(data_path / XYLENA_ANNDATA.replace(\".h5ad\", \"_test_scvi_normalized.h5ad\"))\n",
    "\n"
   ]
  },
  {
   "cell_type": "code",
   "execution_count": 35,
   "id": "cd82430f",
   "metadata": {},
   "outputs": [
    {
     "name": "stdout",
     "output_type": "stream",
     "text": [
      "(502085, 20)\n"
     ]
    }
   ],
   "source": [
    "scVIqzmd_test_ad = make_latent_adata(vae,test_ad, return_dist=True)\n",
    "scVIqzmd_test_ad.write_h5ad(data_path / XYLENA_ANNDATA.replace(\".h5ad\", \"_test_scVI_qzmv.h5ad\"))\n",
    "\n",
    "del scVIqzmd_test_ad\n",
    "\n"
   ]
  },
  {
   "cell_type": "code",
   "execution_count": 36,
   "id": "9556075f",
   "metadata": {},
   "outputs": [
    {
     "name": "stdout",
     "output_type": "stream",
     "text": [
      "(502085, 10)\n"
     ]
    }
   ],
   "source": [
    "scVIz_test_ad = make_latent_adata(vae, test_ad, return_dist=False)\n",
    "scVIz_test_ad.write_h5ad(data_path / XYLENA_ANNDATA.replace(\".h5ad\", \"_test_scVI_z.h5ad\"))\n",
    "\n",
    "del scVIz_test_ad\n"
   ]
  },
  {
   "cell_type": "markdown",
   "id": "381d4f58",
   "metadata": {},
   "source": [
    "## PCA `AnnData` files"
   ]
  },
  {
   "cell_type": "code",
   "execution_count": 37,
   "id": "91f5b44b",
   "metadata": {},
   "outputs": [
    {
     "name": "stderr",
     "output_type": "stream",
     "text": [
      "/Users/ergonyc/Projects/SingleCell/anndata/anndata/_core/anndata.py:522: FutureWarning: The dtype argument is deprecated and will be removed in late 2024.\n",
      "  warnings.warn(\n"
     ]
    },
    {
     "name": "stdout",
     "output_type": "stream",
     "text": [
      "(502085, 50)\n"
     ]
    }
   ],
   "source": [
    "loadings_test_ad = make_pc_loading_adata( test_ad)\n",
    "loadings_test_ad.write_h5ad(data_path / XYLENA_ANNDATA.replace(\".h5ad\", \"_test_pca.h5ad\"))\n"
   ]
  },
  {
   "cell_type": "code",
   "execution_count": 38,
   "id": "01d27494",
   "metadata": {},
   "outputs": [
    {
     "name": "stderr",
     "output_type": "stream",
     "text": [
      "/Users/ergonyc/Projects/SingleCell/anndata/anndata/_core/anndata.py:522: FutureWarning: The dtype argument is deprecated and will be removed in late 2024.\n",
      "  warnings.warn(\n"
     ]
    },
    {
     "name": "stdout",
     "output_type": "stream",
     "text": [
      "(502085, 50)\n"
     ]
    }
   ],
   "source": [
    "norm_loadings_test_ad = make_pc_loading_adata( norm_test_ad)\n",
    "norm_loadings_test_ad.write_h5ad(data_path / XYLENA_ANNDATA.replace(\".h5ad\", \"_test_scvi_normalized_pca.h5ad\"))\n"
   ]
  },
  {
   "cell_type": "code",
   "execution_count": null,
   "id": "bd926b5c",
   "metadata": {},
   "outputs": [],
   "source": []
  },
  {
   "cell_type": "code",
   "execution_count": null,
   "id": "dc71e030",
   "metadata": {},
   "outputs": [],
   "source": []
  }
 ],
 "metadata": {
  "kernelspec": {
   "display_name": "Python 3",
   "language": "python",
   "name": "python3"
  },
  "language_info": {
   "codemirror_mode": {
    "name": "ipython",
    "version": 3
   },
   "file_extension": ".py",
   "mimetype": "text/x-python",
   "name": "python",
   "nbconvert_exporter": "python",
   "pygments_lexer": "ipython3",
   "version": "3.11.3"
  }
 },
 "nbformat": 4,
 "nbformat_minor": 5
}
